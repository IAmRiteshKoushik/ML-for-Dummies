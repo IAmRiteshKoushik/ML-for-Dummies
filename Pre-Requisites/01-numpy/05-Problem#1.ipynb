{
 "cells": [
  {
   "attachments": {},
   "cell_type": "markdown",
   "metadata": {},
   "source": [
    "## Problem-01 : Create the following array.\n",
    "#### [1  1  1  1  1]\n",
    "\n",
    "#### [1  0  0  0  1]\n",
    "\n",
    "#### [1  0  9  0  1]\n",
    "\n",
    "#### [1  0  0  0  1]\n",
    "\n",
    "#### [1  1  1  1  1]"
   ]
  },
  {
   "cell_type": "code",
   "execution_count": 1,
   "metadata": {},
   "outputs": [],
   "source": [
    "import numpy as np"
   ]
  },
  {
   "attachments": {},
   "cell_type": "markdown",
   "metadata": {},
   "source": [
    "Solution"
   ]
  },
  {
   "cell_type": "code",
   "execution_count": 5,
   "metadata": {},
   "outputs": [
    {
     "name": "stdout",
     "output_type": "stream",
     "text": [
      "[[1 1 1 1 1]\n",
      " [1 0 0 0 1]\n",
      " [1 0 9 0 1]\n",
      " [1 0 0 0 1]\n",
      " [1 1 1 1 1]]\n"
     ]
    }
   ],
   "source": [
    "# Creating a 5x5 array full of ones\n",
    "output = np.ones((5,5), dtype='int')\n",
    "\n",
    "# Creating an array full of zeroes and changing \n",
    "# the central element to 9\n",
    "z = np.zeros((3,3), dtype='int')\n",
    "z[1,1] = 9\n",
    "\n",
    "# Replacing the center part of the 5x5 matrix with\n",
    "# the 3x3 matrix\n",
    "output[1:4, 1:4] = z\n",
    "print(output)"
   ]
  }
 ],
 "metadata": {
  "kernelspec": {
   "display_name": "Python 3",
   "language": "python",
   "name": "python3"
  },
  "language_info": {
   "codemirror_mode": {
    "name": "ipython",
    "version": 3
   },
   "file_extension": ".py",
   "mimetype": "text/x-python",
   "name": "python",
   "nbconvert_exporter": "python",
   "pygments_lexer": "ipython3",
   "version": "3.10.6"
  },
  "orig_nbformat": 4,
  "vscode": {
   "interpreter": {
    "hash": "d7e410dc67d578c8698c9b55314ba48dde4e2735fcbe3e6d214f7bde2f027bbb"
   }
  }
 },
 "nbformat": 4,
 "nbformat_minor": 2
}
