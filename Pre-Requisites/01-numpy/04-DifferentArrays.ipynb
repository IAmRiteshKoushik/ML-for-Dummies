{
 "cells": [
  {
   "attachments": {},
   "cell_type": "markdown",
   "metadata": {},
   "source": [
    "# Initializing Different Types of Arrays"
   ]
  },
  {
   "cell_type": "code",
   "execution_count": 2,
   "metadata": {},
   "outputs": [],
   "source": [
    "import numpy as np"
   ]
  },
  {
   "attachments": {},
   "cell_type": "markdown",
   "metadata": {},
   "source": [
    "In order to create a matrix full of zeroes (with decimal point) use the ```np.zeroes``` function. "
   ]
  },
  {
   "cell_type": "code",
   "execution_count": 13,
   "metadata": {},
   "outputs": [
    {
     "data": {
      "text/plain": [
       "array([[0., 0., 0.],\n",
       "       [0., 0., 0.]])"
      ]
     },
     "execution_count": 13,
     "metadata": {},
     "output_type": "execute_result"
    }
   ],
   "source": [
    "# All 0s matrix\n",
    "a = np.zeros((2,3)) # Specify the mxn of the matrix\n",
    "a"
   ]
  },
  {
   "attachments": {},
   "cell_type": "markdown",
   "metadata": {},
   "source": [
    "In order to create a matrix full of ones (with decimal point) use the ```np.ones``` function. "
   ]
  },
  {
   "cell_type": "code",
   "execution_count": 5,
   "metadata": {},
   "outputs": [
    {
     "data": {
      "text/plain": [
       "array([[[1., 1.],\n",
       "        [1., 1.]],\n",
       "\n",
       "       [[1., 1.],\n",
       "        [1., 1.]],\n",
       "\n",
       "       [[1., 1.],\n",
       "        [1., 1.]],\n",
       "\n",
       "       [[1., 1.],\n",
       "        [1., 1.]]])"
      ]
     },
     "execution_count": 5,
     "metadata": {},
     "output_type": "execute_result"
    }
   ],
   "source": [
    "# All 1s matrix\n",
    "np.ones((4,2,2)) \n",
    "\n",
    "# You can also specify int32 in order to remove the decimal point"
   ]
  },
  {
   "cell_type": "code",
   "execution_count": 9,
   "metadata": {},
   "outputs": [
    {
     "data": {
      "text/plain": [
       "array([[69., 69.],\n",
       "       [69., 69.]])"
      ]
     },
     "execution_count": 9,
     "metadata": {},
     "output_type": "execute_result"
    }
   ],
   "source": [
    "# Any other number (for example 69)\n",
    "np.full((2,2), 69, dtype=float)"
   ]
  },
  {
   "attachments": {},
   "cell_type": "markdown",
   "metadata": {},
   "source": [
    "In the above cell, the shape of the array need not be specified as numbers but can be specified from ```array_name.shape``` as well. \n",
    "\n",
    "The syntax is ```np.full(reference_array.shape, number)```\n",
    "\n",
    "The syntax is ```np.full_like(reference_array, number)```"
   ]
  },
  {
   "attachments": {},
   "cell_type": "markdown",
   "metadata": {},
   "source": [
    "### Generating Random Decimal Numbers\n",
    "If we want a matrix of m rows and m columns then we can specify ```np.random.rand(m, n)```"
   ]
  },
  {
   "cell_type": "code",
   "execution_count": 10,
   "metadata": {},
   "outputs": [
    {
     "data": {
      "text/plain": [
       "array([[0.07153784, 0.75491759],\n",
       "       [0.53912746, 0.2784532 ],\n",
       "       [0.45493223, 0.41138164],\n",
       "       [0.98276943, 0.25266735]])"
      ]
     },
     "execution_count": 10,
     "metadata": {},
     "output_type": "execute_result"
    }
   ],
   "source": [
    "np.random.rand(4,2)"
   ]
  },
  {
   "attachments": {},
   "cell_type": "markdown",
   "metadata": {},
   "source": [
    "If you are interested in creating an array which copies the shape of another array, then it can be achieved with ```np.random.random_sample(reference_array.shape)```"
   ]
  },
  {
   "cell_type": "code",
   "execution_count": 14,
   "metadata": {},
   "outputs": [
    {
     "data": {
      "text/plain": [
       "array([[0.61488957, 0.40017764, 0.45570139],\n",
       "       [0.46857377, 0.59077267, 0.19067539]])"
      ]
     },
     "execution_count": 14,
     "metadata": {},
     "output_type": "execute_result"
    }
   ],
   "source": [
    "np.random.random_sample(a.shape)"
   ]
  },
  {
   "attachments": {},
   "cell_type": "markdown",
   "metadata": {},
   "source": [
    "Do notice how all the values lie between 0 to 1. But what is you wanted random integer values. You can unitlize the ```randint``` function"
   ]
  },
  {
   "cell_type": "code",
   "execution_count": 15,
   "metadata": {},
   "outputs": [
    {
     "data": {
      "text/plain": [
       "array([[5, 5, 4],\n",
       "       [4, 5, 5],\n",
       "       [2, 1, 1]])"
      ]
     },
     "execution_count": 15,
     "metadata": {},
     "output_type": "execute_result"
    }
   ],
   "source": [
    "np.random.randint(7, size=(3, 3))\n",
    "# Even though the parameter is called size here, it is shape. (Weird anomaly)"
   ]
  },
  {
   "attachments": {},
   "cell_type": "markdown",
   "metadata": {},
   "source": [
    "You can further change the range of the numbers to be included in the randomly generated array as follows :\n",
    "\n",
    "```randint(x, size=(m, n))``` means that your range is either (0, x) or (x, 0) depending on whether it is a negative or positive value.\n",
    " \n",
    "```randitn(x, y, size=(m, n))```means that your range is (x, y) with x being the smaller value and y being the bigger value"
   ]
  },
  {
   "cell_type": "code",
   "execution_count": 20,
   "metadata": {},
   "outputs": [
    {
     "data": {
      "text/plain": [
       "array([[ 6, -3, -4],\n",
       "       [ 1, -2,  0],\n",
       "       [-4,  7,  0]])"
      ]
     },
     "execution_count": 20,
     "metadata": {},
     "output_type": "execute_result"
    }
   ],
   "source": [
    "np.random.randint(-4, 8, size=(3,3))"
   ]
  },
  {
   "attachments": {},
   "cell_type": "markdown",
   "metadata": {},
   "source": [
    "You can generate an identity matrix by specifying the number of elements per row or column you need. By default, the identity matrix is a square matrix. The function for that is -- ```identity(x)```"
   ]
  },
  {
   "cell_type": "code",
   "execution_count": 23,
   "metadata": {},
   "outputs": [
    {
     "data": {
      "text/plain": [
       "array([[1, 0, 0, 0, 0],\n",
       "       [0, 1, 0, 0, 0],\n",
       "       [0, 0, 1, 0, 0],\n",
       "       [0, 0, 0, 1, 0],\n",
       "       [0, 0, 0, 0, 1]], dtype=int8)"
      ]
     },
     "execution_count": 23,
     "metadata": {},
     "output_type": "execute_result"
    }
   ],
   "source": [
    "np.identity(5, dtype=\"int8\")\n",
    "\n",
    "# If int8 is not mentioned then this would show decimal values as well. "
   ]
  },
  {
   "attachments": {},
   "cell_type": "markdown",
   "metadata": {},
   "source": [
    "### Repeating Elements in Array\n",
    "Sometimes arrays repeat certain elements which numpy can auto generate as follows :"
   ]
  },
  {
   "cell_type": "code",
   "execution_count": 29,
   "metadata": {},
   "outputs": [
    {
     "name": "stdout",
     "output_type": "stream",
     "text": [
      "--Axis 0--\n",
      "[[1 2 3]\n",
      " [1 2 3]\n",
      " [1 2 3]]\n",
      "--Axis 1--\n",
      "[[1 1 1 2 2 2 3 3 3]]\n"
     ]
    }
   ],
   "source": [
    "arr = np.array([[1,2,3]])\n",
    "print(\"--Axis 0--\")\n",
    "r1 = np.repeat(arr, 3, axis=0)\n",
    "print(r1)\n",
    "print(\"--Axis 1--\")\n",
    "r1 = np.repeat(arr, 3, axis=1)\n",
    "print(r1)\n",
    "\n",
    "\n",
    "# print(\"Axis 2\\n\")\n",
    "# r1 = np.repeat(arr, 3, axis=2)\n"
   ]
  },
  {
   "attachments": {},
   "cell_type": "markdown",
   "metadata": {},
   "source": [
    "Note : \n",
    "\n",
    "```Axis = 0;``` is Repeating vertically as different rows\n",
    "\n",
    "```Axis = 1;``` is Repeating horizontally as different columns adjacently. \n",
    "\n",
    "More axis can be added by not for 2 dimensional arrays, For n-dimensional arrays, n axis can be added "
   ]
  }
 ],
 "metadata": {
  "kernelspec": {
   "display_name": "Python 3",
   "language": "python",
   "name": "python3"
  },
  "language_info": {
   "codemirror_mode": {
    "name": "ipython",
    "version": 3
   },
   "file_extension": ".py",
   "mimetype": "text/x-python",
   "name": "python",
   "nbconvert_exporter": "python",
   "pygments_lexer": "ipython3",
   "version": "3.10.6"
  },
  "orig_nbformat": 4,
  "vscode": {
   "interpreter": {
    "hash": "d7e410dc67d578c8698c9b55314ba48dde4e2735fcbe3e6d214f7bde2f027bbb"
   }
  }
 },
 "nbformat": 4,
 "nbformat_minor": 2
}
