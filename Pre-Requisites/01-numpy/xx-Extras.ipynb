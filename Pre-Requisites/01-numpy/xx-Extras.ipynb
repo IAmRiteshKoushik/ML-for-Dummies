{
 "cells": [
  {
   "attachments": {},
   "cell_type": "markdown",
   "metadata": {},
   "source": [
    "##### Array Creating Routines\n",
    "https://numpy.org/doc/stable/reference/routines.array-creation.html\n",
    "\n",
    "##### Math Routines\n",
    "https://numpy.org/doc/stable/reference/routines.math.html\n",
    "\n",
    "##### Linear Algebra Documentation\n",
    "https://numpy.org/doc/stable/reference/routines.linalg.html\n",
    "\n",
    "##### 100-Numpy Exercises (for Practice)\n",
    "https://github.com/rougier/numpy-100/blob/master/100_Numpy_exercises.ipynb\n"
   ]
  }
 ],
 "metadata": {
  "kernelspec": {
   "display_name": "Python 3",
   "language": "python",
   "name": "python3"
  },
  "language_info": {
   "name": "python",
   "version": "3.10.6 (tags/v3.10.6:9c7b4bd, Aug  1 2022, 21:53:49) [MSC v.1932 64 bit (AMD64)]"
  },
  "orig_nbformat": 4,
  "vscode": {
   "interpreter": {
    "hash": "d7e410dc67d578c8698c9b55314ba48dde4e2735fcbe3e6d214f7bde2f027bbb"
   }
  }
 },
 "nbformat": 4,
 "nbformat_minor": 2
}
