{
  "cells": [
    {
      "cell_type": "markdown",
      "metadata": {
        "id": "acbetMKBt825"
      },
      "source": [
        "<div align=\"center\">\n",
        "<h1><img width=\"30\" src=\"https://madewithml.com/static/images/rounded_logo.png\">&nbsp;<a href=\"https://madewithml.com/\">Made With ML</a></h1>\n",
        "Applied ML · MLOps · Production\n",
        "<br>\n",
        "Join 30K+ developers in learning how to responsibly <a href=\"https://madewithml.com/about/\">deliver value</a> with ML.\n",
        "    <br>\n",
        "</div>\n",
        "\n",
        "<br>\n",
        "\n",
        "<div align=\"center\">\n",
        "    <a target=\"_blank\" href=\"https://madewithml.com\"><img src=\"https://img.shields.io/badge/Subscribe-30K-brightgreen\"></a>&nbsp;\n",
        "    <a target=\"_blank\" href=\"https://github.com/GokuMohandas/MadeWithML\"><img src=\"https://img.shields.io/github/stars/GokuMohandas/MadeWithML.svg?style=social&label=Star\"></a>&nbsp;\n",
        "    <a target=\"_blank\" href=\"https://www.linkedin.com/in/goku\"><img src=\"https://img.shields.io/badge/style--5eba00.svg?label=LinkedIn&logo=linkedin&style=social\"></a>&nbsp;\n",
        "    <a target=\"_blank\" href=\"https://twitter.com/GokuMohandas\"><img src=\"https://img.shields.io/twitter/follow/GokuMohandas.svg?label=Follow&style=social\"></a>\n",
        "    <br>\n",
        "    🔥&nbsp; Among the <a href=\"https://github.com/GokuMohandas/MadeWithML\" target=\"_blank\">top MLOps</a> repositories on GitHub\n",
        "</div>\n",
        "\n",
        "<br>\n",
        "<hr>"
      ]
    },
    {
      "cell_type": "markdown",
      "metadata": {
        "id": "oh-HuNfDrPg0"
      },
      "source": [
        "This notebooks contains the code for the 🔢&nbsp; Data and 📈&nbsp; Modeling lessons. After this proof of concept (PoC), we'll be moving all of this code to Python scripts and add interfacing, testing, etc. Follow the accompanying [lessons](https://madewithml.com/courses/mlops) as opposed to just running the code here to really develop an intuition for all concepts."
      ]
    },
    {
      "cell_type": "markdown",
      "metadata": {
        "id": "XTNsIiUrqoJW"
      },
      "source": [
        "<div align=\"left\">\n",
        "<a target=\"_blank\" href=\"https://madewithml.com/#mlops\"><img src=\"https://img.shields.io/badge/📖 Read-lessons-9cf\"></a>&nbsp;\n",
        "<a href=\"https://github.com/GokuMohandas/mlops-course/blob/main/notebooks/tagifai.ipynb\" role=\"button\"><img src=\"https://img.shields.io/static/v1?label=&amp;message=View%20On%20GitHub&amp;color=586069&amp;logo=github&amp;labelColor=2f363d\"></a>&nbsp;\n",
        "<a href=\"https://colab.research.google.com/github/GokuMohandas/mlops-course/blob/main/notebooks/tagifai.ipynb\"><img src=\"https://colab.research.google.com/assets/colab-badge.svg\" alt=\"Open In Colab\"></a>\n",
        "</div>"
      ]
    },
    {
      "cell_type": "markdown",
      "metadata": {
        "id": "sTfxIhHL-oxI"
      },
      "source": [
        "> We highly recommend running this notebook on [Google Colab](https://colab.research.google.com/github/GokuMohandas/mlops-course/blob/main/notebooks/tagifai.ipynb) but if you want to run locally, you'll need to install the following:\n",
        "```python\n",
        "!pip install numpy==1.19.5 pandas==1.3.5 ipywidgets==7.7.0 \\\n",
        "             matplotlib==3.5.2 seaborn==0.11.2 wordcloud==1.8.1 \\\n",
        "             scikit-learn==0.24.2 -q\n",
        "```"
      ]
    },
    {
      "cell_type": "markdown",
      "metadata": {
        "id": "lbqAqitENkSU"
      },
      "source": [
        "# 🔢&nbsp; Data"
      ]
    },
    {
      "cell_type": "markdown",
      "metadata": {
        "id": "ehvYZottsPpW"
      },
      "source": [
        "## Labeling"
      ]
    },
    {
      "cell_type": "markdown",
      "metadata": {
        "id": "xWHMj0wYHYed"
      },
      "source": [
        "For the purpose of this course, our data is already labeled, so we'll perform a basic version of ETL (extract, transform, load) to construct the labeled dataset. However, labeling can be a time intensive process so it's very important to understand all its different facets so that we can have efficient labeling workflows. Learn more about labeling in our comprehnsive [labeling lesson](https://madewithml.com/courses/mlops/labeling/). \n",
        "\n",
        "We'll start by loading our data assets that we'll be working on. \n",
        "\n",
        "- [projects.csv](https://github.com/GokuMohandas/Made-With-ML/tree/main/datasets/projects.csv): projects with id, created time, title and description.\n",
        "- [tags.csv](https://github.com/GokuMohandas/Made-With-ML/tree/main/datasets/tags.csv): labels (tag category) for the projects by id.\n",
        "\n",
        "> Recall that our [objective](https://madewithml.com/courses/mlops/design#objectives) was to classify incoming content so that the community can discover them easily. These data assets will act as the training data for our first model."
      ]
    },
    {
      "cell_type": "markdown",
      "metadata": {
        "id": "VXEli9wXr58D"
      },
      "source": [
        "**Extract**\n",
        "\n",
        "We'll start by extracting data from our sources (external CSV files). Traditionally, our data assets will be stored, versioned and updated in a database, warehouse, etc. We'll learn more about these different [data systems](https://madewithml.com/courses/mlops/data-stack/) later, but for now, we'll load our data as a stand-alone CSV file."
      ]
    },
    {
      "cell_type": "code",
      "execution_count": null,
      "metadata": {
        "id": "VdrrsquiNkSU"
      },
      "outputs": [],
      "source": [
        "import pandas as pd"
      ]
    },
    {
      "cell_type": "code",
      "execution_count": null,
      "metadata": {
        "colab": {
          "base_uri": "https://localhost:8080/",
          "height": 206
        },
        "id": "WB-2nm6NNkSU",
        "outputId": "97f103c1-4d96-49b3-c18c-10e98371b3f5"
      },
      "outputs": [
        {
          "data": {
            "text/html": [
              "\n",
              "  <div id=\"df-7e43a686-8cda-4d1d-b01b-4543f2cc3e15\">\n",
              "    <div class=\"colab-df-container\">\n",
              "      <div>\n",
              "<style scoped>\n",
              "    .dataframe tbody tr th:only-of-type {\n",
              "        vertical-align: middle;\n",
              "    }\n",
              "\n",
              "    .dataframe tbody tr th {\n",
              "        vertical-align: top;\n",
              "    }\n",
              "\n",
              "    .dataframe thead th {\n",
              "        text-align: right;\n",
              "    }\n",
              "</style>\n",
              "<table border=\"1\" class=\"dataframe\">\n",
              "  <thead>\n",
              "    <tr style=\"text-align: right;\">\n",
              "      <th></th>\n",
              "      <th>id</th>\n",
              "      <th>created_on</th>\n",
              "      <th>title</th>\n",
              "      <th>description</th>\n",
              "    </tr>\n",
              "  </thead>\n",
              "  <tbody>\n",
              "    <tr>\n",
              "      <th>0</th>\n",
              "      <td>6</td>\n",
              "      <td>2020-02-20 06:43:18</td>\n",
              "      <td>Comparison between YOLO and RCNN on real world...</td>\n",
              "      <td>Bringing theory to experiment is cool. We can ...</td>\n",
              "    </tr>\n",
              "    <tr>\n",
              "      <th>1</th>\n",
              "      <td>7</td>\n",
              "      <td>2020-02-20 06:47:21</td>\n",
              "      <td>Show, Infer &amp; Tell: Contextual Inference for C...</td>\n",
              "      <td>The beauty of the work lies in the way it arch...</td>\n",
              "    </tr>\n",
              "    <tr>\n",
              "      <th>2</th>\n",
              "      <td>9</td>\n",
              "      <td>2020-02-24 16:24:45</td>\n",
              "      <td>Awesome Graph Classification</td>\n",
              "      <td>A collection of important graph embedding, cla...</td>\n",
              "    </tr>\n",
              "    <tr>\n",
              "      <th>3</th>\n",
              "      <td>15</td>\n",
              "      <td>2020-02-28 23:55:26</td>\n",
              "      <td>Awesome Monte Carlo Tree Search</td>\n",
              "      <td>A curated list of Monte Carlo tree search pape...</td>\n",
              "    </tr>\n",
              "    <tr>\n",
              "      <th>4</th>\n",
              "      <td>19</td>\n",
              "      <td>2020-03-03 13:54:31</td>\n",
              "      <td>Diffusion to Vector</td>\n",
              "      <td>Reference implementation of Diffusion2Vec (Com...</td>\n",
              "    </tr>\n",
              "  </tbody>\n",
              "</table>\n",
              "</div>\n",
              "      <button class=\"colab-df-convert\" onclick=\"convertToInteractive('df-7e43a686-8cda-4d1d-b01b-4543f2cc3e15')\"\n",
              "              title=\"Convert this dataframe to an interactive table.\"\n",
              "              style=\"display:none;\">\n",
              "        \n",
              "  <svg xmlns=\"http://www.w3.org/2000/svg\" height=\"24px\"viewBox=\"0 0 24 24\"\n",
              "       width=\"24px\">\n",
              "    <path d=\"M0 0h24v24H0V0z\" fill=\"none\"/>\n",
              "    <path d=\"M18.56 5.44l.94 2.06.94-2.06 2.06-.94-2.06-.94-.94-2.06-.94 2.06-2.06.94zm-11 1L8.5 8.5l.94-2.06 2.06-.94-2.06-.94L8.5 2.5l-.94 2.06-2.06.94zm10 10l.94 2.06.94-2.06 2.06-.94-2.06-.94-.94-2.06-.94 2.06-2.06.94z\"/><path d=\"M17.41 7.96l-1.37-1.37c-.4-.4-.92-.59-1.43-.59-.52 0-1.04.2-1.43.59L10.3 9.45l-7.72 7.72c-.78.78-.78 2.05 0 2.83L4 21.41c.39.39.9.59 1.41.59.51 0 1.02-.2 1.41-.59l7.78-7.78 2.81-2.81c.8-.78.8-2.07 0-2.86zM5.41 20L4 18.59l7.72-7.72 1.47 1.35L5.41 20z\"/>\n",
              "  </svg>\n",
              "      </button>\n",
              "      \n",
              "  <style>\n",
              "    .colab-df-container {\n",
              "      display:flex;\n",
              "      flex-wrap:wrap;\n",
              "      gap: 12px;\n",
              "    }\n",
              "\n",
              "    .colab-df-convert {\n",
              "      background-color: #E8F0FE;\n",
              "      border: none;\n",
              "      border-radius: 50%;\n",
              "      cursor: pointer;\n",
              "      display: none;\n",
              "      fill: #1967D2;\n",
              "      height: 32px;\n",
              "      padding: 0 0 0 0;\n",
              "      width: 32px;\n",
              "    }\n",
              "\n",
              "    .colab-df-convert:hover {\n",
              "      background-color: #E2EBFA;\n",
              "      box-shadow: 0px 1px 2px rgba(60, 64, 67, 0.3), 0px 1px 3px 1px rgba(60, 64, 67, 0.15);\n",
              "      fill: #174EA6;\n",
              "    }\n",
              "\n",
              "    [theme=dark] .colab-df-convert {\n",
              "      background-color: #3B4455;\n",
              "      fill: #D2E3FC;\n",
              "    }\n",
              "\n",
              "    [theme=dark] .colab-df-convert:hover {\n",
              "      background-color: #434B5C;\n",
              "      box-shadow: 0px 1px 3px 1px rgba(0, 0, 0, 0.15);\n",
              "      filter: drop-shadow(0px 1px 2px rgba(0, 0, 0, 0.3));\n",
              "      fill: #FFFFFF;\n",
              "    }\n",
              "  </style>\n",
              "\n",
              "      <script>\n",
              "        const buttonEl =\n",
              "          document.querySelector('#df-7e43a686-8cda-4d1d-b01b-4543f2cc3e15 button.colab-df-convert');\n",
              "        buttonEl.style.display =\n",
              "          google.colab.kernel.accessAllowed ? 'block' : 'none';\n",
              "\n",
              "        async function convertToInteractive(key) {\n",
              "          const element = document.querySelector('#df-7e43a686-8cda-4d1d-b01b-4543f2cc3e15');\n",
              "          const dataTable =\n",
              "            await google.colab.kernel.invokeFunction('convertToInteractive',\n",
              "                                                     [key], {});\n",
              "          if (!dataTable) return;\n",
              "\n",
              "          const docLinkHtml = 'Like what you see? Visit the ' +\n",
              "            '<a target=\"_blank\" href=https://colab.research.google.com/notebooks/data_table.ipynb>data table notebook</a>'\n",
              "            + ' to learn more about interactive tables.';\n",
              "          element.innerHTML = '';\n",
              "          dataTable['output_type'] = 'display_data';\n",
              "          await google.colab.output.renderOutput(dataTable, element);\n",
              "          const docLink = document.createElement('div');\n",
              "          docLink.innerHTML = docLinkHtml;\n",
              "          element.appendChild(docLink);\n",
              "        }\n",
              "      </script>\n",
              "    </div>\n",
              "  </div>\n",
              "  "
            ],
            "text/plain": [
              "   id           created_on                                              title  \\\n",
              "0   6  2020-02-20 06:43:18  Comparison between YOLO and RCNN on real world...   \n",
              "1   7  2020-02-20 06:47:21  Show, Infer & Tell: Contextual Inference for C...   \n",
              "2   9  2020-02-24 16:24:45                       Awesome Graph Classification   \n",
              "3  15  2020-02-28 23:55:26                    Awesome Monte Carlo Tree Search   \n",
              "4  19  2020-03-03 13:54:31                                Diffusion to Vector   \n",
              "\n",
              "                                         description  \n",
              "0  Bringing theory to experiment is cool. We can ...  \n",
              "1  The beauty of the work lies in the way it arch...  \n",
              "2  A collection of important graph embedding, cla...  \n",
              "3  A curated list of Monte Carlo tree search pape...  \n",
              "4  Reference implementation of Diffusion2Vec (Com...  "
            ]
          },
          "execution_count": 2,
          "metadata": {},
          "output_type": "execute_result"
        }
      ],
      "source": [
        "# Extract projects\n",
        "PROJECTS_URL = \"https://raw.githubusercontent.com/GokuMohandas/Made-With-ML/main/datasets/projects.csv\"\n",
        "projects = pd.read_csv(PROJECTS_URL)\n",
        "projects.head(5)"
      ]
    },
    {
      "cell_type": "markdown",
      "metadata": {
        "id": "6oqbgBSmPseX"
      },
      "source": [
        "We'll also load the labels (tag category) for our projects."
      ]
    },
    {
      "cell_type": "code",
      "execution_count": null,
      "metadata": {
        "colab": {
          "base_uri": "https://localhost:8080/",
          "height": 206
        },
        "id": "_D5xE4efHJKU",
        "outputId": "f811a9e8-7d11-4222-aad4-ee23da9c1b33"
      },
      "outputs": [
        {
          "data": {
            "text/html": [
              "\n",
              "  <div id=\"df-b1c6f89e-8663-4ff7-ad7d-6783f20386b6\">\n",
              "    <div class=\"colab-df-container\">\n",
              "      <div>\n",
              "<style scoped>\n",
              "    .dataframe tbody tr th:only-of-type {\n",
              "        vertical-align: middle;\n",
              "    }\n",
              "\n",
              "    .dataframe tbody tr th {\n",
              "        vertical-align: top;\n",
              "    }\n",
              "\n",
              "    .dataframe thead th {\n",
              "        text-align: right;\n",
              "    }\n",
              "</style>\n",
              "<table border=\"1\" class=\"dataframe\">\n",
              "  <thead>\n",
              "    <tr style=\"text-align: right;\">\n",
              "      <th></th>\n",
              "      <th>id</th>\n",
              "      <th>tag</th>\n",
              "    </tr>\n",
              "  </thead>\n",
              "  <tbody>\n",
              "    <tr>\n",
              "      <th>0</th>\n",
              "      <td>6</td>\n",
              "      <td>computer-vision</td>\n",
              "    </tr>\n",
              "    <tr>\n",
              "      <th>1</th>\n",
              "      <td>7</td>\n",
              "      <td>computer-vision</td>\n",
              "    </tr>\n",
              "    <tr>\n",
              "      <th>2</th>\n",
              "      <td>9</td>\n",
              "      <td>graph-learning</td>\n",
              "    </tr>\n",
              "    <tr>\n",
              "      <th>3</th>\n",
              "      <td>15</td>\n",
              "      <td>reinforcement-learning</td>\n",
              "    </tr>\n",
              "    <tr>\n",
              "      <th>4</th>\n",
              "      <td>19</td>\n",
              "      <td>graph-learning</td>\n",
              "    </tr>\n",
              "  </tbody>\n",
              "</table>\n",
              "</div>\n",
              "      <button class=\"colab-df-convert\" onclick=\"convertToInteractive('df-b1c6f89e-8663-4ff7-ad7d-6783f20386b6')\"\n",
              "              title=\"Convert this dataframe to an interactive table.\"\n",
              "              style=\"display:none;\">\n",
              "        \n",
              "  <svg xmlns=\"http://www.w3.org/2000/svg\" height=\"24px\"viewBox=\"0 0 24 24\"\n",
              "       width=\"24px\">\n",
              "    <path d=\"M0 0h24v24H0V0z\" fill=\"none\"/>\n",
              "    <path d=\"M18.56 5.44l.94 2.06.94-2.06 2.06-.94-2.06-.94-.94-2.06-.94 2.06-2.06.94zm-11 1L8.5 8.5l.94-2.06 2.06-.94-2.06-.94L8.5 2.5l-.94 2.06-2.06.94zm10 10l.94 2.06.94-2.06 2.06-.94-2.06-.94-.94-2.06-.94 2.06-2.06.94z\"/><path d=\"M17.41 7.96l-1.37-1.37c-.4-.4-.92-.59-1.43-.59-.52 0-1.04.2-1.43.59L10.3 9.45l-7.72 7.72c-.78.78-.78 2.05 0 2.83L4 21.41c.39.39.9.59 1.41.59.51 0 1.02-.2 1.41-.59l7.78-7.78 2.81-2.81c.8-.78.8-2.07 0-2.86zM5.41 20L4 18.59l7.72-7.72 1.47 1.35L5.41 20z\"/>\n",
              "  </svg>\n",
              "      </button>\n",
              "      \n",
              "  <style>\n",
              "    .colab-df-container {\n",
              "      display:flex;\n",
              "      flex-wrap:wrap;\n",
              "      gap: 12px;\n",
              "    }\n",
              "\n",
              "    .colab-df-convert {\n",
              "      background-color: #E8F0FE;\n",
              "      border: none;\n",
              "      border-radius: 50%;\n",
              "      cursor: pointer;\n",
              "      display: none;\n",
              "      fill: #1967D2;\n",
              "      height: 32px;\n",
              "      padding: 0 0 0 0;\n",
              "      width: 32px;\n",
              "    }\n",
              "\n",
              "    .colab-df-convert:hover {\n",
              "      background-color: #E2EBFA;\n",
              "      box-shadow: 0px 1px 2px rgba(60, 64, 67, 0.3), 0px 1px 3px 1px rgba(60, 64, 67, 0.15);\n",
              "      fill: #174EA6;\n",
              "    }\n",
              "\n",
              "    [theme=dark] .colab-df-convert {\n",
              "      background-color: #3B4455;\n",
              "      fill: #D2E3FC;\n",
              "    }\n",
              "\n",
              "    [theme=dark] .colab-df-convert:hover {\n",
              "      background-color: #434B5C;\n",
              "      box-shadow: 0px 1px 3px 1px rgba(0, 0, 0, 0.15);\n",
              "      filter: drop-shadow(0px 1px 2px rgba(0, 0, 0, 0.3));\n",
              "      fill: #FFFFFF;\n",
              "    }\n",
              "  </style>\n",
              "\n",
              "      <script>\n",
              "        const buttonEl =\n",
              "          document.querySelector('#df-b1c6f89e-8663-4ff7-ad7d-6783f20386b6 button.colab-df-convert');\n",
              "        buttonEl.style.display =\n",
              "          google.colab.kernel.accessAllowed ? 'block' : 'none';\n",
              "\n",
              "        async function convertToInteractive(key) {\n",
              "          const element = document.querySelector('#df-b1c6f89e-8663-4ff7-ad7d-6783f20386b6');\n",
              "          const dataTable =\n",
              "            await google.colab.kernel.invokeFunction('convertToInteractive',\n",
              "                                                     [key], {});\n",
              "          if (!dataTable) return;\n",
              "\n",
              "          const docLinkHtml = 'Like what you see? Visit the ' +\n",
              "            '<a target=\"_blank\" href=https://colab.research.google.com/notebooks/data_table.ipynb>data table notebook</a>'\n",
              "            + ' to learn more about interactive tables.';\n",
              "          element.innerHTML = '';\n",
              "          dataTable['output_type'] = 'display_data';\n",
              "          await google.colab.output.renderOutput(dataTable, element);\n",
              "          const docLink = document.createElement('div');\n",
              "          docLink.innerHTML = docLinkHtml;\n",
              "          element.appendChild(docLink);\n",
              "        }\n",
              "      </script>\n",
              "    </div>\n",
              "  </div>\n",
              "  "
            ],
            "text/plain": [
              "   id                     tag\n",
              "0   6         computer-vision\n",
              "1   7         computer-vision\n",
              "2   9          graph-learning\n",
              "3  15  reinforcement-learning\n",
              "4  19          graph-learning"
            ]
          },
          "execution_count": 3,
          "metadata": {},
          "output_type": "execute_result"
        }
      ],
      "source": [
        "# Extract tags\n",
        "TAGS_URL = \"https://raw.githubusercontent.com/GokuMohandas/Made-With-ML/main/datasets/tags.csv\"\n",
        "tags = pd.read_csv(TAGS_URL)\n",
        "tags.head(5)"
      ]
    },
    {
      "cell_type": "markdown",
      "metadata": {
        "id": "sDQSvqC2DGwQ"
      },
      "source": [
        "**Transform**\n",
        "\n",
        "Apply basic transformations to create our labeled dataset."
      ]
    },
    {
      "cell_type": "code",
      "execution_count": null,
      "metadata": {
        "colab": {
          "base_uri": "https://localhost:8080/",
          "height": 206
        },
        "id": "v_TXbrshDPeQ",
        "outputId": "90af8f6d-1d86-4868-a329-2d50cc17ba98"
      },
      "outputs": [
        {
          "data": {
            "text/html": [
              "\n",
              "  <div id=\"df-dfef63e8-b820-4210-a6ea-82ec979f4480\">\n",
              "    <div class=\"colab-df-container\">\n",
              "      <div>\n",
              "<style scoped>\n",
              "    .dataframe tbody tr th:only-of-type {\n",
              "        vertical-align: middle;\n",
              "    }\n",
              "\n",
              "    .dataframe tbody tr th {\n",
              "        vertical-align: top;\n",
              "    }\n",
              "\n",
              "    .dataframe thead th {\n",
              "        text-align: right;\n",
              "    }\n",
              "</style>\n",
              "<table border=\"1\" class=\"dataframe\">\n",
              "  <thead>\n",
              "    <tr style=\"text-align: right;\">\n",
              "      <th></th>\n",
              "      <th>id</th>\n",
              "      <th>created_on</th>\n",
              "      <th>title</th>\n",
              "      <th>description</th>\n",
              "      <th>tag</th>\n",
              "    </tr>\n",
              "  </thead>\n",
              "  <tbody>\n",
              "    <tr>\n",
              "      <th>0</th>\n",
              "      <td>6</td>\n",
              "      <td>2020-02-20 06:43:18</td>\n",
              "      <td>Comparison between YOLO and RCNN on real world...</td>\n",
              "      <td>Bringing theory to experiment is cool. We can ...</td>\n",
              "      <td>computer-vision</td>\n",
              "    </tr>\n",
              "    <tr>\n",
              "      <th>1</th>\n",
              "      <td>7</td>\n",
              "      <td>2020-02-20 06:47:21</td>\n",
              "      <td>Show, Infer &amp; Tell: Contextual Inference for C...</td>\n",
              "      <td>The beauty of the work lies in the way it arch...</td>\n",
              "      <td>computer-vision</td>\n",
              "    </tr>\n",
              "    <tr>\n",
              "      <th>2</th>\n",
              "      <td>9</td>\n",
              "      <td>2020-02-24 16:24:45</td>\n",
              "      <td>Awesome Graph Classification</td>\n",
              "      <td>A collection of important graph embedding, cla...</td>\n",
              "      <td>graph-learning</td>\n",
              "    </tr>\n",
              "    <tr>\n",
              "      <th>3</th>\n",
              "      <td>15</td>\n",
              "      <td>2020-02-28 23:55:26</td>\n",
              "      <td>Awesome Monte Carlo Tree Search</td>\n",
              "      <td>A curated list of Monte Carlo tree search pape...</td>\n",
              "      <td>reinforcement-learning</td>\n",
              "    </tr>\n",
              "    <tr>\n",
              "      <th>4</th>\n",
              "      <td>19</td>\n",
              "      <td>2020-03-03 13:54:31</td>\n",
              "      <td>Diffusion to Vector</td>\n",
              "      <td>Reference implementation of Diffusion2Vec (Com...</td>\n",
              "      <td>graph-learning</td>\n",
              "    </tr>\n",
              "  </tbody>\n",
              "</table>\n",
              "</div>\n",
              "      <button class=\"colab-df-convert\" onclick=\"convertToInteractive('df-dfef63e8-b820-4210-a6ea-82ec979f4480')\"\n",
              "              title=\"Convert this dataframe to an interactive table.\"\n",
              "              style=\"display:none;\">\n",
              "        \n",
              "  <svg xmlns=\"http://www.w3.org/2000/svg\" height=\"24px\"viewBox=\"0 0 24 24\"\n",
              "       width=\"24px\">\n",
              "    <path d=\"M0 0h24v24H0V0z\" fill=\"none\"/>\n",
              "    <path d=\"M18.56 5.44l.94 2.06.94-2.06 2.06-.94-2.06-.94-.94-2.06-.94 2.06-2.06.94zm-11 1L8.5 8.5l.94-2.06 2.06-.94-2.06-.94L8.5 2.5l-.94 2.06-2.06.94zm10 10l.94 2.06.94-2.06 2.06-.94-2.06-.94-.94-2.06-.94 2.06-2.06.94z\"/><path d=\"M17.41 7.96l-1.37-1.37c-.4-.4-.92-.59-1.43-.59-.52 0-1.04.2-1.43.59L10.3 9.45l-7.72 7.72c-.78.78-.78 2.05 0 2.83L4 21.41c.39.39.9.59 1.41.59.51 0 1.02-.2 1.41-.59l7.78-7.78 2.81-2.81c.8-.78.8-2.07 0-2.86zM5.41 20L4 18.59l7.72-7.72 1.47 1.35L5.41 20z\"/>\n",
              "  </svg>\n",
              "      </button>\n",
              "      \n",
              "  <style>\n",
              "    .colab-df-container {\n",
              "      display:flex;\n",
              "      flex-wrap:wrap;\n",
              "      gap: 12px;\n",
              "    }\n",
              "\n",
              "    .colab-df-convert {\n",
              "      background-color: #E8F0FE;\n",
              "      border: none;\n",
              "      border-radius: 50%;\n",
              "      cursor: pointer;\n",
              "      display: none;\n",
              "      fill: #1967D2;\n",
              "      height: 32px;\n",
              "      padding: 0 0 0 0;\n",
              "      width: 32px;\n",
              "    }\n",
              "\n",
              "    .colab-df-convert:hover {\n",
              "      background-color: #E2EBFA;\n",
              "      box-shadow: 0px 1px 2px rgba(60, 64, 67, 0.3), 0px 1px 3px 1px rgba(60, 64, 67, 0.15);\n",
              "      fill: #174EA6;\n",
              "    }\n",
              "\n",
              "    [theme=dark] .colab-df-convert {\n",
              "      background-color: #3B4455;\n",
              "      fill: #D2E3FC;\n",
              "    }\n",
              "\n",
              "    [theme=dark] .colab-df-convert:hover {\n",
              "      background-color: #434B5C;\n",
              "      box-shadow: 0px 1px 3px 1px rgba(0, 0, 0, 0.15);\n",
              "      filter: drop-shadow(0px 1px 2px rgba(0, 0, 0, 0.3));\n",
              "      fill: #FFFFFF;\n",
              "    }\n",
              "  </style>\n",
              "\n",
              "      <script>\n",
              "        const buttonEl =\n",
              "          document.querySelector('#df-dfef63e8-b820-4210-a6ea-82ec979f4480 button.colab-df-convert');\n",
              "        buttonEl.style.display =\n",
              "          google.colab.kernel.accessAllowed ? 'block' : 'none';\n",
              "\n",
              "        async function convertToInteractive(key) {\n",
              "          const element = document.querySelector('#df-dfef63e8-b820-4210-a6ea-82ec979f4480');\n",
              "          const dataTable =\n",
              "            await google.colab.kernel.invokeFunction('convertToInteractive',\n",
              "                                                     [key], {});\n",
              "          if (!dataTable) return;\n",
              "\n",
              "          const docLinkHtml = 'Like what you see? Visit the ' +\n",
              "            '<a target=\"_blank\" href=https://colab.research.google.com/notebooks/data_table.ipynb>data table notebook</a>'\n",
              "            + ' to learn more about interactive tables.';\n",
              "          element.innerHTML = '';\n",
              "          dataTable['output_type'] = 'display_data';\n",
              "          await google.colab.output.renderOutput(dataTable, element);\n",
              "          const docLink = document.createElement('div');\n",
              "          docLink.innerHTML = docLinkHtml;\n",
              "          element.appendChild(docLink);\n",
              "        }\n",
              "      </script>\n",
              "    </div>\n",
              "  </div>\n",
              "  "
            ],
            "text/plain": [
              "   id           created_on                                              title  \\\n",
              "0   6  2020-02-20 06:43:18  Comparison between YOLO and RCNN on real world...   \n",
              "1   7  2020-02-20 06:47:21  Show, Infer & Tell: Contextual Inference for C...   \n",
              "2   9  2020-02-24 16:24:45                       Awesome Graph Classification   \n",
              "3  15  2020-02-28 23:55:26                    Awesome Monte Carlo Tree Search   \n",
              "4  19  2020-03-03 13:54:31                                Diffusion to Vector   \n",
              "\n",
              "                                         description                     tag  \n",
              "0  Bringing theory to experiment is cool. We can ...         computer-vision  \n",
              "1  The beauty of the work lies in the way it arch...         computer-vision  \n",
              "2  A collection of important graph embedding, cla...          graph-learning  \n",
              "3  A curated list of Monte Carlo tree search pape...  reinforcement-learning  \n",
              "4  Reference implementation of Diffusion2Vec (Com...          graph-learning  "
            ]
          },
          "execution_count": 4,
          "metadata": {},
          "output_type": "execute_result"
        }
      ],
      "source": [
        "# Join projects and tags\n",
        "df = pd.merge(projects, tags, on=\"id\")\n",
        "df.head()"
      ]
    },
    {
      "cell_type": "code",
      "execution_count": null,
      "metadata": {
        "id": "sq0Wj0YlHJWj"
      },
      "outputs": [],
      "source": [
        "# Remove projects with no tag\n",
        "df = df[df.tag.notnull()]"
      ]
    },
    {
      "cell_type": "markdown",
      "metadata": {
        "id": "ri-j4fd-s-He"
      },
      "source": [
        "**Load**\n",
        "\n",
        "Finally, we'll load our transformed data locally so that we can use it for our machine learning application."
      ]
    },
    {
      "cell_type": "code",
      "execution_count": null,
      "metadata": {
        "id": "2c3oNd0gtKDu"
      },
      "outputs": [],
      "source": [
        "# Save locally\n",
        "df.to_csv(\"labeled_projects.csv\", index=False)"
      ]
    },
    {
      "cell_type": "markdown",
      "metadata": {
        "id": "WuCrsbxbNkSV"
      },
      "source": [
        "## Exploration (EDA)"
      ]
    },
    {
      "cell_type": "markdown",
      "metadata": {
        "id": "eOJ3nlEgnSTJ"
      },
      "source": [
        "Exploratory data analysis to understand the signals and nuances of our dataset. It's a cyclical process that can be done at various points of our development process (before/after labeling, preprocessing, etc. depending on how well the problem is defined. For example, if we're unsure how to label or preprocess our data, we can use EDA to figure it out."
      ]
    },
    {
      "cell_type": "code",
      "execution_count": null,
      "metadata": {
        "id": "tHdQmqTBNkSV"
      },
      "outputs": [],
      "source": [
        "from collections import Counter\n",
        "import ipywidgets as widgets\n",
        "import matplotlib.pyplot as plt\n",
        "import seaborn as sns\n",
        "import warnings\n",
        "from wordcloud import WordCloud, STOPWORDS\n",
        "sns.set_theme()\n",
        "warnings.filterwarnings(\"ignore\")"
      ]
    },
    {
      "cell_type": "code",
      "execution_count": null,
      "metadata": {
        "colab": {
          "base_uri": "https://localhost:8080/",
          "height": 445
        },
        "id": "5JuX5Ju-NkSV",
        "outputId": "f01ccb90-d2d2-439f-a943-dbb8227ef494"
      },
      "outputs": [
        {
          "data": {
            "image/png": "[encoded data removed]",
            "text/plain": [
              "<Figure size 720x216 with 1 Axes>"
            ]
          },
          "metadata": {},
          "output_type": "display_data"
        }
      ],
      "source": [
        "# Distribution of tags\n",
        "tags, tag_counts = zip(*Counter(df.tag.values).most_common())\n",
        "plt.figure(figsize=(10, 3))\n",
        "ax = sns.barplot(list(tags), list(tag_counts))\n",
        "plt.title(\"Tag distribution\", fontsize=20)\n",
        "plt.xlabel(\"Tag\", fontsize=16)\n",
        "ax.set_xticklabels(tags, rotation=90, fontsize=14)\n",
        "plt.ylabel(\"Number of projects\", fontsize=16)\n",
        "plt.show()"
      ]
    },
    {
      "cell_type": "code",
      "execution_count": null,
      "metadata": {
        "colab": {
          "base_uri": "https://localhost:8080/"
        },
        "id": "Gl-E8d2HaCsx",
        "outputId": "019ede09-e9fd-40ba-fce4-25a2b77a046f"
      },
      "outputs": [
        {
          "data": {
            "text/plain": [
              "[('natural-language-processing', 388),\n",
              " ('computer-vision', 356),\n",
              " ('mlops', 79),\n",
              " ('reinforcement-learning', 56),\n",
              " ('graph-learning', 45),\n",
              " ('time-series', 31)]"
            ]
          },
          "execution_count": 9,
          "metadata": {},
          "output_type": "execute_result"
        }
      ],
      "source": [
        "# Most common tags\n",
        "tags = Counter(df.tag.values)\n",
        "tags.most_common()"
      ]
    },
    {
      "cell_type": "markdown",
      "metadata": {
        "id": "pfjVstecaFC5"
      },
      "source": [
        "> We'll address the [data imbalance](https://madewithml.com/courses/mlops/baselines#data-imbalance) after splitting into our train split and prior to training our model."
      ]
    },
    {
      "cell_type": "code",
      "execution_count": null,
      "metadata": {
        "colab": {
          "base_uri": "https://localhost:8080/",
          "height": 335,
          "referenced_widgets": [
            "82324478663f4833822f33d542b74b84",
            "ecb505e482974449beb4119c351efc80",
            "5e98e2914138439b80a24f4d2c0734df",
            "ad6b2046a65a4273b30157fbbf25cee0",
            "6e775cb0ca5a40c2b2c4f415ecf5c602",
            "f455b05dd6db43198d6b4ebfd1d6a5be",
            "d33fe3196a72435fbb121e03e63f5667"
          ]
        },
        "id": "NgMGuIQrNkSV",
        "outputId": "2c474cd0-ee27-481d-c2ed-4a4ddad21756"
      },
      "outputs": [
        {
          "data": {
            "application/vnd.jupyter.widget-view+json": {
              "model_id": "82324478663f4833822f33d542b74b84",
              "version_major": 2,
              "version_minor": 0
            },
            "text/plain": [
              "interactive(children=(Dropdown(description='tag', index=3, options=('computer-vision', 'graph-learning', 'rein…"
            ]
          },
          "metadata": {},
          "output_type": "display_data"
        }
      ],
      "source": [
        "# Most frequent tokens for each tag\n",
        "@widgets.interact(tag=list(tags))\n",
        "def display_word_cloud(tag=\"natural-language-processing\"):\n",
        "    # Plot word clouds top top tags\n",
        "    plt.figure(figsize=(15, 5))\n",
        "    subset = df[df.tag==tag]\n",
        "    text = subset.title.values\n",
        "    cloud = WordCloud(\n",
        "        stopwords=STOPWORDS, background_color=\"black\", collocations=False,\n",
        "        width=500, height=300).generate(\" \".join(text))\n",
        "    plt.axis(\"off\")\n",
        "    plt.imshow(cloud)"
      ]
    },
    {
      "cell_type": "markdown",
      "metadata": {
        "id": "b8ua3MFhrOaX"
      },
      "source": [
        "Looks like the `title` text feature has some good signal for the respective classes and matches our intuition. We can repeat this for the `description` text feature as well. This information will become useful when we decide how to use our features for modeling."
      ]
    },
    {
      "cell_type": "markdown",
      "metadata": {
        "id": "HFifXKl_eKsN"
      },
      "source": [
        "## Preprocessing"
      ]
    },
    {
      "cell_type": "markdown",
      "metadata": {
        "id": "RxAZ1AmteRaD"
      },
      "source": [
        "Preprocessing the data via feature engineering, filtering and cleaning. Certain preprocessing steps are global (don't depend on our dataset, ex. lower casing text, removing stop words, etc.) and others are local (constructs are learned only from the training split, ex. vocabulary, standardization, etc.). For the local, dataset-dependent preprocessing steps, we want to ensure that we [split](https://madewithml.com/courses/mlops/splitting) the data first before preprocessing to avoid data leaks."
      ]
    },
    {
      "cell_type": "markdown",
      "metadata": {
        "id": "6VgTwEQboTGc"
      },
      "source": [
        "### Feature engineering"
      ]
    },
    {
      "cell_type": "markdown",
      "metadata": {
        "id": "U_001GPyMZsC"
      },
      "source": [
        "We can combine existing input features to create new meaningful signal (helping the model learn). "
      ]
    },
    {
      "cell_type": "code",
      "execution_count": null,
      "metadata": {
        "id": "3x1ldAFQNkSU"
      },
      "outputs": [],
      "source": [
        "# Feature engineering\n",
        "df[\"text\"] = df.title + \" \" + df.description"
      ]
    },
    {
      "cell_type": "markdown",
      "metadata": {
        "id": "vNsRidGHoWMs"
      },
      "source": [
        "### Cleaning"
      ]
    },
    {
      "cell_type": "markdown",
      "metadata": {
        "id": "8_f1LpKpMwzO"
      },
      "source": [
        "Since we're dealing with text data, we can apply some of the common text preprocessing steps:"
      ]
    },
    {
      "cell_type": "code",
      "execution_count": null,
      "metadata": {
        "colab": {
          "base_uri": "https://localhost:8080/"
        },
        "id": "mXIRHqYJjW17",
        "outputId": "bdc5e933-4e4a-430d-d0e7-83eb2f4dad12"
      },
      "outputs": [
        {
          "name": "stdout",
          "output_type": "stream",
          "text": [
            "\u001b[33mWARNING: Error parsing requirements for numpy: [Errno 2] No such file or directory: '/usr/local/lib/python3.8/dist-packages/numpy-1.21.6.dist-info/METADATA'\u001b[0m\n",
            "\u001b[33mWARNING: Error parsing requirements for cachetools: [Errno 2] No such file or directory: '/usr/local/lib/python3.8/dist-packages/cachetools-5.2.0.dist-info/METADATA'\u001b[0m\n"
          ]
        }
      ],
      "source": [
        "%pip install nltk==3.7 -q"
      ]
    },
    {
      "cell_type": "code",
      "execution_count": null,
      "metadata": {
        "id": "CT8ThMrMhUVB"
      },
      "outputs": [],
      "source": [
        "import json\n",
        "import nltk\n",
        "from nltk.corpus import stopwords\n",
        "from nltk.stem import PorterStemmer\n",
        "import re"
      ]
    },
    {
      "cell_type": "code",
      "execution_count": null,
      "metadata": {
        "colab": {
          "base_uri": "https://localhost:8080/"
        },
        "id": "VDXLH6QeLd0F",
        "outputId": "bcf08a01-9893-451c-f3b8-2c8dfceb858f"
      },
      "outputs": [
        {
          "name": "stderr",
          "output_type": "stream",
          "text": [
            "[nltk_data] Downloading package stopwords to /root/nltk_data...\n",
            "[nltk_data]   Package stopwords is already up-to-date!\n"
          ]
        }
      ],
      "source": [
        "nltk.download(\"stopwords\")\n",
        "STOPWORDS = stopwords.words(\"english\")\n",
        "stemmer = PorterStemmer()"
      ]
    },
    {
      "cell_type": "code",
      "execution_count": null,
      "metadata": {
        "id": "VfdWkkV8LlNR"
      },
      "outputs": [],
      "source": [
        "def clean_text(text, lower=True, stem=False, stopwords=STOPWORDS):\n",
        "    \"\"\"Clean raw text.\"\"\"\n",
        "    # Lower\n",
        "    if lower: \n",
        "        text = text.lower()\n",
        "\n",
        "    # Remove stopwords\n",
        "    if len(stopwords):\n",
        "        pattern = re.compile(r'\\b(' + r\"|\".join(stopwords) + r\")\\b\\s*\")\n",
        "        text = pattern.sub('', text)\n",
        "\n",
        "    # Spacing and filters\n",
        "    text = re.sub(\n",
        "        r\"([!\\\"'#$%&()*\\+,-./:;<=>?@\\\\\\[\\]^_`{|}~])\", r\" \\1 \", text\n",
        "    )  # add spacing between objects to be filtered\n",
        "    text = re.sub(\"[^A-Za-z0-9]+\", \" \", text)  # remove non alphanumeric chars\n",
        "    text = re.sub(\" +\", \" \", text)  # remove multiple spaces\n",
        "    text = text.strip()  # strip white space at the ends\n",
        "\n",
        "    # Remove links\n",
        "    text = re.sub(r\"http\\S+\", \"\", text)\n",
        "\n",
        "    # Stemming\n",
        "    if stem:\n",
        "        text = \" \".join([stemmer.stem(word, to_lowercase=lower) for word in text.split(\" \")])\n",
        "\n",
        "    return text"
      ]
    },
    {
      "cell_type": "code",
      "execution_count": null,
      "metadata": {
        "colab": {
          "base_uri": "https://localhost:8080/",
          "height": 99,
          "referenced_widgets": [
            "62ed7214f05047ee9e2aba90e16e1a13",
            "c84285e8e2774c3e957bd33cf115025b",
            "75eaedf6bb934f9bb18e557e81cea695",
            "8ef31c66853e41c39838aa453bb10cf8",
            "633fbc766cf848ff8e93300b0f1a104f",
            "74a79db7c84943c18b8c92e933fd6144",
            "7d4e0d3a50b24abda7de92db4bd66766",
            "6ba33d40830142bdaf2aa227b466d148",
            "de2d535b33914403a140b45a35e16785",
            "5dcbe1e23b9f4d6cb1e714f44f0d7640"
          ]
        },
        "id": "L6aKH-g0LlQt",
        "outputId": "d92ea821-d15f-446e-8441-624dabd20dcd"
      },
      "outputs": [
        {
          "data": {
            "application/vnd.jupyter.widget-view+json": {
              "model_id": "62ed7214f05047ee9e2aba90e16e1a13",
              "version_major": 2,
              "version_minor": 0
            },
            "text/plain": [
              "interactive(children=(Checkbox(value=True, description='lower'), Checkbox(value=False, description='stem'), Ou…"
            ]
          },
          "metadata": {},
          "output_type": "display_data"
        }
      ],
      "source": [
        "# Toggle preprocessing parameters\n",
        "@widgets.interact(lower=True, stem=False)\n",
        "def display_cleaned_text(lower, stem):\n",
        "    text = \"Conditional image generation using Variational Autoencoders and GANs.\"\n",
        "    cleaned_text = clean_text(text=text, lower=lower, stem=stem)\n",
        "    print (cleaned_text)    "
      ]
    },
    {
      "cell_type": "code",
      "execution_count": null,
      "metadata": {
        "colab": {
          "base_uri": "https://localhost:8080/"
        },
        "id": "3LRaq0_5LpE4",
        "outputId": "6483dbda-c50c-49c0-f610-d43e8e7f3d33"
      },
      "outputs": [
        {
          "name": "stdout",
          "output_type": "stream",
          "text": [
            "Comparison between YOLO and RCNN on real world videos Bringing theory to experiment is cool. We can easily train models in colab and find the results in minutes.\n",
            "comparison yolo rcnn real world videos bringing theory experiment cool easily train models colab find results minutes\n"
          ]
        }
      ],
      "source": [
        "# Apply to dataframe\n",
        "original_df = df.copy()\n",
        "df.text = df.text.apply(clean_text, lower=True, stem=False)\n",
        "print (f\"{original_df.text.values[0]}\\n{df.text.values[0]}\")"
      ]
    },
    {
      "cell_type": "markdown",
      "metadata": {
        "id": "Ngvk81rcho7-"
      },
      "source": [
        "### Replace labels"
      ]
    },
    {
      "cell_type": "markdown",
      "metadata": {
        "id": "AsgzBNR3pQca"
      },
      "source": [
        "Based on our findinds from EDA, we're going to clean up our label space:\n",
        "- if a data point has a tag that we currently don't support, we'll replace it with `other`\n",
        "- if a certain tag doesn't have *enough* samples, we'll replace it with `other`"
      ]
    },
    {
      "cell_type": "code",
      "execution_count": null,
      "metadata": {
        "id": "YonnzR5fJoHc"
      },
      "outputs": [],
      "source": [
        "# Accepted tags (external constraint)\n",
        "ACCEPTED_TAGS = [\"natural-language-processing\", \"computer-vision\", \"mlops\", \"graph-learning\"]"
      ]
    },
    {
      "cell_type": "code",
      "execution_count": null,
      "metadata": {
        "colab": {
          "base_uri": "https://localhost:8080/"
        },
        "id": "RNbE5Q1BRYxG",
        "outputId": "4dc6c7e8-e015-4ecb-c05b-e84aa58e384e"
      },
      "outputs": [
        {
          "data": {
            "text/plain": [
              "['reinforcement-learning', 'time-series']"
            ]
          },
          "execution_count": 19,
          "metadata": {},
          "output_type": "execute_result"
        }
      ],
      "source": [
        "# Out of scope (OOS) tags\n",
        "oos_tags = [item for item in df.tag.unique() if item not in ACCEPTED_TAGS]\n",
        "oos_tags"
      ]
    },
    {
      "cell_type": "code",
      "execution_count": null,
      "metadata": {
        "colab": {
          "base_uri": "https://localhost:8080/",
          "height": 206
        },
        "id": "9tG94vykXcLX",
        "outputId": "fdccf430-fc2a-4d34-8702-2a0e96756b1b"
      },
      "outputs": [
        {
          "data": {
            "text/html": [
              "\n",
              "  <div id=\"df-b91b6277-fa4d-4a69-9e62-3eaa357108c1\">\n",
              "    <div class=\"colab-df-container\">\n",
              "      <div>\n",
              "<style scoped>\n",
              "    .dataframe tbody tr th:only-of-type {\n",
              "        vertical-align: middle;\n",
              "    }\n",
              "\n",
              "    .dataframe tbody tr th {\n",
              "        vertical-align: top;\n",
              "    }\n",
              "\n",
              "    .dataframe thead th {\n",
              "        text-align: right;\n",
              "    }\n",
              "</style>\n",
              "<table border=\"1\" class=\"dataframe\">\n",
              "  <thead>\n",
              "    <tr style=\"text-align: right;\">\n",
              "      <th></th>\n",
              "      <th>id</th>\n",
              "      <th>created_on</th>\n",
              "      <th>title</th>\n",
              "      <th>description</th>\n",
              "      <th>tag</th>\n",
              "      <th>text</th>\n",
              "    </tr>\n",
              "  </thead>\n",
              "  <tbody>\n",
              "    <tr>\n",
              "      <th>3</th>\n",
              "      <td>15</td>\n",
              "      <td>2020-02-28 23:55:26</td>\n",
              "      <td>Awesome Monte Carlo Tree Search</td>\n",
              "      <td>A curated list of Monte Carlo tree search pape...</td>\n",
              "      <td>reinforcement-learning</td>\n",
              "      <td>awesome monte carlo tree search curated list m...</td>\n",
              "    </tr>\n",
              "    <tr>\n",
              "      <th>37</th>\n",
              "      <td>121</td>\n",
              "      <td>2020-03-24 04:56:38</td>\n",
              "      <td>Deep Reinforcement Learning in TensorFlow2</td>\n",
              "      <td>deep-rl-tf2 is a repository that implements a ...</td>\n",
              "      <td>reinforcement-learning</td>\n",
              "      <td>deep reinforcement learning tensorflow2 deep r...</td>\n",
              "    </tr>\n",
              "    <tr>\n",
              "      <th>67</th>\n",
              "      <td>218</td>\n",
              "      <td>2020-04-06 11:29:57</td>\n",
              "      <td>Distributional RL using TensorFlow2</td>\n",
              "      <td>🐳 Implementation of various Distributional Rei...</td>\n",
              "      <td>reinforcement-learning</td>\n",
              "      <td>distributional rl using tensorflow2 implementa...</td>\n",
              "    </tr>\n",
              "    <tr>\n",
              "      <th>74</th>\n",
              "      <td>239</td>\n",
              "      <td>2020-04-06 18:39:48</td>\n",
              "      <td>Prophet: Forecasting At Scale</td>\n",
              "      <td>Tool for producing high quality forecasts for ...</td>\n",
              "      <td>time-series</td>\n",
              "      <td>prophet forecasting scale tool producing high ...</td>\n",
              "    </tr>\n",
              "    <tr>\n",
              "      <th>95</th>\n",
              "      <td>277</td>\n",
              "      <td>2020-04-07 00:30:33</td>\n",
              "      <td>Curriculum for Reinforcement Learning</td>\n",
              "      <td>Curriculum learning applied to reinforcement l...</td>\n",
              "      <td>reinforcement-learning</td>\n",
              "      <td>curriculum reinforcement learning curriculum l...</td>\n",
              "    </tr>\n",
              "  </tbody>\n",
              "</table>\n",
              "</div>\n",
              "      <button class=\"colab-df-convert\" onclick=\"convertToInteractive('df-b91b6277-fa4d-4a69-9e62-3eaa357108c1')\"\n",
              "              title=\"Convert this dataframe to an interactive table.\"\n",
              "              style=\"display:none;\">\n",
              "        \n",
              "  <svg xmlns=\"http://www.w3.org/2000/svg\" height=\"24px\"viewBox=\"0 0 24 24\"\n",
              "       width=\"24px\">\n",
              "    <path d=\"M0 0h24v24H0V0z\" fill=\"none\"/>\n",
              "    <path d=\"M18.56 5.44l.94 2.06.94-2.06 2.06-.94-2.06-.94-.94-2.06-.94 2.06-2.06.94zm-11 1L8.5 8.5l.94-2.06 2.06-.94-2.06-.94L8.5 2.5l-.94 2.06-2.06.94zm10 10l.94 2.06.94-2.06 2.06-.94-2.06-.94-.94-2.06-.94 2.06-2.06.94z\"/><path d=\"M17.41 7.96l-1.37-1.37c-.4-.4-.92-.59-1.43-.59-.52 0-1.04.2-1.43.59L10.3 9.45l-7.72 7.72c-.78.78-.78 2.05 0 2.83L4 21.41c.39.39.9.59 1.41.59.51 0 1.02-.2 1.41-.59l7.78-7.78 2.81-2.81c.8-.78.8-2.07 0-2.86zM5.41 20L4 18.59l7.72-7.72 1.47 1.35L5.41 20z\"/>\n",
              "  </svg>\n",
              "      </button>\n",
              "      \n",
              "  <style>\n",
              "    .colab-df-container {\n",
              "      display:flex;\n",
              "      flex-wrap:wrap;\n",
              "      gap: 12px;\n",
              "    }\n",
              "\n",
              "    .colab-df-convert {\n",
              "      background-color: #E8F0FE;\n",
              "      border: none;\n",
              "      border-radius: 50%;\n",
              "      cursor: pointer;\n",
              "      display: none;\n",
              "      fill: #1967D2;\n",
              "      height: 32px;\n",
              "      padding: 0 0 0 0;\n",
              "      width: 32px;\n",
              "    }\n",
              "\n",
              "    .colab-df-convert:hover {\n",
              "      background-color: #E2EBFA;\n",
              "      box-shadow: 0px 1px 2px rgba(60, 64, 67, 0.3), 0px 1px 3px 1px rgba(60, 64, 67, 0.15);\n",
              "      fill: #174EA6;\n",
              "    }\n",
              "\n",
              "    [theme=dark] .colab-df-convert {\n",
              "      background-color: #3B4455;\n",
              "      fill: #D2E3FC;\n",
              "    }\n",
              "\n",
              "    [theme=dark] .colab-df-convert:hover {\n",
              "      background-color: #434B5C;\n",
              "      box-shadow: 0px 1px 3px 1px rgba(0, 0, 0, 0.15);\n",
              "      filter: drop-shadow(0px 1px 2px rgba(0, 0, 0, 0.3));\n",
              "      fill: #FFFFFF;\n",
              "    }\n",
              "  </style>\n",
              "\n",
              "      <script>\n",
              "        const buttonEl =\n",
              "          document.querySelector('#df-b91b6277-fa4d-4a69-9e62-3eaa357108c1 button.colab-df-convert');\n",
              "        buttonEl.style.display =\n",
              "          google.colab.kernel.accessAllowed ? 'block' : 'none';\n",
              "\n",
              "        async function convertToInteractive(key) {\n",
              "          const element = document.querySelector('#df-b91b6277-fa4d-4a69-9e62-3eaa357108c1');\n",
              "          const dataTable =\n",
              "            await google.colab.kernel.invokeFunction('convertToInteractive',\n",
              "                                                     [key], {});\n",
              "          if (!dataTable) return;\n",
              "\n",
              "          const docLinkHtml = 'Like what you see? Visit the ' +\n",
              "            '<a target=\"_blank\" href=https://colab.research.google.com/notebooks/data_table.ipynb>data table notebook</a>'\n",
              "            + ' to learn more about interactive tables.';\n",
              "          element.innerHTML = '';\n",
              "          dataTable['output_type'] = 'display_data';\n",
              "          await google.colab.output.renderOutput(dataTable, element);\n",
              "          const docLink = document.createElement('div');\n",
              "          docLink.innerHTML = docLinkHtml;\n",
              "          element.appendChild(docLink);\n",
              "        }\n",
              "      </script>\n",
              "    </div>\n",
              "  </div>\n",
              "  "
            ],
            "text/plain": [
              "     id           created_on                                       title  \\\n",
              "3    15  2020-02-28 23:55:26             Awesome Monte Carlo Tree Search   \n",
              "37  121  2020-03-24 04:56:38  Deep Reinforcement Learning in TensorFlow2   \n",
              "67  218  2020-04-06 11:29:57         Distributional RL using TensorFlow2   \n",
              "74  239  2020-04-06 18:39:48               Prophet: Forecasting At Scale   \n",
              "95  277  2020-04-07 00:30:33       Curriculum for Reinforcement Learning   \n",
              "\n",
              "                                          description                     tag  \\\n",
              "3   A curated list of Monte Carlo tree search pape...  reinforcement-learning   \n",
              "37  deep-rl-tf2 is a repository that implements a ...  reinforcement-learning   \n",
              "67  🐳 Implementation of various Distributional Rei...  reinforcement-learning   \n",
              "74  Tool for producing high quality forecasts for ...             time-series   \n",
              "95  Curriculum learning applied to reinforcement l...  reinforcement-learning   \n",
              "\n",
              "                                                 text  \n",
              "3   awesome monte carlo tree search curated list m...  \n",
              "37  deep reinforcement learning tensorflow2 deep r...  \n",
              "67  distributional rl using tensorflow2 implementa...  \n",
              "74  prophet forecasting scale tool producing high ...  \n",
              "95  curriculum reinforcement learning curriculum l...  "
            ]
          },
          "execution_count": 20,
          "metadata": {},
          "output_type": "execute_result"
        }
      ],
      "source": [
        "# Samples with OOS tags\n",
        "oos_indices = df[df.tag.isin(oos_tags)].index\n",
        "df[df.tag.isin(oos_tags)].head()"
      ]
    },
    {
      "cell_type": "code",
      "execution_count": null,
      "metadata": {
        "colab": {
          "base_uri": "https://localhost:8080/",
          "height": 206
        },
        "id": "4CjtPSblYYQr",
        "outputId": "1e3f3a4a-4115-424d-bd92-71d9f9178ecd"
      },
      "outputs": [
        {
          "data": {
            "text/html": [
              "\n",
              "  <div id=\"df-ed9efa9e-b60b-4029-8a6c-b5fe4ed7295e\">\n",
              "    <div class=\"colab-df-container\">\n",
              "      <div>\n",
              "<style scoped>\n",
              "    .dataframe tbody tr th:only-of-type {\n",
              "        vertical-align: middle;\n",
              "    }\n",
              "\n",
              "    .dataframe tbody tr th {\n",
              "        vertical-align: top;\n",
              "    }\n",
              "\n",
              "    .dataframe thead th {\n",
              "        text-align: right;\n",
              "    }\n",
              "</style>\n",
              "<table border=\"1\" class=\"dataframe\">\n",
              "  <thead>\n",
              "    <tr style=\"text-align: right;\">\n",
              "      <th></th>\n",
              "      <th>id</th>\n",
              "      <th>created_on</th>\n",
              "      <th>title</th>\n",
              "      <th>description</th>\n",
              "      <th>tag</th>\n",
              "      <th>text</th>\n",
              "    </tr>\n",
              "  </thead>\n",
              "  <tbody>\n",
              "    <tr>\n",
              "      <th>3</th>\n",
              "      <td>15</td>\n",
              "      <td>2020-02-28 23:55:26</td>\n",
              "      <td>Awesome Monte Carlo Tree Search</td>\n",
              "      <td>A curated list of Monte Carlo tree search pape...</td>\n",
              "      <td>other</td>\n",
              "      <td>awesome monte carlo tree search curated list m...</td>\n",
              "    </tr>\n",
              "    <tr>\n",
              "      <th>37</th>\n",
              "      <td>121</td>\n",
              "      <td>2020-03-24 04:56:38</td>\n",
              "      <td>Deep Reinforcement Learning in TensorFlow2</td>\n",
              "      <td>deep-rl-tf2 is a repository that implements a ...</td>\n",
              "      <td>other</td>\n",
              "      <td>deep reinforcement learning tensorflow2 deep r...</td>\n",
              "    </tr>\n",
              "    <tr>\n",
              "      <th>67</th>\n",
              "      <td>218</td>\n",
              "      <td>2020-04-06 11:29:57</td>\n",
              "      <td>Distributional RL using TensorFlow2</td>\n",
              "      <td>🐳 Implementation of various Distributional Rei...</td>\n",
              "      <td>other</td>\n",
              "      <td>distributional rl using tensorflow2 implementa...</td>\n",
              "    </tr>\n",
              "    <tr>\n",
              "      <th>74</th>\n",
              "      <td>239</td>\n",
              "      <td>2020-04-06 18:39:48</td>\n",
              "      <td>Prophet: Forecasting At Scale</td>\n",
              "      <td>Tool for producing high quality forecasts for ...</td>\n",
              "      <td>other</td>\n",
              "      <td>prophet forecasting scale tool producing high ...</td>\n",
              "    </tr>\n",
              "    <tr>\n",
              "      <th>95</th>\n",
              "      <td>277</td>\n",
              "      <td>2020-04-07 00:30:33</td>\n",
              "      <td>Curriculum for Reinforcement Learning</td>\n",
              "      <td>Curriculum learning applied to reinforcement l...</td>\n",
              "      <td>other</td>\n",
              "      <td>curriculum reinforcement learning curriculum l...</td>\n",
              "    </tr>\n",
              "  </tbody>\n",
              "</table>\n",
              "</div>\n",
              "      <button class=\"colab-df-convert\" onclick=\"convertToInteractive('df-ed9efa9e-b60b-4029-8a6c-b5fe4ed7295e')\"\n",
              "              title=\"Convert this dataframe to an interactive table.\"\n",
              "              style=\"display:none;\">\n",
              "        \n",
              "  <svg xmlns=\"http://www.w3.org/2000/svg\" height=\"24px\"viewBox=\"0 0 24 24\"\n",
              "       width=\"24px\">\n",
              "    <path d=\"M0 0h24v24H0V0z\" fill=\"none\"/>\n",
              "    <path d=\"M18.56 5.44l.94 2.06.94-2.06 2.06-.94-2.06-.94-.94-2.06-.94 2.06-2.06.94zm-11 1L8.5 8.5l.94-2.06 2.06-.94-2.06-.94L8.5 2.5l-.94 2.06-2.06.94zm10 10l.94 2.06.94-2.06 2.06-.94-2.06-.94-.94-2.06-.94 2.06-2.06.94z\"/><path d=\"M17.41 7.96l-1.37-1.37c-.4-.4-.92-.59-1.43-.59-.52 0-1.04.2-1.43.59L10.3 9.45l-7.72 7.72c-.78.78-.78 2.05 0 2.83L4 21.41c.39.39.9.59 1.41.59.51 0 1.02-.2 1.41-.59l7.78-7.78 2.81-2.81c.8-.78.8-2.07 0-2.86zM5.41 20L4 18.59l7.72-7.72 1.47 1.35L5.41 20z\"/>\n",
              "  </svg>\n",
              "      </button>\n",
              "      \n",
              "  <style>\n",
              "    .colab-df-container {\n",
              "      display:flex;\n",
              "      flex-wrap:wrap;\n",
              "      gap: 12px;\n",
              "    }\n",
              "\n",
              "    .colab-df-convert {\n",
              "      background-color: #E8F0FE;\n",
              "      border: none;\n",
              "      border-radius: 50%;\n",
              "      cursor: pointer;\n",
              "      display: none;\n",
              "      fill: #1967D2;\n",
              "      height: 32px;\n",
              "      padding: 0 0 0 0;\n",
              "      width: 32px;\n",
              "    }\n",
              "\n",
              "    .colab-df-convert:hover {\n",
              "      background-color: #E2EBFA;\n",
              "      box-shadow: 0px 1px 2px rgba(60, 64, 67, 0.3), 0px 1px 3px 1px rgba(60, 64, 67, 0.15);\n",
              "      fill: #174EA6;\n",
              "    }\n",
              "\n",
              "    [theme=dark] .colab-df-convert {\n",
              "      background-color: #3B4455;\n",
              "      fill: #D2E3FC;\n",
              "    }\n",
              "\n",
              "    [theme=dark] .colab-df-convert:hover {\n",
              "      background-color: #434B5C;\n",
              "      box-shadow: 0px 1px 3px 1px rgba(0, 0, 0, 0.15);\n",
              "      filter: drop-shadow(0px 1px 2px rgba(0, 0, 0, 0.3));\n",
              "      fill: #FFFFFF;\n",
              "    }\n",
              "  </style>\n",
              "\n",
              "      <script>\n",
              "        const buttonEl =\n",
              "          document.querySelector('#df-ed9efa9e-b60b-4029-8a6c-b5fe4ed7295e button.colab-df-convert');\n",
              "        buttonEl.style.display =\n",
              "          google.colab.kernel.accessAllowed ? 'block' : 'none';\n",
              "\n",
              "        async function convertToInteractive(key) {\n",
              "          const element = document.querySelector('#df-ed9efa9e-b60b-4029-8a6c-b5fe4ed7295e');\n",
              "          const dataTable =\n",
              "            await google.colab.kernel.invokeFunction('convertToInteractive',\n",
              "                                                     [key], {});\n",
              "          if (!dataTable) return;\n",
              "\n",
              "          const docLinkHtml = 'Like what you see? Visit the ' +\n",
              "            '<a target=\"_blank\" href=https://colab.research.google.com/notebooks/data_table.ipynb>data table notebook</a>'\n",
              "            + ' to learn more about interactive tables.';\n",
              "          element.innerHTML = '';\n",
              "          dataTable['output_type'] = 'display_data';\n",
              "          await google.colab.output.renderOutput(dataTable, element);\n",
              "          const docLink = document.createElement('div');\n",
              "          docLink.innerHTML = docLinkHtml;\n",
              "          element.appendChild(docLink);\n",
              "        }\n",
              "      </script>\n",
              "    </div>\n",
              "  </div>\n",
              "  "
            ],
            "text/plain": [
              "     id           created_on                                       title  \\\n",
              "3    15  2020-02-28 23:55:26             Awesome Monte Carlo Tree Search   \n",
              "37  121  2020-03-24 04:56:38  Deep Reinforcement Learning in TensorFlow2   \n",
              "67  218  2020-04-06 11:29:57         Distributional RL using TensorFlow2   \n",
              "74  239  2020-04-06 18:39:48               Prophet: Forecasting At Scale   \n",
              "95  277  2020-04-07 00:30:33       Curriculum for Reinforcement Learning   \n",
              "\n",
              "                                          description    tag  \\\n",
              "3   A curated list of Monte Carlo tree search pape...  other   \n",
              "37  deep-rl-tf2 is a repository that implements a ...  other   \n",
              "67  🐳 Implementation of various Distributional Rei...  other   \n",
              "74  Tool for producing high quality forecasts for ...  other   \n",
              "95  Curriculum learning applied to reinforcement l...  other   \n",
              "\n",
              "                                                 text  \n",
              "3   awesome monte carlo tree search curated list m...  \n",
              "37  deep reinforcement learning tensorflow2 deep r...  \n",
              "67  distributional rl using tensorflow2 implementa...  \n",
              "74  prophet forecasting scale tool producing high ...  \n",
              "95  curriculum reinforcement learning curriculum l...  "
            ]
          },
          "execution_count": 21,
          "metadata": {},
          "output_type": "execute_result"
        }
      ],
      "source": [
        "# Replace this tag with `other`\n",
        "df.tag = df.tag.apply(lambda x: \"other\" if x in oos_tags else x)\n",
        "df.iloc[oos_indices].head()"
      ]
    },
    {
      "cell_type": "markdown",
      "metadata": {
        "id": "NYOdYGBbO8YZ"
      },
      "source": [
        "We're also going to restrict the mapping to only tags that are above a certain frequency threshold. The tags that don't have enough projects will not have enough samples to model their relationships."
      ]
    },
    {
      "cell_type": "code",
      "execution_count": null,
      "metadata": {
        "id": "Uea8NC_hqELA"
      },
      "outputs": [],
      "source": [
        "# Minimum frequency required for a tag\n",
        "min_freq = 75\n",
        "tags = Counter(df.tag.values)"
      ]
    },
    {
      "cell_type": "code",
      "execution_count": null,
      "metadata": {
        "colab": {
          "base_uri": "https://localhost:8080/",
          "height": 192,
          "referenced_widgets": [
            "1a34e57506ae431f9986f338af817a2d",
            "8b72be8c844d4092be2c0128c8228ce4",
            "30d2ae1770364eda88bb1e13d4475e84",
            "5e823cb74d7d46e9a5728d696ff85a51",
            "c9c03af783b44f76a4f18e245e61670b",
            "fb9a1f1477884b8dab5a335304bd7114",
            "84adcbf0f8414b4ca2163a9422ce46e6"
          ]
        },
        "id": "g4RRswj4Ykty",
        "outputId": "9d196b7e-9e40-42d0-fb4f-f4d4dcf0591c"
      },
      "outputs": [
        {
          "data": {
            "application/vnd.jupyter.widget-view+json": {
              "model_id": "1a34e57506ae431f9986f338af817a2d",
              "version_major": 2,
              "version_minor": 0
            },
            "text/plain": [
              "interactive(children=(IntSlider(value=75, description='min_freq', max=388), Output()), _dom_classes=('widget-i…"
            ]
          },
          "metadata": {},
          "output_type": "display_data"
        }
      ],
      "source": [
        "# Tags that just made / missed the cut\n",
        "@widgets.interact(min_freq=(0, tags.most_common()[0][1]))\n",
        "def separate_tags_by_freq(min_freq=min_freq):\n",
        "    tags_above_freq = Counter(tag for tag in tags.elements()\n",
        "                                    if tags[tag] >= min_freq)\n",
        "    tags_below_freq = Counter(tag for tag in tags.elements()\n",
        "                                    if tags[tag] < min_freq)\n",
        "    print (\"Most popular tags:\\n\", tags_above_freq.most_common(3))\n",
        "    print (\"\\nTags that just made the cut:\\n\", tags_above_freq.most_common()[-3:])\n",
        "    print (\"\\nTags that just missed the cut:\\n\", tags_below_freq.most_common(3))"
      ]
    },
    {
      "cell_type": "code",
      "execution_count": null,
      "metadata": {
        "id": "RGj6bYasqHiz"
      },
      "outputs": [],
      "source": [
        "# Filter tags that have fewer than <min_freq> occurrences\n",
        "tags_above_freq = Counter(tag for tag in tags.elements() \n",
        "                          if (tags[tag] >= min_freq))\n",
        "df.tag = df.tag.apply(lambda tag: tag if tag in tags_above_freq else None)"
      ]
    },
    {
      "cell_type": "code",
      "execution_count": null,
      "metadata": {
        "id": "Scs0935sqHlZ"
      },
      "outputs": [],
      "source": [
        "# Fill None with `other`\n",
        "df.tag = df.tag.fillna(\"other\")"
      ]
    },
    {
      "cell_type": "markdown",
      "metadata": {
        "id": "ntdceUjmqHxZ"
      },
      "source": [
        "> Traditionally, we would be applying data quality tests on our data assets before and after labeling our data. But we'll cover these topics in our [testing lesson](testing.md)."
      ]
    },
    {
      "cell_type": "markdown",
      "metadata": {
        "id": "7sfzg9CMNkSV"
      },
      "source": [
        "### Encoding"
      ]
    },
    {
      "cell_type": "markdown",
      "metadata": {
        "id": "XF-uVXMUonb6"
      },
      "source": [
        "We'll start by encoding our labels into numerical values so our models can process them."
      ]
    },
    {
      "cell_type": "code",
      "execution_count": null,
      "metadata": {
        "id": "DYKtkRjlNkSV"
      },
      "outputs": [],
      "source": [
        "import numpy as np\n",
        "import random"
      ]
    },
    {
      "cell_type": "code",
      "execution_count": null,
      "metadata": {
        "id": "j4lC_E14NkSV"
      },
      "outputs": [],
      "source": [
        "# Get data\n",
        "X = df.text.to_numpy()\n",
        "y = df.tag"
      ]
    },
    {
      "cell_type": "markdown",
      "metadata": {
        "id": "zT6FHkqyNkSV"
      },
      "source": [
        "We'll be writing our own LabelEncoder which is based on scikit-learn's [implementation](https://scikit-learn.org/stable/modules/generated/sklearn.preprocessing.LabelEncoder.html). It's an extremely valuable skill to be able to write clean classes for objects we want to create."
      ]
    },
    {
      "cell_type": "code",
      "execution_count": null,
      "metadata": {
        "id": "YHPmj1XANkSV"
      },
      "outputs": [],
      "source": [
        "class LabelEncoder(object):\n",
        "    \"\"\"Encode labels into unique indices.\"\"\"\n",
        "    def __init__(self, class_to_index={}):\n",
        "        self.class_to_index = class_to_index\n",
        "        self.index_to_class = {v: k for k, v in self.class_to_index.items()}\n",
        "        self.classes = list(self.class_to_index.keys())\n",
        "\n",
        "    def __len__(self):\n",
        "        return len(self.class_to_index)\n",
        "\n",
        "    def __str__(self):\n",
        "        return f\"<LabelEncoder(num_classes={len(self)})>\"\n",
        "\n",
        "    def fit(self, y):\n",
        "        classes = np.unique(y)\n",
        "        for i, class_ in enumerate(classes):\n",
        "            self.class_to_index[class_] = i\n",
        "        self.index_to_class = {v: k for k, v in self.class_to_index.items()}\n",
        "        self.classes = list(self.class_to_index.keys())\n",
        "        return self\n",
        "\n",
        "    def encode(self, y):\n",
        "        encoded = np.zeros((len(y)), dtype=int)\n",
        "        for i, item in enumerate(y):\n",
        "            encoded[i] = self.class_to_index[item]\n",
        "        return encoded\n",
        "\n",
        "    def decode(self, y):\n",
        "        classes = []\n",
        "        for i, item in enumerate(y):\n",
        "            classes.append(self.index_to_class[item])\n",
        "        return classes\n",
        "\n",
        "    def save(self, fp):\n",
        "        with open(fp, \"w\") as fp:\n",
        "            contents = {\"class_to_index\": self.class_to_index}\n",
        "            json.dump(contents, fp, indent=4, sort_keys=False)\n",
        "\n",
        "    @classmethod\n",
        "    def load(cls, fp):\n",
        "        with open(fp, \"r\") as fp:\n",
        "            kwargs = json.load(fp=fp)\n",
        "        return cls(**kwargs)"
      ]
    },
    {
      "cell_type": "code",
      "execution_count": null,
      "metadata": {
        "id": "fIcGw6MNNkSV"
      },
      "outputs": [],
      "source": [
        "# Encode\n",
        "label_encoder = LabelEncoder()\n",
        "label_encoder.fit(y)\n",
        "num_classes = len(label_encoder)"
      ]
    },
    {
      "cell_type": "code",
      "execution_count": null,
      "metadata": {
        "colab": {
          "base_uri": "https://localhost:8080/"
        },
        "id": "pLzecFwWNkSV",
        "outputId": "05f0b7a7-4de4-45e0-ebc3-cf74a262a7b2"
      },
      "outputs": [
        {
          "data": {
            "text/plain": [
              "{'computer-vision': 0,\n",
              " 'mlops': 1,\n",
              " 'natural-language-processing': 2,\n",
              " 'other': 3}"
            ]
          },
          "execution_count": 30,
          "metadata": {},
          "output_type": "execute_result"
        }
      ],
      "source": [
        "label_encoder.class_to_index"
      ]
    },
    {
      "cell_type": "code",
      "execution_count": null,
      "metadata": {
        "colab": {
          "base_uri": "https://localhost:8080/"
        },
        "id": "f5ALx5CCRMCF",
        "outputId": "68d479b4-0def-4a17-9d89-6e638f55ea5b"
      },
      "outputs": [
        {
          "data": {
            "text/plain": [
              "{0: 'computer-vision',\n",
              " 1: 'mlops',\n",
              " 2: 'natural-language-processing',\n",
              " 3: 'other'}"
            ]
          },
          "execution_count": 31,
          "metadata": {},
          "output_type": "execute_result"
        }
      ],
      "source": [
        "label_encoder.index_to_class"
      ]
    },
    {
      "cell_type": "code",
      "execution_count": null,
      "metadata": {
        "colab": {
          "base_uri": "https://localhost:8080/"
        },
        "id": "l8na7YazNkSW",
        "outputId": "814ba511-fa57-4f05-97a2-8ef51fab330f"
      },
      "outputs": [
        {
          "data": {
            "text/plain": [
              "array([0, 1, 1])"
            ]
          },
          "execution_count": 32,
          "metadata": {},
          "output_type": "execute_result"
        }
      ],
      "source": [
        "# Encode\n",
        "label_encoder.encode([\"computer-vision\", \"mlops\", \"mlops\"])"
      ]
    },
    {
      "cell_type": "code",
      "execution_count": null,
      "metadata": {
        "colab": {
          "base_uri": "https://localhost:8080/"
        },
        "id": "ks_pcJMOOfbT",
        "outputId": "ad3e49ef-9135-4cc0-c501-4200864ee624"
      },
      "outputs": [
        {
          "data": {
            "text/plain": [
              "['computer-vision', 'mlops', 'mlops']"
            ]
          },
          "execution_count": 33,
          "metadata": {},
          "output_type": "execute_result"
        }
      ],
      "source": [
        "# Decode\n",
        "label_encoder.decode(np.array([0, 1, 1]))"
      ]
    },
    {
      "cell_type": "code",
      "execution_count": null,
      "metadata": {
        "colab": {
          "base_uri": "https://localhost:8080/"
        },
        "id": "iMyIbacNNkSW",
        "outputId": "530ada28-ba48-4905-dc74-a753931ca18a"
      },
      "outputs": [
        {
          "name": "stdout",
          "output_type": "stream",
          "text": [
            "(955,)\n"
          ]
        }
      ],
      "source": [
        "# Encode all our labels\n",
        "y = label_encoder.encode(y)\n",
        "print (y.shape)"
      ]
    },
    {
      "cell_type": "markdown",
      "metadata": {
        "id": "w4RSLvShox6H"
      },
      "source": [
        "Many of the *transformations* we're going to do on our input text features are model specific. For example, for our simple baselines we may do `label encoding` → `tf-idf` while for the more involved architectures we may do `label encoding` → `one-hot encoding` → `embeddings`. So we'll cover these in the next suite of lessons as we implement our [baselines](https://madewithml.com/courses/mlops/baselines) lesson."
      ]
    },
    {
      "cell_type": "markdown",
      "metadata": {
        "id": "ufCNlDjQNkSW"
      },
      "source": [
        "## Splitting"
      ]
    },
    {
      "cell_type": "markdown",
      "metadata": {
        "id": "BBRwUKtfNkSW"
      },
      "source": [
        "It's time to split our dataset into three data splits for training, validation and testing."
      ]
    },
    {
      "cell_type": "code",
      "execution_count": null,
      "metadata": {
        "id": "WEhp9SMFNkSW"
      },
      "outputs": [],
      "source": [
        "from sklearn.model_selection import train_test_split"
      ]
    },
    {
      "cell_type": "code",
      "execution_count": null,
      "metadata": {
        "id": "TTUju11uNkSW"
      },
      "outputs": [],
      "source": [
        "# Split sizes\n",
        "train_size = 0.7\n",
        "val_size = 0.15\n",
        "test_size = 0.15"
      ]
    },
    {
      "cell_type": "markdown",
      "metadata": {
        "id": "DTRQWabKNkSW"
      },
      "source": [
        "For our multi-class task (each input has one label), we want to ensure that each data split has similar class distributions. We can achieve this by specifying how to stratify the split by adding the [`stratify`](https://scikit-learn.org/stable/modules/generated/sklearn.model_selection.train_test_split.html) keyword argument."
      ]
    },
    {
      "cell_type": "code",
      "execution_count": null,
      "metadata": {
        "id": "fw83_zitNkSW"
      },
      "outputs": [],
      "source": [
        "# Split (train)\n",
        "X_train, X_, y_train, y_ = train_test_split(\n",
        "    X, y, train_size=train_size, stratify=y)"
      ]
    },
    {
      "cell_type": "code",
      "execution_count": null,
      "metadata": {
        "colab": {
          "base_uri": "https://localhost:8080/"
        },
        "id": "WPVutu_dNkSW",
        "outputId": "3870f7b6-27b1-4d5f-d6f7-bf86f112a4cc"
      },
      "outputs": [
        {
          "name": "stdout",
          "output_type": "stream",
          "text": [
            "train: 668 (0.70)\n",
            "remaining: 287 (0.30)\n"
          ]
        }
      ],
      "source": [
        "print (f\"train: {len(X_train)} ({(len(X_train) / len(X)):.2f})\\n\"\n",
        "       f\"remaining: {len(X_)} ({(len(X_) / len(X)):.2f})\")"
      ]
    },
    {
      "cell_type": "code",
      "execution_count": null,
      "metadata": {
        "id": "u-CFrR7pNkSW"
      },
      "outputs": [],
      "source": [
        "# Split (test)\n",
        "X_val, X_test, y_val, y_test = train_test_split(\n",
        "    X_, y_, train_size=0.5, stratify=y_)"
      ]
    },
    {
      "cell_type": "code",
      "execution_count": null,
      "metadata": {
        "colab": {
          "base_uri": "https://localhost:8080/"
        },
        "id": "-evG0mc1NkSW",
        "outputId": "39b59f45-51a0-415a-aa22-745b10779220"
      },
      "outputs": [
        {
          "name": "stdout",
          "output_type": "stream",
          "text": [
            "train: 668 (0.70)\n",
            "val: 143 (0.15)\n",
            "test: 144 (0.15)\n"
          ]
        }
      ],
      "source": [
        "print(f\"train: {len(X_train)} ({len(X_train)/len(X):.2f})\\n\"\n",
        "      f\"val: {len(X_val)} ({len(X_val)/len(X):.2f})\\n\"\n",
        "      f\"test: {len(X_test)} ({len(X_test)/len(X):.2f})\")"
      ]
    },
    {
      "cell_type": "code",
      "execution_count": null,
      "metadata": {
        "id": "Jw7KBZxsNkSW"
      },
      "outputs": [],
      "source": [
        "# Get counts for each class\n",
        "counts = {}\n",
        "counts[\"train_counts\"] = {tag: label_encoder.decode(y_train).count(tag) for tag in label_encoder.classes}\n",
        "counts[\"val_counts\"] = {tag: label_encoder.decode(y_val).count(tag) for tag in label_encoder.classes}\n",
        "counts[\"test_counts\"] = {tag: label_encoder.decode(y_test).count(tag) for tag in label_encoder.classes}"
      ]
    },
    {
      "cell_type": "code",
      "execution_count": null,
      "metadata": {
        "colab": {
          "base_uri": "https://localhost:8080/",
          "height": 143
        },
        "id": "XsqdznxBNkSW",
        "outputId": "48cc6887-3a9e-4d70-a8d3-4c70c437c313"
      },
      "outputs": [
        {
          "data": {
            "text/html": [
              "\n",
              "  <div id=\"df-e424f5ab-644b-44b1-81c3-008ef57cee64\">\n",
              "    <div class=\"colab-df-container\">\n",
              "      <div>\n",
              "<style scoped>\n",
              "    .dataframe tbody tr th:only-of-type {\n",
              "        vertical-align: middle;\n",
              "    }\n",
              "\n",
              "    .dataframe tbody tr th {\n",
              "        vertical-align: top;\n",
              "    }\n",
              "\n",
              "    .dataframe thead th {\n",
              "        text-align: right;\n",
              "    }\n",
              "</style>\n",
              "<table border=\"1\" class=\"dataframe\">\n",
              "  <thead>\n",
              "    <tr style=\"text-align: right;\">\n",
              "      <th></th>\n",
              "      <th>computer-vision</th>\n",
              "      <th>mlops</th>\n",
              "      <th>natural-language-processing</th>\n",
              "      <th>other</th>\n",
              "    </tr>\n",
              "  </thead>\n",
              "  <tbody>\n",
              "    <tr>\n",
              "      <th>train</th>\n",
              "      <td>249</td>\n",
              "      <td>55</td>\n",
              "      <td>272</td>\n",
              "      <td>92</td>\n",
              "    </tr>\n",
              "    <tr>\n",
              "      <th>val</th>\n",
              "      <td>53</td>\n",
              "      <td>12</td>\n",
              "      <td>58</td>\n",
              "      <td>20</td>\n",
              "    </tr>\n",
              "    <tr>\n",
              "      <th>test</th>\n",
              "      <td>54</td>\n",
              "      <td>12</td>\n",
              "      <td>58</td>\n",
              "      <td>20</td>\n",
              "    </tr>\n",
              "  </tbody>\n",
              "</table>\n",
              "</div>\n",
              "      <button class=\"colab-df-convert\" onclick=\"convertToInteractive('df-e424f5ab-644b-44b1-81c3-008ef57cee64')\"\n",
              "              title=\"Convert this dataframe to an interactive table.\"\n",
              "              style=\"display:none;\">\n",
              "        \n",
              "  <svg xmlns=\"http://www.w3.org/2000/svg\" height=\"24px\"viewBox=\"0 0 24 24\"\n",
              "       width=\"24px\">\n",
              "    <path d=\"M0 0h24v24H0V0z\" fill=\"none\"/>\n",
              "    <path d=\"M18.56 5.44l.94 2.06.94-2.06 2.06-.94-2.06-.94-.94-2.06-.94 2.06-2.06.94zm-11 1L8.5 8.5l.94-2.06 2.06-.94-2.06-.94L8.5 2.5l-.94 2.06-2.06.94zm10 10l.94 2.06.94-2.06 2.06-.94-2.06-.94-.94-2.06-.94 2.06-2.06.94z\"/><path d=\"M17.41 7.96l-1.37-1.37c-.4-.4-.92-.59-1.43-.59-.52 0-1.04.2-1.43.59L10.3 9.45l-7.72 7.72c-.78.78-.78 2.05 0 2.83L4 21.41c.39.39.9.59 1.41.59.51 0 1.02-.2 1.41-.59l7.78-7.78 2.81-2.81c.8-.78.8-2.07 0-2.86zM5.41 20L4 18.59l7.72-7.72 1.47 1.35L5.41 20z\"/>\n",
              "  </svg>\n",
              "      </button>\n",
              "      \n",
              "  <style>\n",
              "    .colab-df-container {\n",
              "      display:flex;\n",
              "      flex-wrap:wrap;\n",
              "      gap: 12px;\n",
              "    }\n",
              "\n",
              "    .colab-df-convert {\n",
              "      background-color: #E8F0FE;\n",
              "      border: none;\n",
              "      border-radius: 50%;\n",
              "      cursor: pointer;\n",
              "      display: none;\n",
              "      fill: #1967D2;\n",
              "      height: 32px;\n",
              "      padding: 0 0 0 0;\n",
              "      width: 32px;\n",
              "    }\n",
              "\n",
              "    .colab-df-convert:hover {\n",
              "      background-color: #E2EBFA;\n",
              "      box-shadow: 0px 1px 2px rgba(60, 64, 67, 0.3), 0px 1px 3px 1px rgba(60, 64, 67, 0.15);\n",
              "      fill: #174EA6;\n",
              "    }\n",
              "\n",
              "    [theme=dark] .colab-df-convert {\n",
              "      background-color: #3B4455;\n",
              "      fill: #D2E3FC;\n",
              "    }\n",
              "\n",
              "    [theme=dark] .colab-df-convert:hover {\n",
              "      background-color: #434B5C;\n",
              "      box-shadow: 0px 1px 3px 1px rgba(0, 0, 0, 0.15);\n",
              "      filter: drop-shadow(0px 1px 2px rgba(0, 0, 0, 0.3));\n",
              "      fill: #FFFFFF;\n",
              "    }\n",
              "  </style>\n",
              "\n",
              "      <script>\n",
              "        const buttonEl =\n",
              "          document.querySelector('#df-e424f5ab-644b-44b1-81c3-008ef57cee64 button.colab-df-convert');\n",
              "        buttonEl.style.display =\n",
              "          google.colab.kernel.accessAllowed ? 'block' : 'none';\n",
              "\n",
              "        async function convertToInteractive(key) {\n",
              "          const element = document.querySelector('#df-e424f5ab-644b-44b1-81c3-008ef57cee64');\n",
              "          const dataTable =\n",
              "            await google.colab.kernel.invokeFunction('convertToInteractive',\n",
              "                                                     [key], {});\n",
              "          if (!dataTable) return;\n",
              "\n",
              "          const docLinkHtml = 'Like what you see? Visit the ' +\n",
              "            '<a target=\"_blank\" href=https://colab.research.google.com/notebooks/data_table.ipynb>data table notebook</a>'\n",
              "            + ' to learn more about interactive tables.';\n",
              "          element.innerHTML = '';\n",
              "          dataTable['output_type'] = 'display_data';\n",
              "          await google.colab.output.renderOutput(dataTable, element);\n",
              "          const docLink = document.createElement('div');\n",
              "          docLink.innerHTML = docLinkHtml;\n",
              "          element.appendChild(docLink);\n",
              "        }\n",
              "      </script>\n",
              "    </div>\n",
              "  </div>\n",
              "  "
            ],
            "text/plain": [
              "       computer-vision  mlops  natural-language-processing  other\n",
              "train              249     55                          272     92\n",
              "val                 53     12                           58     20\n",
              "test                54     12                           58     20"
            ]
          },
          "execution_count": 42,
          "metadata": {},
          "output_type": "execute_result"
        }
      ],
      "source": [
        "# View distributions\n",
        "pd.DataFrame({\n",
        "    \"train\": counts[\"train_counts\"],\n",
        "    \"val\": counts[\"val_counts\"],\n",
        "    \"test\": counts[\"test_counts\"]\n",
        "}).T.fillna(0)"
      ]
    },
    {
      "cell_type": "markdown",
      "metadata": {
        "id": "_UIGPYZCNkSW"
      },
      "source": [
        "It's hard to compare these because our train and test proportions are different. Let's see what the distribution looks like once we balance it out. What do we need to multiply our test ratio by so that we have the same amount as our train ratio?\n",
        "\n",
        "$$ \\alpha * N_{test} = N_{train} $$\n",
        "\n",
        "$$ \\alpha = \\frac{N_{train}}{N_{test}} $$"
      ]
    },
    {
      "cell_type": "code",
      "execution_count": null,
      "metadata": {
        "id": "Nu1CRlQRNkSW"
      },
      "outputs": [],
      "source": [
        "# Adjust counts across splits\n",
        "for k in counts[\"val_counts\"].keys():\n",
        "    counts[\"val_counts\"][k] = int(counts[\"val_counts\"][k] * \\\n",
        "        (train_size/val_size))\n",
        "for k in counts[\"test_counts\"].keys():\n",
        "    counts[\"test_counts\"][k] = int(counts[\"test_counts\"][k] * \\\n",
        "        (train_size/test_size))"
      ]
    },
    {
      "cell_type": "code",
      "execution_count": null,
      "metadata": {
        "colab": {
          "base_uri": "https://localhost:8080/",
          "height": 143
        },
        "id": "TRZcPnAkNkSW",
        "outputId": "2e199ed5-9aef-4504-a270-28c018cc288a"
      },
      "outputs": [
        {
          "data": {
            "text/html": [
              "\n",
              "  <div id=\"df-1dd84c43-8cbb-40b5-b57c-6880bc928a9c\">\n",
              "    <div class=\"colab-df-container\">\n",
              "      <div>\n",
              "<style scoped>\n",
              "    .dataframe tbody tr th:only-of-type {\n",
              "        vertical-align: middle;\n",
              "    }\n",
              "\n",
              "    .dataframe tbody tr th {\n",
              "        vertical-align: top;\n",
              "    }\n",
              "\n",
              "    .dataframe thead th {\n",
              "        text-align: right;\n",
              "    }\n",
              "</style>\n",
              "<table border=\"1\" class=\"dataframe\">\n",
              "  <thead>\n",
              "    <tr style=\"text-align: right;\">\n",
              "      <th></th>\n",
              "      <th>computer-vision</th>\n",
              "      <th>mlops</th>\n",
              "      <th>natural-language-processing</th>\n",
              "      <th>other</th>\n",
              "    </tr>\n",
              "  </thead>\n",
              "  <tbody>\n",
              "    <tr>\n",
              "      <th>train</th>\n",
              "      <td>249</td>\n",
              "      <td>55</td>\n",
              "      <td>272</td>\n",
              "      <td>92</td>\n",
              "    </tr>\n",
              "    <tr>\n",
              "      <th>val</th>\n",
              "      <td>247</td>\n",
              "      <td>56</td>\n",
              "      <td>270</td>\n",
              "      <td>93</td>\n",
              "    </tr>\n",
              "    <tr>\n",
              "      <th>test</th>\n",
              "      <td>252</td>\n",
              "      <td>56</td>\n",
              "      <td>270</td>\n",
              "      <td>93</td>\n",
              "    </tr>\n",
              "  </tbody>\n",
              "</table>\n",
              "</div>\n",
              "      <button class=\"colab-df-convert\" onclick=\"convertToInteractive('df-1dd84c43-8cbb-40b5-b57c-6880bc928a9c')\"\n",
              "              title=\"Convert this dataframe to an interactive table.\"\n",
              "              style=\"display:none;\">\n",
              "        \n",
              "  <svg xmlns=\"http://www.w3.org/2000/svg\" height=\"24px\"viewBox=\"0 0 24 24\"\n",
              "       width=\"24px\">\n",
              "    <path d=\"M0 0h24v24H0V0z\" fill=\"none\"/>\n",
              "    <path d=\"M18.56 5.44l.94 2.06.94-2.06 2.06-.94-2.06-.94-.94-2.06-.94 2.06-2.06.94zm-11 1L8.5 8.5l.94-2.06 2.06-.94-2.06-.94L8.5 2.5l-.94 2.06-2.06.94zm10 10l.94 2.06.94-2.06 2.06-.94-2.06-.94-.94-2.06-.94 2.06-2.06.94z\"/><path d=\"M17.41 7.96l-1.37-1.37c-.4-.4-.92-.59-1.43-.59-.52 0-1.04.2-1.43.59L10.3 9.45l-7.72 7.72c-.78.78-.78 2.05 0 2.83L4 21.41c.39.39.9.59 1.41.59.51 0 1.02-.2 1.41-.59l7.78-7.78 2.81-2.81c.8-.78.8-2.07 0-2.86zM5.41 20L4 18.59l7.72-7.72 1.47 1.35L5.41 20z\"/>\n",
              "  </svg>\n",
              "      </button>\n",
              "      \n",
              "  <style>\n",
              "    .colab-df-container {\n",
              "      display:flex;\n",
              "      flex-wrap:wrap;\n",
              "      gap: 12px;\n",
              "    }\n",
              "\n",
              "    .colab-df-convert {\n",
              "      background-color: #E8F0FE;\n",
              "      border: none;\n",
              "      border-radius: 50%;\n",
              "      cursor: pointer;\n",
              "      display: none;\n",
              "      fill: #1967D2;\n",
              "      height: 32px;\n",
              "      padding: 0 0 0 0;\n",
              "      width: 32px;\n",
              "    }\n",
              "\n",
              "    .colab-df-convert:hover {\n",
              "      background-color: #E2EBFA;\n",
              "      box-shadow: 0px 1px 2px rgba(60, 64, 67, 0.3), 0px 1px 3px 1px rgba(60, 64, 67, 0.15);\n",
              "      fill: #174EA6;\n",
              "    }\n",
              "\n",
              "    [theme=dark] .colab-df-convert {\n",
              "      background-color: #3B4455;\n",
              "      fill: #D2E3FC;\n",
              "    }\n",
              "\n",
              "    [theme=dark] .colab-df-convert:hover {\n",
              "      background-color: #434B5C;\n",
              "      box-shadow: 0px 1px 3px 1px rgba(0, 0, 0, 0.15);\n",
              "      filter: drop-shadow(0px 1px 2px rgba(0, 0, 0, 0.3));\n",
              "      fill: #FFFFFF;\n",
              "    }\n",
              "  </style>\n",
              "\n",
              "      <script>\n",
              "        const buttonEl =\n",
              "          document.querySelector('#df-1dd84c43-8cbb-40b5-b57c-6880bc928a9c button.colab-df-convert');\n",
              "        buttonEl.style.display =\n",
              "          google.colab.kernel.accessAllowed ? 'block' : 'none';\n",
              "\n",
              "        async function convertToInteractive(key) {\n",
              "          const element = document.querySelector('#df-1dd84c43-8cbb-40b5-b57c-6880bc928a9c');\n",
              "          const dataTable =\n",
              "            await google.colab.kernel.invokeFunction('convertToInteractive',\n",
              "                                                     [key], {});\n",
              "          if (!dataTable) return;\n",
              "\n",
              "          const docLinkHtml = 'Like what you see? Visit the ' +\n",
              "            '<a target=\"_blank\" href=https://colab.research.google.com/notebooks/data_table.ipynb>data table notebook</a>'\n",
              "            + ' to learn more about interactive tables.';\n",
              "          element.innerHTML = '';\n",
              "          dataTable['output_type'] = 'display_data';\n",
              "          await google.colab.output.renderOutput(dataTable, element);\n",
              "          const docLink = document.createElement('div');\n",
              "          docLink.innerHTML = docLinkHtml;\n",
              "          element.appendChild(docLink);\n",
              "        }\n",
              "      </script>\n",
              "    </div>\n",
              "  </div>\n",
              "  "
            ],
            "text/plain": [
              "       computer-vision  mlops  natural-language-processing  other\n",
              "train              249     55                          272     92\n",
              "val                247     56                          270     93\n",
              "test               252     56                          270     93"
            ]
          },
          "execution_count": 44,
          "metadata": {},
          "output_type": "execute_result"
        }
      ],
      "source": [
        "dist_df = pd.DataFrame({\n",
        "    \"train\": counts[\"train_counts\"],\n",
        "    \"val\": counts[\"val_counts\"],\n",
        "    \"test\": counts[\"test_counts\"]\n",
        "}).T.fillna(0)\n",
        "dist_df"
      ]
    },
    {
      "cell_type": "markdown",
      "metadata": {
        "id": "o-XWskGRNkSW"
      },
      "source": [
        "We can see how much deviance there is in our naive data splits by computing the standard deviation of each split's class counts from the mean (ideal split).\n",
        "\n",
        "$ \\sigma = \\sqrt{\\frac{(x - \\bar{x})^2}{N}} $"
      ]
    },
    {
      "cell_type": "code",
      "execution_count": null,
      "metadata": {
        "colab": {
          "base_uri": "https://localhost:8080/"
        },
        "id": "jYL9nvKvNkSW",
        "outputId": "528dd94c-8afb-4991-cbe2-7541344fd7a3"
      },
      "outputs": [
        {
          "data": {
            "text/plain": [
              "0.9851056877051131"
            ]
          },
          "execution_count": 45,
          "metadata": {},
          "output_type": "execute_result"
        }
      ],
      "source": [
        "# Standard deviation\n",
        "np.mean(np.std(dist_df.to_numpy(), axis=0))"
      ]
    },
    {
      "cell_type": "code",
      "execution_count": null,
      "metadata": {
        "colab": {
          "base_uri": "https://localhost:8080/",
          "height": 206
        },
        "id": "2_hVotyuUdFP",
        "outputId": "56a88240-4899-4d37-aecf-31af6459e582"
      },
      "outputs": [
        {
          "data": {
            "text/html": [
              "\n",
              "  <div id=\"df-1b48978a-aa44-40ae-95f2-e47e8daf2f3e\">\n",
              "    <div class=\"colab-df-container\">\n",
              "      <div>\n",
              "<style scoped>\n",
              "    .dataframe tbody tr th:only-of-type {\n",
              "        vertical-align: middle;\n",
              "    }\n",
              "\n",
              "    .dataframe tbody tr th {\n",
              "        vertical-align: top;\n",
              "    }\n",
              "\n",
              "    .dataframe thead th {\n",
              "        text-align: right;\n",
              "    }\n",
              "</style>\n",
              "<table border=\"1\" class=\"dataframe\">\n",
              "  <thead>\n",
              "    <tr style=\"text-align: right;\">\n",
              "      <th></th>\n",
              "      <th>text</th>\n",
              "      <th>tag</th>\n",
              "    </tr>\n",
              "  </thead>\n",
              "  <tbody>\n",
              "    <tr>\n",
              "      <th>0</th>\n",
              "      <td>advanced deep learning computer vision adl4cv ...</td>\n",
              "      <td>computer-vision</td>\n",
              "    </tr>\n",
              "    <tr>\n",
              "      <th>1</th>\n",
              "      <td>easy data augmentation eda easy data augmentat...</td>\n",
              "      <td>natural-language-processing</td>\n",
              "    </tr>\n",
              "    <tr>\n",
              "      <th>2</th>\n",
              "      <td>segmentation models segmentation models pretra...</td>\n",
              "      <td>computer-vision</td>\n",
              "    </tr>\n",
              "    <tr>\n",
              "      <th>3</th>\n",
              "      <td>future computer vision self supervised learnin...</td>\n",
              "      <td>computer-vision</td>\n",
              "    </tr>\n",
              "    <tr>\n",
              "      <th>4</th>\n",
              "      <td>summarize webapge flask application extracts s...</td>\n",
              "      <td>natural-language-processing</td>\n",
              "    </tr>\n",
              "  </tbody>\n",
              "</table>\n",
              "</div>\n",
              "      <button class=\"colab-df-convert\" onclick=\"convertToInteractive('df-1b48978a-aa44-40ae-95f2-e47e8daf2f3e')\"\n",
              "              title=\"Convert this dataframe to an interactive table.\"\n",
              "              style=\"display:none;\">\n",
              "        \n",
              "  <svg xmlns=\"http://www.w3.org/2000/svg\" height=\"24px\"viewBox=\"0 0 24 24\"\n",
              "       width=\"24px\">\n",
              "    <path d=\"M0 0h24v24H0V0z\" fill=\"none\"/>\n",
              "    <path d=\"M18.56 5.44l.94 2.06.94-2.06 2.06-.94-2.06-.94-.94-2.06-.94 2.06-2.06.94zm-11 1L8.5 8.5l.94-2.06 2.06-.94-2.06-.94L8.5 2.5l-.94 2.06-2.06.94zm10 10l.94 2.06.94-2.06 2.06-.94-2.06-.94-.94-2.06-.94 2.06-2.06.94z\"/><path d=\"M17.41 7.96l-1.37-1.37c-.4-.4-.92-.59-1.43-.59-.52 0-1.04.2-1.43.59L10.3 9.45l-7.72 7.72c-.78.78-.78 2.05 0 2.83L4 21.41c.39.39.9.59 1.41.59.51 0 1.02-.2 1.41-.59l7.78-7.78 2.81-2.81c.8-.78.8-2.07 0-2.86zM5.41 20L4 18.59l7.72-7.72 1.47 1.35L5.41 20z\"/>\n",
              "  </svg>\n",
              "      </button>\n",
              "      \n",
              "  <style>\n",
              "    .colab-df-container {\n",
              "      display:flex;\n",
              "      flex-wrap:wrap;\n",
              "      gap: 12px;\n",
              "    }\n",
              "\n",
              "    .colab-df-convert {\n",
              "      background-color: #E8F0FE;\n",
              "      border: none;\n",
              "      border-radius: 50%;\n",
              "      cursor: pointer;\n",
              "      display: none;\n",
              "      fill: #1967D2;\n",
              "      height: 32px;\n",
              "      padding: 0 0 0 0;\n",
              "      width: 32px;\n",
              "    }\n",
              "\n",
              "    .colab-df-convert:hover {\n",
              "      background-color: #E2EBFA;\n",
              "      box-shadow: 0px 1px 2px rgba(60, 64, 67, 0.3), 0px 1px 3px 1px rgba(60, 64, 67, 0.15);\n",
              "      fill: #174EA6;\n",
              "    }\n",
              "\n",
              "    [theme=dark] .colab-df-convert {\n",
              "      background-color: #3B4455;\n",
              "      fill: #D2E3FC;\n",
              "    }\n",
              "\n",
              "    [theme=dark] .colab-df-convert:hover {\n",
              "      background-color: #434B5C;\n",
              "      box-shadow: 0px 1px 3px 1px rgba(0, 0, 0, 0.15);\n",
              "      filter: drop-shadow(0px 1px 2px rgba(0, 0, 0, 0.3));\n",
              "      fill: #FFFFFF;\n",
              "    }\n",
              "  </style>\n",
              "\n",
              "      <script>\n",
              "        const buttonEl =\n",
              "          document.querySelector('#df-1b48978a-aa44-40ae-95f2-e47e8daf2f3e button.colab-df-convert');\n",
              "        buttonEl.style.display =\n",
              "          google.colab.kernel.accessAllowed ? 'block' : 'none';\n",
              "\n",
              "        async function convertToInteractive(key) {\n",
              "          const element = document.querySelector('#df-1b48978a-aa44-40ae-95f2-e47e8daf2f3e');\n",
              "          const dataTable =\n",
              "            await google.colab.kernel.invokeFunction('convertToInteractive',\n",
              "                                                     [key], {});\n",
              "          if (!dataTable) return;\n",
              "\n",
              "          const docLinkHtml = 'Like what you see? Visit the ' +\n",
              "            '<a target=\"_blank\" href=https://colab.research.google.com/notebooks/data_table.ipynb>data table notebook</a>'\n",
              "            + ' to learn more about interactive tables.';\n",
              "          element.innerHTML = '';\n",
              "          dataTable['output_type'] = 'display_data';\n",
              "          await google.colab.output.renderOutput(dataTable, element);\n",
              "          const docLink = document.createElement('div');\n",
              "          docLink.innerHTML = docLinkHtml;\n",
              "          element.appendChild(docLink);\n",
              "        }\n",
              "      </script>\n",
              "    </div>\n",
              "  </div>\n",
              "  "
            ],
            "text/plain": [
              "                                                text  \\\n",
              "0  advanced deep learning computer vision adl4cv ...   \n",
              "1  easy data augmentation eda easy data augmentat...   \n",
              "2  segmentation models segmentation models pretra...   \n",
              "3  future computer vision self supervised learnin...   \n",
              "4  summarize webapge flask application extracts s...   \n",
              "\n",
              "                           tag  \n",
              "0              computer-vision  \n",
              "1  natural-language-processing  \n",
              "2              computer-vision  \n",
              "3              computer-vision  \n",
              "4  natural-language-processing  "
            ]
          },
          "execution_count": 46,
          "metadata": {},
          "output_type": "execute_result"
        }
      ],
      "source": [
        "# Split DataFrames\n",
        "train_df = pd.DataFrame({\"text\": X_train, \"tag\": label_encoder.decode(y_train)})\n",
        "val_df = pd.DataFrame({\"text\": X_val, \"tag\": label_encoder.decode(y_val)})\n",
        "test_df = pd.DataFrame({\"text\": X_test, \"tag\": label_encoder.decode(y_test)})\n",
        "train_df.head()"
      ]
    },
    {
      "cell_type": "markdown",
      "metadata": {
        "id": "whQp6BPxvQaz"
      },
      "source": [
        "> If we had a multi-label classification task, then we would've applied [iterative stratification](http://lpis.csd.auth.gr/publications/sechidis-ecmlpkdd-2011.pdf) via the [skmultilearn](http://scikit.ml/index.html) library, which essentially splits each input into subsets (where each label is considered individually) and then it distributes the samples starting with fewest \"positive\" samples and working up to the inputs that have the most labels."
      ]
    },
    {
      "cell_type": "markdown",
      "metadata": {
        "id": "q5b-_Pg9UUVz"
      },
      "source": [
        "```python\n",
        "from skmultilearn.model_selection import IterativeStratification\n",
        "def iterative_train_test_split(X, y, train_size):\n",
        "    \"\"\"Custom iterative train test split which \n",
        "    'maintains balanced representation with respect \n",
        "    to order-th label combinations.'\n",
        "    \"\"\"\n",
        "    stratifier = IterativeStratification(\n",
        "        n_splits=2, order=1, sample_distribution_per_fold=[1.0-train_size, train_size, ])\n",
        "    train_indices, test_indices = next(stratifier.split(X, y))\n",
        "    X_train, y_train = X[train_indices], y[train_indices]\n",
        "    X_test, y_test = X[test_indices], y[test_indices]\n",
        "    return X_train, X_test, y_train, y_test\n",
        "```"
      ]
    },
    {
      "cell_type": "markdown",
      "metadata": {
        "id": "1GvMA5m0vWVr"
      },
      "source": [
        "> [Iterative stratification](http://scikit.ml/_modules/skmultilearn/model_selection/iterative_stratification.html#IterativeStratification) essentially creates splits while \"trying to maintain balanced representation with respect to order-th label combinations\". We used to an `order=1` for our iterative split which means we cared about providing representative distribution of each tag across the splits. But we can account for [higher-order](https://arxiv.org/abs/1704.08756) label relationships as well where we may care about the distribution of label combinations."
      ]
    },
    {
      "cell_type": "markdown",
      "metadata": {
        "id": "ZsR6To1zNkSX"
      },
      "source": [
        "## Augmentation"
      ]
    },
    {
      "cell_type": "markdown",
      "metadata": {
        "id": "BZQNks8TNkSX"
      },
      "source": [
        "We'll often want to increase the size and diversity of our training data split through data augmentation. It involves using the existing samples to generate synthetic, yet realistic, examples.\n",
        "\n",
        "> It's important that we implement augmentation and data imbalance techniques *after* splitting our dataset so that we aren't introducing data leaks."
      ]
    },
    {
      "cell_type": "markdown",
      "metadata": {
        "id": "Q2uvOqlzmuUA"
      },
      "source": [
        "We'll use the [nlpaug](https://github.com/makcedward/nlpaug) library to augment our dataset and assess the quality of the generated samples."
      ]
    },
    {
      "cell_type": "code",
      "execution_count": null,
      "metadata": {
        "colab": {
          "base_uri": "https://localhost:8080/"
        },
        "id": "PR9WLz0jc3GO",
        "outputId": "a57f39c2-01a4-493b-f0de-c1e726ca37d6"
      },
      "outputs": [
        {
          "name": "stdout",
          "output_type": "stream",
          "text": [
            "\u001b[K     |████████████████████████████████| 3.0 MB 7.5 MB/s \n",
            "\u001b[K     |████████████████████████████████| 1.3 MB 49.0 MB/s \n",
            "\u001b[K     |████████████████████████████████| 880 kB 52.0 MB/s \n",
            "\u001b[?25h  Building wheel for sacremoses (setup.py) ... \u001b[?25l\u001b[?25hdone\n",
            "\u001b[33mWARNING: Error parsing requirements for tensorboard: [Errno 2] No such file or directory: '/usr/local/lib/python3.8/dist-packages/tensorboard-2.9.1.dist-info/METADATA'\u001b[0m\n",
            "\u001b[33mWARNING: Error parsing requirements for google-auth: [Errno 2] No such file or directory: '/usr/local/lib/python3.8/dist-packages/google_auth-2.15.0.dist-info/METADATA'\u001b[0m\n",
            "\u001b[33mWARNING: Ignoring invalid distribution -cikit-learn (/usr/local/lib/python3.8/dist-packages)\u001b[0m\n",
            "\u001b[33mWARNING: Ignoring invalid distribution -cikit-learn (/usr/local/lib/python3.8/dist-packages)\u001b[0m\n",
            "\u001b[33mWARNING: Ignoring invalid distribution -cikit-learn (/usr/local/lib/python3.8/dist-packages)\u001b[0m\n",
            "\u001b[33mWARNING: Ignoring invalid distribution -cikit-learn (/usr/local/lib/python3.8/dist-packages)\u001b[0m\n",
            "\u001b[33mWARNING: Ignoring invalid distribution -cikit-learn (/usr/local/lib/python3.8/dist-packages)\u001b[0m\n",
            "\u001b[33mWARNING: Error parsing requirements for networkx: [Errno 2] No such file or directory: '/usr/local/lib/python3.8/dist-packages/networkx-2.8.8.dist-info/METADATA'\u001b[0m\n"
          ]
        }
      ],
      "source": [
        "%pip install nlpaug==1.1.0 transformers==3.0.2 -q\n",
        "%pip install snorkel==0.9.8 -q"
      ]
    },
    {
      "cell_type": "code",
      "execution_count": null,
      "metadata": {
        "id": "C6MX5Gm8NkSX"
      },
      "outputs": [],
      "source": [
        "import nlpaug.augmenter.word as naw"
      ]
    },
    {
      "cell_type": "code",
      "execution_count": null,
      "metadata": {
        "colab": {
          "base_uri": "https://localhost:8080/",
          "height": 113,
          "referenced_widgets": [
            "71e2357777d84d31862b0a03dfee8ada",
            "aa909c62a9914429ab1a10f9556a8198",
            "7b17e0af1ef2402ab3900ef37b23866d",
            "bd7702588efa475f882d480ef54101ae",
            "e2526ade160b49bea4624fe0466f0d76",
            "b1cdc20cbf344642ae312165eeb02203",
            "54b170fed0dd4bc393ee551418318fc8",
            "6cf4bd04ab774d25af72238e0dc47557",
            "7002f939130543bdb96d4a65da38ac1e",
            "4a74a206d68a42fcbbe2bcce1073f681",
            "0b2feb3c150e4bdaa136351703855a62",
            "6861d605c5604a2694fd5169c3b5ed4b",
            "84713018f8e8465298e6d55702fe0dc9",
            "58186c64bb0d4ec694e48d23106854b5",
            "831700bedbfd4a90bd5f2347fdc9e374",
            "6947e78299604e2c8bfaecccad50c243",
            "c744ec5a1b934ecc90ae5c8ee96e5eae",
            "d80a152b7e964720b495d1a7508a27c7",
            "c9598f8be72d4243af68b260de8da907",
            "7959d7e03522484e950bb60e5d544fbf",
            "1c749a336db24295a7bbe5d492a242d7",
            "13e0b59f7ef046839d68258a823641ec",
            "b64e2fdb5fd64c7d848b7fc823e52c0c",
            "d15b5725838444de90f9ba181e2f0aaa",
            "3d4c41f0a54346c9b042f7103d1f8968",
            "1e56c875c07d49f09311f2a3a00b564c",
            "a979085883d94b29965eed642d6efea8",
            "e9b27aea6aaa4e58b15950e30222ef59",
            "bb51a172c8e141eaac50da364dbeb23c",
            "71040735fc6e42eaa432acf96028f32a",
            "89157c9e1ce94435a2169316059bfe9b",
            "c6264d900ff5440cb80d0fb8316a64bd",
            "1501666eba1745df9f16d5b7b7ed1226"
          ]
        },
        "id": "A9kUIKpsNkSX",
        "outputId": "a2bd6813-08bb-4047-905b-6aed48533775"
      },
      "outputs": [
        {
          "data": {
            "application/vnd.jupyter.widget-view+json": {
              "model_id": "71e2357777d84d31862b0a03dfee8ada",
              "version_major": 2,
              "version_minor": 0
            },
            "text/plain": [
              "Downloading:   0%|          | 0.00/442 [00:00<?, ?B/s]"
            ]
          },
          "metadata": {},
          "output_type": "display_data"
        },
        {
          "data": {
            "application/vnd.jupyter.widget-view+json": {
              "model_id": "6861d605c5604a2694fd5169c3b5ed4b",
              "version_major": 2,
              "version_minor": 0
            },
            "text/plain": [
              "Downloading:   0%|          | 0.00/232k [00:00<?, ?B/s]"
            ]
          },
          "metadata": {},
          "output_type": "display_data"
        },
        {
          "data": {
            "application/vnd.jupyter.widget-view+json": {
              "model_id": "b64e2fdb5fd64c7d848b7fc823e52c0c",
              "version_major": 2,
              "version_minor": 0
            },
            "text/plain": [
              "Downloading:   0%|          | 0.00/268M [00:00<?, ?B/s]"
            ]
          },
          "metadata": {},
          "output_type": "display_data"
        }
      ],
      "source": [
        "# Load tokenizers and transformers\n",
        "substitution = naw.ContextualWordEmbsAug(model_path=\"distilbert-base-uncased\", action=\"substitute\")\n",
        "insertion = naw.ContextualWordEmbsAug(model_path=\"distilbert-base-uncased\", action=\"insert\")"
      ]
    },
    {
      "cell_type": "code",
      "execution_count": null,
      "metadata": {
        "id": "3YWn96hxNkSX"
      },
      "outputs": [],
      "source": [
        "text = \"Conditional image generation using Variational Autoencoders and GANs.\""
      ]
    },
    {
      "cell_type": "code",
      "execution_count": null,
      "metadata": {
        "id": "NLt1kYXkg3L8"
      },
      "outputs": [],
      "source": [
        "# Substitutions\n",
        "substitution.augment(text)"
      ]
    },
    {
      "cell_type": "markdown",
      "metadata": {
        "id": "36DzpSqbNkSX"
      },
      "source": [
        "Substitution doesn't seem like a great idea for us because there are certain keywords that provide strong signal for our tags so we don't want to alter those. Also, note that these augmentations are NOT deterministic and will vary every time we run them. Let's try insertion..."
      ]
    },
    {
      "cell_type": "code",
      "execution_count": null,
      "metadata": {
        "id": "bK8PV0FWb7pE"
      },
      "outputs": [],
      "source": [
        "# Insertions\n",
        "insertion.augment(text)"
      ]
    },
    {
      "cell_type": "markdown",
      "metadata": {
        "id": "x5K29gM5NkSX"
      },
      "source": [
        "A little better but still quite fragile and now it can potentially insert key words that can influence false positive tags to appear. Maybe instead of substituting or inserting new tokens, let's try simply swapping machine learning related keywords with their aliases. We'll use Snorkel's [transformation functions](https://www.snorkel.org/use-cases/02-spam-data-augmentation-tutorial) to easily achieve this."
      ]
    },
    {
      "cell_type": "code",
      "execution_count": null,
      "metadata": {
        "id": "hGcCAtujGANL"
      },
      "outputs": [],
      "source": [
        "# Replace dashes from tags & aliases\n",
        "def replace_dash(x):\n",
        "    return x.replace(\"-\", \" \")"
      ]
    },
    {
      "cell_type": "code",
      "execution_count": null,
      "metadata": {
        "id": "ySubiFfONtvR"
      },
      "outputs": [],
      "source": [
        "# Aliases\n",
        "aliases_by_tag = {\n",
        "    \"computer-vision\": [\"cv\", \"vision\"],\n",
        "    \"mlops\": [\"production\"],\n",
        "    \"natural-language-processing\": [\"nlp\", \"nlproc\"]\n",
        "}"
      ]
    },
    {
      "cell_type": "code",
      "execution_count": null,
      "metadata": {
        "id": "YLComLRexHTN"
      },
      "outputs": [],
      "source": [
        "# Flatten dict\n",
        "flattened_aliases = {}\n",
        "for tag, aliases in aliases_by_tag.items():\n",
        "    tag = replace_dash(x=tag)\n",
        "    if len(aliases):\n",
        "        flattened_aliases[tag] = aliases\n",
        "    for alias in aliases:\n",
        "        _aliases = aliases + [tag]\n",
        "        _aliases.remove(alias)\n",
        "        flattened_aliases[alias] = _aliases"
      ]
    },
    {
      "cell_type": "code",
      "execution_count": null,
      "metadata": {
        "id": "7DYNe7grG4Y-"
      },
      "outputs": [],
      "source": [
        "print (flattened_aliases[\"natural language processing\"])\n",
        "print (flattened_aliases[\"nlp\"])"
      ]
    },
    {
      "cell_type": "markdown",
      "metadata": {
        "id": "D2AgsnG-FEs9"
      },
      "source": [
        "> For now we'll use tags and aliases as they are in `aliases_by_tag` but we could account for plurality of tags using the [inflect](https://github.com/jaraco/inflect) package or apply stemming before replacing aliases, etc."
      ]
    },
    {
      "cell_type": "code",
      "execution_count": null,
      "metadata": {
        "id": "E2QdYOXSY55L"
      },
      "outputs": [],
      "source": [
        "# We want to match with the whole word only\n",
        "print (\"gan\" in \"This is a gan.\")\n",
        "print (\"gan\" in \"This is gandalf.\")"
      ]
    },
    {
      "cell_type": "code",
      "execution_count": null,
      "metadata": {
        "id": "MHtHER09W8ew"
      },
      "outputs": [],
      "source": [
        "# \\b matches spaces\n",
        "def find_word(word, text):\n",
        "    word = word.replace(\"+\", \"\\+\")\n",
        "    pattern = re.compile(fr\"\\b({word})\\b\", flags=re.IGNORECASE)\n",
        "    return pattern.search(text)"
      ]
    },
    {
      "cell_type": "code",
      "execution_count": null,
      "metadata": {
        "id": "4zTuKPuRXTRO"
      },
      "outputs": [],
      "source": [
        "# Correct behavior (single instance)\n",
        "print (find_word(\"gan\", \"This is a gan.\"))\n",
        "print (find_word(\"gan\", \"This is gandalf.\"))"
      ]
    },
    {
      "cell_type": "markdown",
      "metadata": {
        "id": "4oN1tkS7oV4L"
      },
      "source": [
        "Now let's use snorkel's [`transformation_function`](https://snorkel.readthedocs.io/en/latest/packages/_autosummary/augmentation/snorkel.augmentation.transformation_function.html) to systematically apply this transformation to our data."
      ]
    },
    {
      "cell_type": "code",
      "execution_count": null,
      "metadata": {
        "id": "dSPra7OcHsd7"
      },
      "outputs": [],
      "source": [
        "from snorkel.augmentation import transformation_function"
      ]
    },
    {
      "cell_type": "code",
      "execution_count": null,
      "metadata": {
        "id": "2r0f6iqeoNSh"
      },
      "outputs": [],
      "source": [
        "@transformation_function()\n",
        "def swap_aliases(x):\n",
        "    \"\"\"Swap ML keywords with their aliases.\"\"\" \n",
        "    # Find all matches\n",
        "    matches = []\n",
        "    for i, tag in enumerate(flattened_aliases):\n",
        "        match = find_word(tag, x.text)  \n",
        "        if match:\n",
        "            matches.append(match)\n",
        "    # Swap a random match with a random alias\n",
        "    if len(matches):\n",
        "        match = random.choice(matches)\n",
        "        tag = x.text[match.start():match.end()]\n",
        "        x.text = f\"{x.text[:match.start()]}{random.choice(flattened_aliases[tag])}{x.text[match.end():]}\"\n",
        "    return x"
      ]
    },
    {
      "cell_type": "code",
      "execution_count": null,
      "metadata": {
        "id": "4Hnuu4LZqgxS"
      },
      "outputs": [],
      "source": [
        "# Swap\n",
        "for i in range(3):\n",
        "    sample_df = pd.DataFrame([{\"text\": \"a survey of reinforcement learning for nlp tasks.\"}])\n",
        "    sample_df.text = sample_df.text.apply(clean_text, lower=True, stem=False)\n",
        "    print (swap_aliases(sample_df.iloc[0]).text)"
      ]
    },
    {
      "cell_type": "code",
      "execution_count": null,
      "metadata": {
        "id": "Zb1PkpxE3jrP"
      },
      "outputs": [],
      "source": [
        "# Undesired behavior (needs contextual insight)\n",
        "for i in range(3):\n",
        "    sample_df = pd.DataFrame([{\"text\": \"Autogenerate your CV to apply for jobs using NLP.\"}])\n",
        "    sample_df.text = sample_df.text.apply(clean_text, lower=True, stem=False)\n",
        "    print (swap_aliases(sample_df.iloc[0]).text)"
      ]
    },
    {
      "cell_type": "markdown",
      "metadata": {
        "id": "7C0z19mFBswx"
      },
      "source": [
        "Now we'll define a [augmentation policy](https://snorkel.readthedocs.io/en/latest/packages/augmentation.html) to apply our transformation functions with certain rules (how many samples to generate, whether to keep the original data point, etc.)"
      ]
    },
    {
      "cell_type": "code",
      "execution_count": null,
      "metadata": {
        "id": "8Cwju3KrnH7O"
      },
      "outputs": [],
      "source": [
        "from snorkel.augmentation import ApplyOnePolicy, PandasTFApplier"
      ]
    },
    {
      "cell_type": "code",
      "execution_count": null,
      "metadata": {
        "id": "NitY8I8jlg-f"
      },
      "outputs": [],
      "source": [
        "# Transformation function (TF) policy\n",
        "policy = ApplyOnePolicy(n_per_original=5, keep_original=True)\n",
        "tf_applier = PandasTFApplier([swap_aliases], policy)\n",
        "train_df_augmented = tf_applier.apply(train_df)\n",
        "train_df_augmented.drop_duplicates(subset=[\"text\"], inplace=True)\n",
        "train_df_augmented.head()"
      ]
    },
    {
      "cell_type": "code",
      "execution_count": null,
      "metadata": {
        "id": "UhCHE2eCnXf9"
      },
      "outputs": [],
      "source": [
        "len(train_df), len(train_df_augmented)"
      ]
    },
    {
      "cell_type": "markdown",
      "metadata": {
        "id": "XAgm9USuoQUF"
      },
      "source": [
        "For now, we'll skip the data augmentation because it's quite fickle and empirically it doesn't improvement performance much. But we can see how this can be very effective once we can control what type of vocabulary to augment on and what exactly to augment with.\n",
        "\n",
        "> Regardless of what method we use, it's important to validate that we're not just augmenting for the sake of augmentation. We can do this by executing any existing [data validation tests](https://madewithml.com/courses/mlops/testing#data) and even creating specific tests to apply on augmented data."
      ]
    },
    {
      "cell_type": "markdown",
      "metadata": {
        "id": "lGvI2YuuNkSX"
      },
      "source": [
        "# 📈&nbsp; Modeling"
      ]
    },
    {
      "cell_type": "markdown",
      "metadata": {
        "id": "IdQjMSQgNkSX"
      },
      "source": [
        "We'll begin modeling by starting with the simplest baseline and slowly adding complexity.\n",
        "\n",
        "> The specific model we use is irrelevant for this MLOps course since the main focus is on all the components required to put a model in production and maintain it. So feel free to choose any model as we continue to the other lessons after this notebook."
      ]
    },
    {
      "cell_type": "markdown",
      "metadata": {
        "id": "K9CfUuNh2YLE"
      },
      "source": [
        "We'll first set up some functions that we'll be using across the different baseline experiments."
      ]
    },
    {
      "cell_type": "code",
      "execution_count": null,
      "metadata": {
        "id": "86sFERmsuPQl"
      },
      "outputs": [],
      "source": [
        "import random"
      ]
    },
    {
      "cell_type": "code",
      "execution_count": null,
      "metadata": {
        "id": "NXd8flJuNkSY"
      },
      "outputs": [],
      "source": [
        "def set_seeds(seed=42):\n",
        "    \"\"\"Set seeds for reproducibility.\"\"\"\n",
        "    np.random.seed(seed)\n",
        "    random.seed(seed)"
      ]
    },
    {
      "cell_type": "code",
      "execution_count": null,
      "metadata": {
        "id": "eCLUq23Invnb"
      },
      "outputs": [],
      "source": [
        "def preprocess(df, lower, stem, min_freq):\n",
        "    \"\"\"Preprocess the data.\"\"\"\n",
        "    df[\"text\"] = df.title + \" \" + df.description  # feature engineering\n",
        "    df.text = df.text.apply(clean_text, lower=lower, stem=stem)  # clean text\n",
        "\n",
        "    # Replace OOS tags with `other`\n",
        "    oos_tags = [item for item in df.tag.unique() if item not in ACCEPTED_TAGS]\n",
        "    df.tag = df.tag.apply(lambda x: \"other\" if x in oos_tags else x)\n",
        "\n",
        "    # Replace tags below min_freq with `other`\n",
        "    tags = Counter(df.tag.values)\n",
        "    tags_above_freq = Counter(tag for tag in tags.elements() \n",
        "                            if (tags[tag] >= min_freq))\n",
        "    df.tag = df.tag.apply(lambda tag: tag if tag in tags_above_freq else None)\n",
        "    df.tag = df.tag.fillna(\"other\")\n",
        "\n",
        "    return df"
      ]
    },
    {
      "cell_type": "code",
      "execution_count": null,
      "metadata": {
        "id": "jf_XCcSguF9o"
      },
      "outputs": [],
      "source": [
        "def get_data_splits(X, y, train_size=0.7):\n",
        "    \"\"\"Generate balanced data splits.\"\"\"\n",
        "    X_train, X_, y_train, y_ = train_test_split(\n",
        "        X, y, train_size=train_size, stratify=y)\n",
        "    X_val, X_test, y_val, y_test = train_test_split(\n",
        "        X_, y_, train_size=0.5, stratify=y_)\n",
        "    return X_train, X_val, X_test, y_train, y_val, y_test"
      ]
    },
    {
      "cell_type": "markdown",
      "metadata": {
        "id": "-zNaolz7uTRl"
      },
      "source": [
        "Our dataset is small so we'll train using the whole dataset but for larger datasets, we should always test on a small subset (after shuffling when necessary) so we aren't wasting time on compute.\n",
        "\n",
        "```python\n",
        "df = df.sample(frac=1).reset_index(drop=True)  # shuffle\n",
        "df = df[: num_samples]  # None = all samples\n",
        "```\n",
        "\n",
        "> Why is it important that we shuffle our data? We *need* to shuffle our data since our data is chronologically organized. The latest projects may have certain features or tags that are prevalent compared to earlier projects. If we don't shuffle before creating our data splits, then our model will only be trained on the earlier signals and fail to generalize. However, in other scenarios (ex. time-series forecasting), shuffling will lead do data leaks."
      ]
    },
    {
      "cell_type": "markdown",
      "metadata": {
        "id": "RKJEgAyMnGBH"
      },
      "source": [
        "## Baselines"
      ]
    },
    {
      "cell_type": "markdown",
      "metadata": {
        "id": "ud-W2twhoh7t"
      },
      "source": [
        "We're going to develop a model that can consume input signals and predict the appropriate classes. We'll start with simple baseline models and slowly add and motivate complexity."
      ]
    },
    {
      "cell_type": "markdown",
      "metadata": {
        "id": "fAQjRWHCNkSY"
      },
      "source": [
        "### Random"
      ]
    },
    {
      "cell_type": "markdown",
      "metadata": {
        "id": "StAbvxEGkSmS"
      },
      "source": [
        "<u><i>motivation</i></u>: We want to know what random (chance) performance looks like. All of our efforts should be well above this baseline."
      ]
    },
    {
      "cell_type": "code",
      "execution_count": null,
      "metadata": {
        "id": "-myHhqt03OBo"
      },
      "outputs": [],
      "source": [
        "from sklearn.metrics import precision_recall_fscore_support"
      ]
    },
    {
      "cell_type": "code",
      "execution_count": null,
      "metadata": {
        "id": "SIYPLUMnNkSY"
      },
      "outputs": [],
      "source": [
        "# Set up\n",
        "set_seeds()\n",
        "df = pd.read_csv(\"labeled_projects.csv\")\n",
        "df = df.sample(frac=1).reset_index(drop=True)\n",
        "df = preprocess(df, lower=True, stem=False, min_freq=min_freq)\n",
        "label_encoder = LabelEncoder().fit(df.tag)\n",
        "X_train, X_val, X_test, y_train, y_val, y_test = \\\n",
        "    get_data_splits(X=df.text.to_numpy(), y=label_encoder.encode(df.tag))"
      ]
    },
    {
      "cell_type": "code",
      "execution_count": null,
      "metadata": {
        "id": "_UWsFo8cNkSY"
      },
      "outputs": [],
      "source": [
        "# Label encoder\n",
        "print (label_encoder)\n",
        "print (label_encoder.classes)"
      ]
    },
    {
      "cell_type": "code",
      "execution_count": null,
      "metadata": {
        "id": "YXTrB3ToNkSY"
      },
      "outputs": [],
      "source": [
        "# Generate random predictions\n",
        "y_pred = np.random.randint(low=0, high=len(label_encoder), size=len(y_test))\n",
        "print (y_pred.shape)\n",
        "print (y_pred[0:5])"
      ]
    },
    {
      "cell_type": "code",
      "execution_count": null,
      "metadata": {
        "id": "tAAoXyNANkSY"
      },
      "outputs": [],
      "source": [
        "# Evaluate\n",
        "metrics = precision_recall_fscore_support(y_test, y_pred, average=\"weighted\")\n",
        "performance = {\"precision\": metrics[0], \"recall\": metrics[1], \"f1\": metrics[2]}\n",
        "print (json.dumps(performance, indent=2))"
      ]
    },
    {
      "cell_type": "markdown",
      "metadata": {
        "id": "BLzOP5fIkYWl"
      },
      "source": [
        "We made the assumption that there is an equal probability for every class. Let's use the train split to figure out what the true probability is."
      ]
    },
    {
      "cell_type": "code",
      "execution_count": null,
      "metadata": {
        "id": "pN6tq9z6iW7a"
      },
      "outputs": [],
      "source": [
        "# Class frequencies\n",
        "p = [Counter(y_test)[index]/len(y_test) for index in range(len(label_encoder))]\n",
        "p"
      ]
    },
    {
      "cell_type": "code",
      "execution_count": null,
      "metadata": {
        "id": "vInlz4R1iA4i"
      },
      "outputs": [],
      "source": [
        "# Generate weighted random predictions\n",
        "y_pred = np.random.choice(a=range(len(label_encoder)), size=len(y_test), p=p)"
      ]
    },
    {
      "cell_type": "code",
      "execution_count": null,
      "metadata": {
        "id": "hpfBiruhkJME"
      },
      "outputs": [],
      "source": [
        "# Evaluate\n",
        "metrics = precision_recall_fscore_support(y_test, y_pred, average=\"weighted\")\n",
        "performance = {\"precision\": metrics[0], \"recall\": metrics[1], \"f1\": metrics[2]}\n",
        "print (json.dumps(performance, indent=2))"
      ]
    },
    {
      "cell_type": "markdown",
      "metadata": {
        "id": "YC9ConMQlPgg"
      },
      "source": [
        "<u><i>limitations</i></u>: we didn't use the tokens in our input to affect our predictions so nothing was learned."
      ]
    },
    {
      "cell_type": "markdown",
      "metadata": {
        "id": "OVzBKdt3NkSY"
      },
      "source": [
        "### Rule-based"
      ]
    },
    {
      "cell_type": "markdown",
      "metadata": {
        "id": "u_XWLBgQlSn-"
      },
      "source": [
        "<u><i>motivation</i></u>: we want to use signals in our inputs (along with domain expertise and auxiliary data) to determine the labels."
      ]
    },
    {
      "cell_type": "code",
      "execution_count": null,
      "metadata": {
        "id": "nXlgWoyFNkSY"
      },
      "outputs": [],
      "source": [
        "# Setup\n",
        "set_seeds()\n",
        "df = pd.read_csv(\"labeled_projects.csv\")\n",
        "df = df.sample(frac=1).reset_index(drop=True)\n",
        "df = preprocess(df, lower=True, stem=False, min_freq=min_freq)\n",
        "label_encoder = LabelEncoder().fit(df.tag)\n",
        "X_train, X_val, X_test, y_train, y_val, y_test = \\\n",
        "    get_data_splits(X=df.text.to_numpy(), y=label_encoder.encode(df.tag))"
      ]
    },
    {
      "cell_type": "code",
      "execution_count": null,
      "metadata": {
        "id": "ntVJvdVBm14U"
      },
      "outputs": [],
      "source": [
        "def get_tag(text, aliases_by_tag):\n",
        "    \"\"\"If a token matches an alias, \n",
        "    then add the corresponding tag class.\"\"\"\n",
        "    for tag, aliases in aliases_by_tag.items():\n",
        "        if replace_dash(tag) in text:\n",
        "            return tag\n",
        "        for alias in aliases:\n",
        "            if alias in text:\n",
        "                return tag\n",
        "    return None"
      ]
    },
    {
      "cell_type": "code",
      "execution_count": null,
      "metadata": {
        "id": "cKHKKwNCnBzX"
      },
      "outputs": [],
      "source": [
        "# Sample\n",
        "text = \"A pretrained model hub for popular nlp models.\"\n",
        "get_tag(text=clean_text(text), aliases_by_tag=aliases_by_tag)"
      ]
    },
    {
      "cell_type": "code",
      "execution_count": null,
      "metadata": {
        "id": "LD-w5gcjnB29"
      },
      "outputs": [],
      "source": [
        "# Prediction\n",
        "tags = []\n",
        "for text in X_test:\n",
        "    tag = get_tag(text, aliases_by_tag=aliases_by_tag)\n",
        "    tags.append(tag)"
      ]
    },
    {
      "cell_type": "code",
      "execution_count": null,
      "metadata": {
        "id": "YEcszZaGnZye"
      },
      "outputs": [],
      "source": [
        "# Encode labels\n",
        "y_pred = [label_encoder.class_to_index[tag] if tag is not None else -1 for tag in tags]"
      ]
    },
    {
      "cell_type": "code",
      "execution_count": null,
      "metadata": {
        "id": "erYMwIffnB66"
      },
      "outputs": [],
      "source": [
        "# Evaluate\n",
        "metrics = precision_recall_fscore_support(y_test, y_pred, average=\"weighted\")\n",
        "performance = {\"precision\": metrics[0], \"recall\": metrics[1], \"f1\": metrics[2]}\n",
        "print (json.dumps(performance, indent=2))"
      ]
    },
    {
      "cell_type": "markdown",
      "metadata": {
        "id": "ps2Js3Ij2qSO"
      },
      "source": [
        "**Why is recall so low?** Only relying on the aliases can prove catastrophic when those particular aliases aren't used in our input signals. To improve this, we can build a bag of words of related terms. For example, mapping terms such as `text classification` and `named entity recognition` to the `natural-language-processing` tag but building this is a non-trivial task. Not to mention, we'll need to keep updating these rules as the data landscape matures."
      ]
    },
    {
      "cell_type": "code",
      "execution_count": null,
      "metadata": {
        "id": "8j4iNdkfVLRX"
      },
      "outputs": [],
      "source": [
        "# Pitfalls\n",
        "text = \"Transfer learning with transformers for text classification.\"\n",
        "print (get_tag(text=clean_text(text), aliases_by_tag=aliases_by_tag))"
      ]
    },
    {
      "cell_type": "markdown",
      "metadata": {
        "id": "kgwndPnYmTjg"
      },
      "source": [
        "We could also use [stemming](https://nlp.stanford.edu/IR-book/html/htmledition/stemming-and-lemmatization-1.html) to further refine our rule-based process:\n",
        "\n",
        "```python\n",
        "from nltk.stem import PorterStemmer\n",
        "stemmer = PorterStemmer()\n",
        "print (stemmer.stem(\"democracy\"))\n",
        "print (stemmer.stem(\"democracies\"))\n",
        "```\n",
        "```bash\n",
        "democraci\n",
        "democraci\n",
        "```\n",
        "\n",
        "But these rule-based approaches can only yield labels with high certainty when there is an absolute condition match so it's best not to spend too much more effort on this approach."
      ]
    },
    {
      "cell_type": "markdown",
      "metadata": {
        "id": "qdzlfoIzloqc"
      },
      "source": [
        "<u><i>limitations</i></u>: we failed to generalize or learn any implicit patterns to predict the labels because we treat the tokens in our input as isolated entities."
      ]
    },
    {
      "cell_type": "markdown",
      "metadata": {
        "id": "eoa5oVgaNkSZ"
      },
      "source": [
        "### Vectorization"
      ]
    },
    {
      "cell_type": "markdown",
      "metadata": {
        "id": "Yqg_kc3VmHb9"
      },
      "source": [
        "<u><i>motivation</i></u>:\n",
        "- *representation*: use term frequency-inverse document frequency [(TF-IDF)](https://en.wikipedia.org/wiki/Tf%E2%80%93idf) to capture the significance of a token to a particular input with respect to all the inputs, as opposed to treating the words in our input text as isolated tokens.\n",
        "- *architecture*: we want our model to meaningfully extract the encoded signal to predict the output labels."
      ]
    },
    {
      "cell_type": "markdown",
      "metadata": {
        "id": "KOJW4AONNkSZ"
      },
      "source": [
        "So far we've treated the words in our input text as isolated tokens and we haven't really captured any meaning between tokens. Let's use TF-IDF (via scikit-learn's [`TfidfVectorizer`](https://scikit-learn.org/stable/modules/generated/sklearn.feature_extraction.text.TfidfVectorizer.html)) to capture the significance of a token to a particular input with respect to all the inputs.\n",
        "\n",
        "$$ w_{i, j} = \\text{tf}_{i, j} * log(\\frac{N}{\\text{df}_i}) $$\n",
        "\n",
        "$$ w_{i, j}: \\text{tf-idf weight for term i in document j} $$\n",
        "$$ \\text{tf}_{i, j}: \\text{num. of times term i appear in document j} $$\n",
        "$$ N: \\text{total num. of documents} $$\n",
        "$$ {\\text{df}_i}: \\text{num. of documents with token i} $$"
      ]
    },
    {
      "cell_type": "code",
      "execution_count": null,
      "metadata": {
        "id": "J2P0kMvKNkSZ"
      },
      "outputs": [],
      "source": [
        "from sklearn.feature_extraction.text import TfidfVectorizer"
      ]
    },
    {
      "cell_type": "code",
      "execution_count": null,
      "metadata": {
        "id": "SrJ6fqmlNkSZ"
      },
      "outputs": [],
      "source": [
        "# Setup\n",
        "set_seeds()\n",
        "df = pd.read_csv(\"labeled_projects.csv\")\n",
        "df = df.sample(frac=1).reset_index(drop=True)\n",
        "df = preprocess(df, lower=True, stem=False, min_freq=min_freq)\n",
        "label_encoder = LabelEncoder().fit(df.tag)\n",
        "X_train, X_val, X_test, y_train, y_val, y_test = \\\n",
        "    get_data_splits(X=df.text.to_numpy(), y=label_encoder.encode(df.tag))"
      ]
    },
    {
      "cell_type": "code",
      "execution_count": null,
      "metadata": {
        "id": "tIaiaykFNkSZ"
      },
      "outputs": [],
      "source": [
        "# Saving raw X_test to compare with later\n",
        "X_test_raw = X_test"
      ]
    },
    {
      "cell_type": "code",
      "execution_count": null,
      "metadata": {
        "id": "ipggqVfzNkSZ"
      },
      "outputs": [],
      "source": [
        "# Tf-idf\n",
        "vectorizer = TfidfVectorizer(analyzer=\"char\", ngram_range=(2,7))  # char n-grams\n",
        "print (X_train[0])\n",
        "X_train = vectorizer.fit_transform(X_train)\n",
        "X_val = vectorizer.transform(X_val)\n",
        "X_test = vectorizer.transform(X_test)\n",
        "print (X_train.shape)  # scipy.sparse.csr_matrix"
      ]
    },
    {
      "cell_type": "code",
      "execution_count": null,
      "metadata": {
        "id": "B3_jQirQX85c"
      },
      "outputs": [],
      "source": [
        "# Class weights\n",
        "counts = np.bincount(y_train)\n",
        "class_weights = {i: 1.0/count for i, count in enumerate(counts)}\n",
        "print (f\"class counts: {counts},\\nclass weights: {class_weights}\")"
      ]
    },
    {
      "cell_type": "markdown",
      "metadata": {
        "id": "Hxm7QZZL6qqo"
      },
      "source": [
        "### Data imbalance"
      ]
    },
    {
      "cell_type": "markdown",
      "metadata": {
        "id": "iWyhDZKcIroc"
      },
      "source": [
        "With our datasets, we may often notice a data imbalance problem where a range of continuous values (regression) or certain classes (classification) may have insufficient amounts of data to learn from. This becomes a major issue when training because the model will learn to generalize to the data available and perform poorly on regions where the data is sparse. There are several techniques to mitigate data imbalance, including [resampling](https://github.com/scikit-learn-contrib/imbalanced-learn), incorporating class weights, [augmentation](augmentation.md), etc. Though the ideal solution is to collect more data for the minority classes! \n",
        "\n",
        "> We'll use the [imblearn package](https://imbalanced-learn.org/stable/) to ensure that we oversample our minority classes to be equal to the majority class (tag with most samples)."
      ]
    },
    {
      "cell_type": "code",
      "execution_count": null,
      "metadata": {
        "id": "TdvTVhbB40zX"
      },
      "outputs": [],
      "source": [
        "!pip install imbalanced-learn==0.8.1 -q"
      ]
    },
    {
      "cell_type": "code",
      "execution_count": null,
      "metadata": {
        "id": "DBmkssX74_o8"
      },
      "outputs": [],
      "source": [
        "from imblearn.over_sampling import RandomOverSampler"
      ]
    },
    {
      "cell_type": "code",
      "execution_count": null,
      "metadata": {
        "id": "-zopeF854_rf"
      },
      "outputs": [],
      "source": [
        "# Oversample (training set)\n",
        "oversample = RandomOverSampler(sampling_strategy=\"all\")\n",
        "X_over, y_over = oversample.fit_resample(X_train, y_train)"
      ]
    },
    {
      "cell_type": "markdown",
      "metadata": {
        "id": "QTqKPyvK8uBg"
      },
      "source": [
        "> It's important that we applied sampling only on the train split so we don't introduce data leaks with the other data splits."
      ]
    },
    {
      "cell_type": "code",
      "execution_count": null,
      "metadata": {
        "id": "NJYQiq2o5D_M"
      },
      "outputs": [],
      "source": [
        "# Class weights\n",
        "counts = np.bincount(y_over)\n",
        "class_weights = {i: 1.0/count for i, count in enumerate(counts)}\n",
        "print (f\"class counts: {counts},\\nclass weights: {class_weights}\")"
      ]
    },
    {
      "cell_type": "markdown",
      "metadata": {
        "id": "JjopSbkp6td5"
      },
      "source": [
        "### Machine learning"
      ]
    },
    {
      "cell_type": "markdown",
      "metadata": {
        "id": "iabgMfTm6wAd"
      },
      "source": [
        "We're going to use a stochastic gradient descent classifier ([SGDClassifier](https://scikit-learn.org/stable/modules/generated/sklearn.linear_model.SGDClassifier.html)) as our model. We're going to use log loss so that it's effectively [logistic regression](https://madewithml.com/courses/foundations/logistic-regression/) with SGD. \n",
        "\n",
        "> We're doing this because we want to have more control over the training process (epochs) and not use scikit-learn's default second order optimization methods (ex. [LGBFS](https://en.wikipedia.org/wiki/Limited-memory_BFGS)) for logistic regression."
      ]
    },
    {
      "cell_type": "code",
      "execution_count": null,
      "metadata": {
        "id": "TpWjzIve63NS"
      },
      "outputs": [],
      "source": [
        "from sklearn.linear_model import SGDClassifier\n",
        "from sklearn.metrics import log_loss, precision_recall_fscore_support"
      ]
    },
    {
      "cell_type": "code",
      "execution_count": null,
      "metadata": {
        "id": "fEShazTUNkSZ"
      },
      "outputs": [],
      "source": [
        "# Initialize model\n",
        "model = SGDClassifier(\n",
        "    loss=\"log\", penalty=\"l2\", alpha=1e-4, max_iter=1,\n",
        "    learning_rate=\"constant\", eta0=1e-1, power_t=0.1, \n",
        "    warm_start=True)"
      ]
    },
    {
      "cell_type": "code",
      "execution_count": null,
      "metadata": {
        "id": "dFpUlyAaHQoS"
      },
      "outputs": [],
      "source": [
        "# Train model\n",
        "num_epochs = 100\n",
        "for epoch in range(num_epochs):\n",
        "    # Training\n",
        "    model.fit(X_over, y_over)\n",
        "\n",
        "    # Evaluation\n",
        "    train_loss = log_loss(y_train, model.predict_proba(X_train))\n",
        "    val_loss = log_loss(y_val, model.predict_proba(X_val))\n",
        "\n",
        "    if not epoch%10:\n",
        "        print(\n",
        "            f\"Epoch: {epoch:02d} | \"\n",
        "            f\"train_loss: {train_loss:.5f}, \"\n",
        "            f\"val_loss: {val_loss:.5f}\"\n",
        "        )"
      ]
    },
    {
      "cell_type": "markdown",
      "metadata": {
        "id": "fhPXr2hILHcd"
      },
      "source": [
        "We could further optimize our training pipeline with functionality such as [early stopping](https://madewithml.com/courses/foundations/utilities/#early-stopping) where we would use our validation set that we created. But we want to keep this model-agnostic course simplified during the modeling stage 😉\n",
        "\n",
        "> The [SGDClassifier](https://scikit-learn.org/stable/modules/generated/sklearn.linear_model.SGDClassifier.html) has an `early_stopping` flag where you can specify a portion of the training set to be use for validation. Why would this be a bad idea in our case? Because we already applied oversampling in our training set and so we would be introduce data leaks if we did this."
      ]
    },
    {
      "cell_type": "code",
      "execution_count": null,
      "metadata": {
        "id": "ZVWLQ2n0s5c_"
      },
      "outputs": [],
      "source": [
        "# Evaluate\n",
        "y_pred = model.predict(X_test)\n",
        "metrics = precision_recall_fscore_support(y_test, y_pred, average=\"weighted\")\n",
        "performance = {\"precision\": metrics[0], \"recall\": metrics[1], \"f1\": metrics[2]}\n",
        "print (json.dumps(performance, indent=2))"
      ]
    },
    {
      "cell_type": "markdown",
      "metadata": {
        "id": "qk3lKQoSH1ji"
      },
      "source": [
        "Scikit-learn has a concept called [pipeline](https://scikit-learn.org/stable/modules/generated/sklearn.pipeline.Pipeline.html) which allows us to combine transformations and training steps into one callable function.\n",
        "\n",
        "We can create a pipeline from scratch:\n",
        "\n",
        "```python\n",
        "# Create pipeline from scratch\n",
        "from sklearn.pipeline import Pipeline\n",
        "steps = (\n",
        "    (\"tfidf\", TfidfVectorizer(analyzer=\"char\", ngram_range=(2,7))), \n",
        "    (\"model\", SGDClassifier(\n",
        "        loss=\"log\", penalty=\"l2\", alpha=1e-4, max_iter=1,\n",
        "        learning_rate=\"constant\", eta0=1e-1, power_t=0.1, \n",
        "        warm_start=True)))\n",
        "pipe = Pipeline(steps)\n",
        "pipe.fit(X_train, y_train)\n",
        "```\n",
        "\n",
        "or make one with trained components:\n",
        "```python\n",
        "# Make pipeline from existing components\n",
        "from sklearn.pipeline import make_pipeline\n",
        "pipe = make_pipeline(vectorizer, model)\n",
        "```"
      ]
    },
    {
      "cell_type": "markdown",
      "metadata": {
        "id": "gyv7n9ZKpXRu"
      },
      "source": [
        "<u><i>limitations</i></u>:\n",
        "- *representation*: TF-IDF representations don't encapsulate much signal beyond frequency but we require more fine-grained token representations that can account for the significance of the token itself ([embeddings](https://madewithml.com/courses/foundations/embeddings/)).\n",
        "- *architecture*: we want to develop models that can use better represented encodings in a more contextual manner."
      ]
    },
    {
      "cell_type": "code",
      "execution_count": null,
      "metadata": {
        "id": "L7DDRv8PvtjY"
      },
      "outputs": [],
      "source": [
        "# Inference (with tokens similar to training data)\n",
        "text = \"Transfer learning with transformers for text classification.\"\n",
        "y_pred = model.predict(vectorizer.transform([text]))\n",
        "label_encoder.decode(y_pred)"
      ]
    },
    {
      "cell_type": "code",
      "execution_count": null,
      "metadata": {
        "id": "uQlW1RVF3i6Y"
      },
      "outputs": [],
      "source": [
        "# Probabilities\n",
        "y_prob = model.predict_proba(vectorizer.transform([text]))\n",
        "{tag:y_prob[0][i] for i, tag in enumerate(label_encoder.classes)}"
      ]
    },
    {
      "cell_type": "code",
      "execution_count": null,
      "metadata": {
        "id": "l_SIMbSxqcx0"
      },
      "outputs": [],
      "source": [
        "# Inference (with tokens not similar to training data)\n",
        "text = \"Interpretability methods for explaining model behavior.\"\n",
        "y_pred = model.predict(vectorizer.transform([text]))\n",
        "label_encoder.decode(y_pred)"
      ]
    },
    {
      "cell_type": "code",
      "execution_count": null,
      "metadata": {
        "id": "k7GArUweqg5l"
      },
      "outputs": [],
      "source": [
        "# Probabilities\n",
        "y_prob = model.predict_proba(vectorizer.transform([text]))\n",
        "{tag:y_prob[0][i] for i, tag in enumerate(label_encoder.classes)}"
      ]
    },
    {
      "cell_type": "markdown",
      "metadata": {
        "id": "_5XXU27D7gbN"
      },
      "source": [
        "We're going to create a custom predict function where if the majority class is not above a certain softmax score, then we predict the `other` class. In our [objectives](https://madewithml.com/courses/mlops/purpose#objective), we decided that precision is really important for us and that we can leverage the labeling and QA workflows to improve the recall during subsequent manual inspection.\n",
        "\n",
        "> Our models can suffer from overconfidence so applying this limitation may not be as effective as we'd imagine, especially for larger neural networks. See the [confident learning](https://madewithml.com/courses/mlops/evaluation#confident-learning) section of the [evaluation lesson](https://madewithml.com/courses/mlops/evaluation) for more information."
      ]
    },
    {
      "cell_type": "code",
      "execution_count": null,
      "metadata": {
        "id": "iCbFTrsaUcYz"
      },
      "outputs": [],
      "source": [
        "# Determine first quantile softmax score for the correct class (on validation split)\n",
        "y_pred = model.predict(X_val)\n",
        "y_prob = model.predict_proba(X_val)\n",
        "threshold = np.quantile([y_prob[i][j] for i, j in enumerate(y_pred)], q=0.25)  # Q1\n",
        "threshold"
      ]
    },
    {
      "cell_type": "markdown",
      "metadata": {
        "id": "vQUsRlenYtQu"
      },
      "source": [
        "> It's very important that we do this on our validation split so we aren't inflating the value using the train split or leaking information prior to evaluation on the test split."
      ]
    },
    {
      "cell_type": "code",
      "execution_count": null,
      "metadata": {
        "id": "hmVlRohfUkDK"
      },
      "outputs": [],
      "source": [
        "# Custom predict function\n",
        "def custom_predict(y_prob, threshold, index):\n",
        "    \"\"\"Custom predict function that defaults \n",
        "    to an index if conditions are not met.\"\"\"\n",
        "    y_pred = [np.argmax(p) if max(p) > threshold else index for p in y_prob]\n",
        "    return np.array(y_pred)"
      ]
    },
    {
      "cell_type": "code",
      "execution_count": null,
      "metadata": {
        "id": "-7je-ROm47xu"
      },
      "outputs": [],
      "source": [
        "def predict_tag(texts):\n",
        "    y_prob = model.predict_proba(vectorizer.transform(texts))\n",
        "    other_index = label_encoder.class_to_index[\"other\"]\n",
        "    y_pred = custom_predict(y_prob=y_prob, threshold=threshold, index=other_index)\n",
        "    return label_encoder.decode(y_pred)"
      ]
    },
    {
      "cell_type": "code",
      "execution_count": null,
      "metadata": {
        "id": "_kMGO5GrqSH_"
      },
      "outputs": [],
      "source": [
        "# Inference (with tokens not similar to training data)\n",
        "text = \"Interpretability methods for explaining model behavior.\"\n",
        "predict_tag(texts=[text])"
      ]
    },
    {
      "cell_type": "code",
      "execution_count": null,
      "metadata": {
        "id": "--5rtiAorNqv"
      },
      "outputs": [],
      "source": [
        "# Evaluate\n",
        "y_prob = model.predict_proba(X_test)\n",
        "y_pred = custom_predict(y_prob=y_prob, threshold=threshold, index=label_encoder.class_to_index[\"other\"])\n",
        "metrics = precision_recall_fscore_support(y_test, y_pred, average=\"weighted\")\n",
        "performance = {\"precision\": metrics[0], \"recall\": metrics[1], \"f1\": metrics[2]}\n",
        "print (json.dumps(performance, indent=2))"
      ]
    },
    {
      "cell_type": "markdown",
      "metadata": {
        "id": "8NZsmIwuEUxl"
      },
      "source": [
        "> We could've even used per-class thresholds, especially since we have some data imbalance which can impact how confident the model is regarding some classes. \n",
        "```python\n",
        "y_pred = model.predict(X_val)\n",
        "y_prob = model.predict_proba(X_val)\n",
        "class_thresholds = {}\n",
        "for index in range(len(label_encoder.classes)):\n",
        "    class_thresholds[index] = np.mean(\n",
        "        [y_prob[i][index] for i in np.where(y_pred==index)[0]])\n",
        "```"
      ]
    },
    {
      "cell_type": "markdown",
      "metadata": {
        "id": "qXiNWqPXn4ym"
      },
      "source": [
        "**Note**: This MLOps course is actually model-agnostic (as long as it produces probability distributions) so feel free to use more complex representations ([embeddings](https://madewithml.com/courses/foundations/embeddings/)) with more sophisticated architectures ([CNNs](https://madewithml.com/courses/foundations/convolutional-neural-networks/), [transformers](https://madewithml.com/courses/foundations/transformers/), etc.). We're going to use this basic logistic regression model throughout the rest of the lessons because it's easy, fast and actually has comparable performance (<10% f1 diff compared to SOTA pretrained transformers)."
      ]
    },
    {
      "cell_type": "markdown",
      "metadata": {
        "id": "9ofaM94omwgY"
      },
      "source": [
        "## Evaluation"
      ]
    },
    {
      "cell_type": "markdown",
      "metadata": {
        "id": "nsj8_EUEmynv"
      },
      "source": [
        "So far we've been evaluating our models by determing the overall precision, recall and f1 scores. But since performance is one of the key decision making factors when comparing different models, we should have even more nuanced evaluation strategies.\n",
        "\n",
        "- Coarse-grained metrics\n",
        "- Fine-grained metrics\n",
        "- Confusion matrix\n",
        "- Confidence learning\n",
        "- Slice metrics"
      ]
    },
    {
      "cell_type": "code",
      "execution_count": null,
      "metadata": {
        "id": "h51AAn1Fu4b5"
      },
      "outputs": [],
      "source": [
        "# Metrics\n",
        "metrics = {\"overall\": {}, \"class\": {}}"
      ]
    },
    {
      "cell_type": "code",
      "execution_count": null,
      "metadata": {
        "id": "H8BgzzHBZNMn"
      },
      "outputs": [],
      "source": [
        "# Data to evaluate\n",
        "other_index = label_encoder.class_to_index[\"other\"]\n",
        "y_prob = model.predict_proba(X_test)\n",
        "y_pred = custom_predict(y_prob=y_prob, threshold=threshold, index=other_index)"
      ]
    },
    {
      "cell_type": "markdown",
      "metadata": {
        "id": "TiXcls5JoNA8"
      },
      "source": [
        "### Coarse-grained metrics"
      ]
    },
    {
      "cell_type": "code",
      "execution_count": null,
      "metadata": {
        "id": "h2OQtNODrh6c"
      },
      "outputs": [],
      "source": [
        "# Overall metrics\n",
        "overall_metrics = precision_recall_fscore_support(y_test, y_pred, average=\"weighted\")\n",
        "metrics[\"overall\"][\"precision\"] = overall_metrics[0]\n",
        "metrics[\"overall\"][\"recall\"] = overall_metrics[1]\n",
        "metrics[\"overall\"][\"f1\"] = overall_metrics[2]\n",
        "metrics[\"overall\"][\"num_samples\"] = np.float64(len(y_test))\n",
        "print (json.dumps(metrics[\"overall\"], indent=4))"
      ]
    },
    {
      "cell_type": "markdown",
      "metadata": {
        "id": "zl3xSuXRutKG"
      },
      "source": [
        "### Fine-grained metrics"
      ]
    },
    {
      "cell_type": "code",
      "execution_count": null,
      "metadata": {
        "id": "jqetm3ybN9C1"
      },
      "outputs": [],
      "source": [
        "from collections import OrderedDict"
      ]
    },
    {
      "cell_type": "code",
      "execution_count": null,
      "metadata": {
        "id": "1zIAI4mwusoX"
      },
      "outputs": [],
      "source": [
        "# Per-class metrics\n",
        "class_metrics = precision_recall_fscore_support(y_test, y_pred, average=None)\n",
        "for i, _class in enumerate(label_encoder.classes):\n",
        "    metrics[\"class\"][_class] = {\n",
        "        \"precision\": class_metrics[0][i],\n",
        "        \"recall\": class_metrics[1][i],\n",
        "        \"f1\": class_metrics[2][i],\n",
        "        \"num_samples\": np.float64(class_metrics[3][i]),\n",
        "    }"
      ]
    },
    {
      "cell_type": "code",
      "execution_count": null,
      "metadata": {
        "id": "Rhh-tgpP0dvj"
      },
      "outputs": [],
      "source": [
        "# Metrics for a specific class\n",
        "tag = \"natural-language-processing\"\n",
        "print (json.dumps(metrics[\"class\"][tag], indent=2))"
      ]
    },
    {
      "cell_type": "code",
      "execution_count": null,
      "metadata": {
        "id": "vQVA6G-j__t5"
      },
      "outputs": [],
      "source": [
        "# Sorted tags\n",
        "sorted_tags_by_f1 = OrderedDict(sorted(\n",
        "        metrics[\"class\"].items(), key=lambda tag: tag[1][\"f1\"], reverse=True))\n",
        "for item in sorted_tags_by_f1.items():\n",
        "    print (json.dumps(item, indent=2))"
      ]
    },
    {
      "cell_type": "markdown",
      "metadata": {
        "id": "o7TdaP24hnYm"
      },
      "source": [
        "> Due to our custom predict function, we're able to achieve high precision for the categories except for `other`. Based on our [product design](https://madewithml.com/courses/mlops/purpose/#metrics), we decided that it's more important to be precise about our explicit ML categories (nlp, cv, and mlops) and that we would have a manual labeling workflow to recall any misclassifications in the `other` category. Overtime, our model will become better in this category as well."
      ]
    },
    {
      "cell_type": "markdown",
      "metadata": {
        "id": "f-juex26zvBF"
      },
      "source": [
        "### Confusion matrix"
      ]
    },
    {
      "cell_type": "markdown",
      "metadata": {
        "id": "xPUao0S4k99c"
      },
      "source": [
        "- **True positives (TP)**: learn about where our model performs well.\n",
        "- **False positives (FP)**: potentially identify samples which may need to be relabeled.\n",
        "- False negatives (FN): identify the model's less performant areas to oversample later.\n",
        "\n",
        "> It's a good to have our FP/FN samples feed back into our annotation pipelines in the event we want to fix their labels and have those changes be reflected everywhere."
      ]
    },
    {
      "cell_type": "code",
      "execution_count": null,
      "metadata": {
        "id": "ZG2SgsPAzukL"
      },
      "outputs": [],
      "source": [
        "# TP, FP, FN samples\n",
        "tag = \"mlops\"\n",
        "index = label_encoder.class_to_index[tag]\n",
        "tp, fp, fn = [], [], []\n",
        "for i, true in enumerate(y_test):\n",
        "    pred = y_pred[i]\n",
        "    if index==true==pred:\n",
        "        tp.append(i)\n",
        "    elif index!=true and index==pred:\n",
        "        fp.append(i)\n",
        "    elif index==true and index!=pred:\n",
        "        fn.append(i)"
      ]
    },
    {
      "cell_type": "code",
      "execution_count": null,
      "metadata": {
        "id": "ePrxeVkG0mmO"
      },
      "outputs": [],
      "source": [
        "print (tp)\n",
        "print (fp)\n",
        "print (fn)"
      ]
    },
    {
      "cell_type": "code",
      "execution_count": null,
      "metadata": {
        "id": "-9UCXV7K0ocX"
      },
      "outputs": [],
      "source": [
        "index = tp[0]\n",
        "print (X_test_raw[index])\n",
        "print (f\"true: {label_encoder.decode([y_test[index]])[0]}\")\n",
        "print (f\"pred: {label_encoder.decode([y_pred[index]])[0]}\")"
      ]
    },
    {
      "cell_type": "code",
      "execution_count": null,
      "metadata": {
        "id": "n4jLEJ6f0ojA"
      },
      "outputs": [],
      "source": [
        "@widgets.interact(tag=list(sorted_tags_by_f1.keys()))\n",
        "def display_tag_analysis(tag=\"mlops\"):\n",
        "    # Performance\n",
        "    print (json.dumps(metrics[\"class\"][tag], indent=2))\n",
        "\n",
        "    # TP, FP, FN samples\n",
        "    index = label_encoder.class_to_index[tag]\n",
        "    tp, fp, fn = [], [], []\n",
        "    for i, true in enumerate(y_test):\n",
        "        pred = y_pred[i]\n",
        "        if index==true==pred:\n",
        "            tp.append(i)\n",
        "        elif index!=true and index==pred:\n",
        "            fp.append(i)\n",
        "        elif index==true and index!=pred:\n",
        "            fn.append(i)\n",
        "\n",
        "    # Samples\n",
        "    num_samples = 3\n",
        "    cm = [(tp, \"True positives\"), (fp, \"False positives\"), (fn, \"False negatives\")]\n",
        "    for item in cm:\n",
        "        if len(item[0]):\n",
        "            print (f\"\\n=== {item[1]} ===\")\n",
        "            for index in item[0][:num_samples]:\n",
        "                print (f\"  {X_test_raw[index]}\")\n",
        "                print (f\"    true: {label_encoder.decode([y_test[index]])[0]}\")\n",
        "                print (f\"    pred: {label_encoder.decode([y_pred[index]])[0]}\\n\")"
      ]
    },
    {
      "cell_type": "markdown",
      "metadata": {
        "id": "4S9XH4j4wSlS"
      },
      "source": [
        "> It's a really good idea to do this kind of analysis using our rule-based approach to catch really obvious labeling errors."
      ]
    },
    {
      "cell_type": "markdown",
      "metadata": {
        "id": "6S5LZdP2Myjh"
      },
      "source": [
        "### Confidence learning"
      ]
    },
    {
      "cell_type": "markdown",
      "metadata": {
        "id": "ZW5nY_h-M08p"
      },
      "source": [
        "While the confusion-matrix sample analysis was a coarse-grained process, we can also use fine-grained confidence based approaches to identify potentially mislabeled samples. Here we’re going to focus on the specific labeling quality as opposed to the final model predictions.\n",
        "\n",
        "Simple confidence based techniques include identifying samples whose:\n",
        "\n",
        "**Categorical**\n",
        "- prediction is incorrect (also indicate TN, FP, FN)\n",
        "- confidence score for the correct class is below a threshold\n",
        "- confidence score for an incorrect class is above a threshold\n",
        "- standard deviation of confidence scores over top N samples is low\n",
        "- different predictions from same model using different parameters\n",
        "\n",
        "**Continuous**\n",
        "- difference between predicted and ground-truth values is above some %\n",
        "\n"
      ]
    },
    {
      "cell_type": "markdown",
      "metadata": {
        "id": "OuN8xKFZlo2t"
      },
      "source": [
        "> The operations in this section can be applied to entire labeled dataset to discover labeling errors via confidence learning."
      ]
    },
    {
      "cell_type": "code",
      "execution_count": null,
      "metadata": {
        "id": "l0dJKzxqUjlw"
      },
      "outputs": [],
      "source": [
        "# y\n",
        "y_prob = model.predict_proba(X_test)\n",
        "print (np.shape(y_test))\n",
        "print (np.shape(y_prob))"
      ]
    },
    {
      "cell_type": "code",
      "execution_count": null,
      "metadata": {
        "id": "g7aZYhM_grrF"
      },
      "outputs": [],
      "source": [
        "# Used to show raw text\n",
        "test_df = pd.DataFrame({\"text\": X_test_raw, \"tag\": label_encoder.decode(y_test)})"
      ]
    },
    {
      "cell_type": "code",
      "execution_count": null,
      "metadata": {
        "id": "3FCrRUb2GANr"
      },
      "outputs": [],
      "source": [
        "# Tag to inspect\n",
        "tag = \"mlops\"\n",
        "index = label_encoder.class_to_index[tag]\n",
        "indices = np.where(y_test==index)[0]"
      ]
    },
    {
      "cell_type": "code",
      "execution_count": null,
      "metadata": {
        "id": "sKQxFU0iU-w-"
      },
      "outputs": [],
      "source": [
        "# Confidence score for the correct class is below a threshold\n",
        "low_confidence = []\n",
        "min_threshold = 0.5\n",
        "for i in indices:\n",
        "    prob = y_prob[i][index]\n",
        "    if prob <= 0.5:\n",
        "        low_confidence.append({\"text\": test_df.text[i], \n",
        "                               \"true\": label_encoder.index_to_class[y_test[i]], \n",
        "                               \"pred\": label_encoder.index_to_class[y_pred[i]], \n",
        "                               \"prob\": prob})"
      ]
    },
    {
      "cell_type": "code",
      "execution_count": null,
      "metadata": {
        "id": "7DnkXhXFFMv_"
      },
      "outputs": [],
      "source": [
        "low_confidence[0:5]"
      ]
    },
    {
      "cell_type": "markdown",
      "metadata": {
        "id": "JwL1ltdiUjH2"
      },
      "source": [
        "But these are fairly crude techniques because neural networks are easily [overconfident](https://arxiv.org/abs/1706.04599) and so their confidences cannot be used without calibrating them. \n",
        "\n",
        "<div class=\"ai-center-all\">\n",
        "    <img src=\"https://madewithml.com/static/images/mlops/evaluation/calibration.png\" width=\"300\" alt=\"accuracy vs. confidence\">\n",
        "</div>\n",
        "<div class=\"ai-center-all mt-1\">\n",
        "  <small>Modern (large) neural networks result in higher accuracies but are over confident.<br><a href=\"https://arxiv.org/abs/1706.04599\" target=\"_blank\">On Calibration of Modern Neural Networks</a></small>\n",
        "</div>\n",
        "\n",
        "* **Assumption**: *“the probability associated with the predicted class label should reflect its ground truth correctness likelihood.”*\n",
        "* **Reality**: *“modern (large) neural networks are no longer well-calibrated”*\n",
        "* **Solution**: apply temperature scaling (extension of [Platt scaling](https://en.wikipedia.org/wiki/Platt_scaling){:target=\"_blank\"}) on model outputs\n",
        "\n",
        "Recent work on [confident learning](https://arxiv.org/abs/1911.00068) focuses on identifying noisy labels while accounting for this overconfidence which can then be properly relabeled and used for training."
      ]
    },
    {
      "cell_type": "code",
      "execution_count": null,
      "metadata": {
        "id": "JNzXoPmbNJ_7"
      },
      "outputs": [],
      "source": [
        "!pip install cleanlab==1.0.1 -q"
      ]
    },
    {
      "cell_type": "code",
      "execution_count": null,
      "metadata": {
        "id": "XX3cORGPPXXM"
      },
      "outputs": [],
      "source": [
        "import cleanlab\n",
        "from cleanlab.pruning import get_noise_indices"
      ]
    },
    {
      "cell_type": "code",
      "execution_count": null,
      "metadata": {
        "id": "tLcKI_MnPXdO"
      },
      "outputs": [],
      "source": [
        "# Determine potential labeling errors\n",
        "label_error_indices = get_noise_indices(\n",
        "            s=y_test, \n",
        "            psx=y_prob,\n",
        "            sorted_index_method=\"self_confidence\",\n",
        "            verbose=0)"
      ]
    },
    {
      "cell_type": "markdown",
      "metadata": {
        "id": "UtXjpKf9FU4C"
      },
      "source": [
        "Not all of these are necessarily labeling errors but situations where the predicted probabilities were not so confident. Therefore, it will be useful to attach the predicted outcomes along side results. This way, we can know if we need to relabel, upsample, etc. as mitigation strategies to improve our performance."
      ]
    },
    {
      "cell_type": "code",
      "execution_count": null,
      "metadata": {
        "id": "eQdWpZ2xFVBD"
      },
      "outputs": [],
      "source": [
        "num_samples = 5\n",
        "for index in label_error_indices[:num_samples]:\n",
        "    print (\"text:\", test_df.iloc[index].text)\n",
        "    print (\"true:\", test_df.iloc[index].tag)\n",
        "    print (\"pred:\", label_encoder.decode([y_pred[index]])[0])\n",
        "    print ()"
      ]
    },
    {
      "cell_type": "markdown",
      "metadata": {
        "id": "dvS3UpusXP_R"
      },
      "source": [
        "### Slice metrics"
      ]
    },
    {
      "cell_type": "markdown",
      "metadata": {
        "id": "eeWWMG38Ny4U"
      },
      "source": [
        "Just inspecting the overall and class metrics isn't enough to deploy our new version to production. There may be key slices of our dataset that we need to do really well on:\n",
        "\n",
        "- Target / predicted classes (+ combinations)\n",
        "- Features (explicit and implicit)\n",
        "- Metadata (timestamps, sources, etc.)\n",
        "- Priority slices / experience (minority groups, large customers, etc.)\n",
        "\n",
        "An easy way to create and evaluate slices is to define slicing functions."
      ]
    },
    {
      "cell_type": "code",
      "execution_count": null,
      "metadata": {
        "id": "-AYY5s1P6Xud"
      },
      "outputs": [],
      "source": [
        "!pip install snorkel==0.9.8 -q"
      ]
    },
    {
      "cell_type": "code",
      "execution_count": null,
      "metadata": {
        "id": "ZyueOtQsXdGm"
      },
      "outputs": [],
      "source": [
        "from snorkel.slicing import PandasSFApplier\n",
        "from snorkel.slicing import slice_dataframe\n",
        "from snorkel.slicing import slicing_function"
      ]
    },
    {
      "cell_type": "code",
      "execution_count": null,
      "metadata": {
        "id": "coutP2KtXdLG"
      },
      "outputs": [],
      "source": [
        "@slicing_function()\n",
        "def nlp_cnn(x):\n",
        "    \"\"\"NLP Projects that use convolution.\"\"\"\n",
        "    nlp_projects = \"natural-language-processing\" in x.tag\n",
        "    convolution_projects = \"CNN\" in x.text or \"convolution\" in x.text\n",
        "    return (nlp_projects and convolution_projects)"
      ]
    },
    {
      "cell_type": "code",
      "execution_count": null,
      "metadata": {
        "id": "PbxmLvi-D7lq"
      },
      "outputs": [],
      "source": [
        "@slicing_function()\n",
        "def short_text(x):\n",
        "    \"\"\"Projects with short titles and descriptions.\"\"\"\n",
        "    return len(x.text.split()) < 8  # less than 8 words"
      ]
    },
    {
      "cell_type": "markdown",
      "metadata": {
        "id": "2Vxg5X9OD-Ax"
      },
      "source": [
        "Here we're using Snorkel's [`slicing_function`](https://snorkel.readthedocs.io/en/latest/packages/_autosummary/slicing/snorkel.slicing.slicing_function.html) to create our different slices. We can visualize our slices by applying this slicing function to a relevant DataFrame using [`slice_dataframe`](https://snorkel.readthedocs.io/en/latest/packages/_autosummary/slicing/snorkel.slicing.slice_dataframe.html)."
      ]
    },
    {
      "cell_type": "code",
      "execution_count": null,
      "metadata": {
        "id": "VRs93KeBMthW"
      },
      "outputs": [],
      "source": [
        "nlp_cnn_df = slice_dataframe(test_df, nlp_cnn)\n",
        "nlp_cnn_df[[\"text\", \"tag\"]].head()"
      ]
    },
    {
      "cell_type": "code",
      "execution_count": null,
      "metadata": {
        "id": "B7jmdmNaXuA2"
      },
      "outputs": [],
      "source": [
        "short_text_df = slice_dataframe(test_df, short_text)\n",
        "short_text_df[[\"text\", \"tag\"]].head()"
      ]
    },
    {
      "cell_type": "markdown",
      "metadata": {
        "id": "kZuDZwTNO93Q"
      },
      "source": [
        "We can define even more slicing functions and create a slices record array using the [`PandasSFApplier`](https://snorkel.readthedocs.io/en/latest/packages/_autosummary/slicing/snorkel.slicing.PandasSFApplier.html). The slices array has N (# of data points) items and each item has S (# of slicing functions) items, indicating whether that data point is part of that slice. Think of this record array as a masking layer for each slicing function on our data."
      ]
    },
    {
      "cell_type": "code",
      "execution_count": null,
      "metadata": {
        "id": "mQG8PFovXfEm"
      },
      "outputs": [],
      "source": [
        "# Slices\n",
        "slicing_functions = [nlp_cnn, short_text]\n",
        "applier = PandasSFApplier(slicing_functions)\n",
        "slices = applier.apply(test_df)\n",
        "slices"
      ]
    },
    {
      "cell_type": "markdown",
      "metadata": {
        "id": "QAWPU-f-GIOD"
      },
      "source": [
        "To calculate metrics for our slices, we could use [snorkel.analysis.Scorer](https://snorkel.readthedocs.io/en/latest/packages/_autosummary/analysis/snorkel.analysis.Scorer.html) but we've implemented a version that will work for multiclass or multilabel scenarios."
      ]
    },
    {
      "cell_type": "code",
      "execution_count": null,
      "metadata": {
        "id": "GqkwQenBXfIa"
      },
      "outputs": [],
      "source": [
        "# Score slices\n",
        "metrics[\"slices\"] = {}\n",
        "for slice_name in slices.dtype.names:\n",
        "    mask = slices[slice_name].astype(bool)\n",
        "    if sum(mask):  \n",
        "        slice_metrics = precision_recall_fscore_support(\n",
        "            y_test[mask], y_pred[mask], average=\"micro\"\n",
        "        )\n",
        "        metrics[\"slices\"][slice_name] = {}\n",
        "        metrics[\"slices\"][slice_name][\"precision\"] = slice_metrics[0]\n",
        "        metrics[\"slices\"][slice_name][\"recall\"] = slice_metrics[1]\n",
        "        metrics[\"slices\"][slice_name][\"f1\"] = slice_metrics[2]\n",
        "        metrics[\"slices\"][slice_name][\"num_samples\"] = len(y_test[mask])"
      ]
    },
    {
      "cell_type": "code",
      "execution_count": null,
      "metadata": {
        "id": "QapvZ3bgX3J6"
      },
      "outputs": [],
      "source": [
        "print(json.dumps(metrics[\"slices\"], indent=2))"
      ]
    },
    {
      "cell_type": "markdown",
      "metadata": {
        "id": "AmEOEHFEMyI1"
      },
      "source": [
        "Slicing can help identify sources of *bias* in our data. For example, our model has most likely learned to associated algorithms with certain applications such as CNNs used for computer vision or transformers used for NLP projects. However, these algorithms are not being applied beyond their initial use cases. We’d need ensure that our model learns to focus on the application over algorithm. This could be learned with:\n",
        "\n",
        "- enough data (new or oversampling incorrect predictions)\n",
        "- masking the algorithm (using text matching heuristics)."
      ]
    },
    {
      "cell_type": "markdown",
      "metadata": {
        "id": "TuCLIa2c9YEY"
      },
      "source": [
        "### Interpretability"
      ]
    },
    {
      "cell_type": "markdown",
      "metadata": {
        "id": "4v0CxdbqLCvd"
      },
      "source": [
        "Besides just comparing predicted outputs with ground truth values, we can also inspect the inputs to our models. What aspects of the input are more influential towards the prediction? If the focus is not on the relevant features of our input, then we need to explore if there is a hidden pattern we're missing or if our model has learned to overfit on the incorrect features. We can use techniques such as [SHAP](https://github.com/slundberg/shap) (SHapley Additive exPlanations) or [LIME](https://github.com/marcotcr/lime) (Local Interpretable Model-agnostic Explanations) to inspect feature importance. On a high level, these techniques learn which features have the most signal by assessing the performance in their absence. These inspections can be performed on a global level (ex. per-class) or on a local level (ex. single prediction)."
      ]
    },
    {
      "cell_type": "code",
      "execution_count": null,
      "metadata": {
        "id": "ZVm8mDzlC6oJ"
      },
      "outputs": [],
      "source": [
        "!pip install lime==0.2.0.1 -q"
      ]
    },
    {
      "cell_type": "code",
      "execution_count": null,
      "metadata": {
        "id": "aW6CPXnPC61M"
      },
      "outputs": [],
      "source": [
        "from lime.lime_text import LimeTextExplainer\n",
        "from sklearn.pipeline import make_pipeline"
      ]
    },
    {
      "cell_type": "markdown",
      "metadata": {
        "id": "ndrizK-DLRSA"
      },
      "source": [
        "It's easier to use LIME with scikit-learn [pipelines](https://scikit-learn.org/stable/modules/generated/sklearn.pipeline.Pipeline.html) so we'll combine our vectorizer and model into one construct."
      ]
    },
    {
      "cell_type": "code",
      "execution_count": null,
      "metadata": {
        "id": "5dYPTovdL6QX"
      },
      "outputs": [],
      "source": [
        "# Create pipeline\n",
        "pipe = make_pipeline(vectorizer, model)"
      ]
    },
    {
      "cell_type": "code",
      "execution_count": null,
      "metadata": {
        "id": "r1tR1lyJC68X"
      },
      "outputs": [],
      "source": [
        "# Explain instance\n",
        "text = \"Using pretrained convolutional neural networks for object detection.\"\n",
        "explainer = LimeTextExplainer(class_names=label_encoder.classes)\n",
        "explainer.explain_instance(text, classifier_fn=pipe.predict_proba, top_labels=1).show_in_notebook(text=True)"
      ]
    },
    {
      "cell_type": "markdown",
      "metadata": {
        "id": "Ro2FpBAe47x1"
      },
      "source": [
        "> We can also use model-specific approaches to interpretability we we did in our [embeddings lesson](https://madewithml.com/courses/foundations/embeddings#interpretability) to identify the most influential n-grams in our text."
      ]
    },
    {
      "cell_type": "markdown",
      "metadata": {
        "id": "5Pkm_pH847x1"
      },
      "source": [
        "### Behavioral testing"
      ]
    },
    {
      "cell_type": "code",
      "execution_count": null,
      "metadata": {
        "id": "NUsd9Z8347x1"
      },
      "outputs": [],
      "source": [
        "# INVariance via verb injection (changes should not affect outputs)\n",
        "tokens = [\"revolutionized\", \"disrupted\"]\n",
        "texts = [f\"Transformers applied to NLP have {token} the ML field.\" for token in tokens]\n",
        "predict_tag(texts=texts)"
      ]
    },
    {
      "cell_type": "code",
      "execution_count": null,
      "metadata": {
        "id": "7VLqZDYr47x2"
      },
      "outputs": [],
      "source": [
        "# DIRectional expectations (changes with known outputs)\n",
        "tokens = [\"text classification\", \"image classification\"]\n",
        "texts = [f\"ML applied to {token}.\" for token in tokens]\n",
        "predict_tag(texts=texts)"
      ]
    },
    {
      "cell_type": "code",
      "execution_count": null,
      "metadata": {
        "id": "OW57njXQ47x2"
      },
      "outputs": [],
      "source": [
        "# Minimum Functionality Tests (simple input/output pairs)\n",
        "tokens = [\"natural language processing\", \"mlops\"]\n",
        "texts = [f\"{token} is the next big wave in machine learning.\" for token in tokens]\n",
        "predict_tag(texts=texts)"
      ]
    },
    {
      "cell_type": "markdown",
      "metadata": {
        "id": "OkBxFVAA47x2"
      },
      "source": [
        "We'll learn how to systematically create tests in our [testing lesson](https://madewithml.com/courses/mlops/testing#behavioral-testing)."
      ]
    },
    {
      "cell_type": "markdown",
      "metadata": {
        "id": "v9yUHIrgYe6s"
      },
      "source": [
        "> Be sure to also checkout the complete [evaluation lesson](https://madewithml.com/courses/mlops/evaluation) where we cover more ways to evaluate our model, including generating slices, counterfactuals and more."
      ]
    },
    {
      "cell_type": "markdown",
      "metadata": {
        "id": "MILv2j74iUMQ"
      },
      "source": [
        "## Experiment tracking"
      ]
    },
    {
      "cell_type": "markdown",
      "metadata": {
        "id": "t40bb7o2jyCP"
      },
      "source": [
        "So far, we've been training and evaluating our different baselines but haven't really been tracking these experiments. We'll fix this but defining a proper process for experiment tracking which we'll use for all future experiments (including hyperparameter optimization). Experiment tracking is the processing of managing all the different experiments and their components, such as parameters, metrics, models and other artifacts and it enables us to:\n",
        "\n",
        "- **Organize** all the necessary components of a specific experiment. It's important to have everything in one place and know where it is so you can use them later.\n",
        "- **Reproduce** past results (easily) using saved experiments.\n",
        "- **Log** iterative improvements across time, data, ideas, teams, etc.\n",
        "\n",
        "There are many options for experiment tracking but we're going to use [MLFlow](https://mlflow.org/) (100% free and [open-source](https://github.com/mlflow/mlflow)) because it has all the functionality we'll need (and [growing integration support](https://medium.com/pytorch/mlflow-and-pytorch-where-cutting-edge-ai-meets-mlops-1985cf8aa789)). We can run MLFlow on our own servers and databases so there are no storage cost / limitations, making it one of the most popular options and is used by Microsoft, Facebook, Databricks and others. You can also set up your own Tracking servers to synchronize runs amongst multiple team members collaborating on the same task.\n",
        "\n",
        "There are also several popular options such as a [Comet ML](https://www.comet.ml/site/) (Used by Google AI, HuggingFace, etc.) and [Weights and Biases](https://www.wandb.com/) (Used by Open AI, Toyota Research, etc.). These are fantastic tools that provide features like dashboards, seamless integration, hyperparameter search, reports and even [debugging](https://wandb.ai/latentspace/published-work/The-Science-of-Debugging-with-W-B-Reports--Vmlldzo4OTI3Ng)!"
      ]
    },
    {
      "cell_type": "code",
      "execution_count": null,
      "metadata": {
        "id": "GiU-_H58iVvV"
      },
      "outputs": [],
      "source": [
        "!pip install mlflow==1.13.1 -q"
      ]
    },
    {
      "cell_type": "code",
      "execution_count": null,
      "metadata": {
        "id": "jjBl3l1cl4x6"
      },
      "outputs": [],
      "source": [
        "from argparse import Namespace\n",
        "import mlflow\n",
        "from pathlib import Path"
      ]
    },
    {
      "cell_type": "markdown",
      "metadata": {
        "id": "hwDZuD296vzm"
      },
      "source": [
        "The input argument `args` contains all the parameters needed and it's nice to have it all organized under one variable so we can easily log it and tweak it for different experiments (we'll see this when we do [hyperparameter optimization](https://madewithml.com/courses/mlops/optimization/))."
      ]
    },
    {
      "cell_type": "code",
      "execution_count": null,
      "metadata": {
        "id": "bDwbBLh4xdFG"
      },
      "outputs": [],
      "source": [
        "# Specify arguments\n",
        "args = Namespace(\n",
        "    lower=True,\n",
        "    stem=False,\n",
        "    analyzer=\"word\",\n",
        "    ngram_max_range=7,\n",
        "    alpha=1e-4,\n",
        "    learning_rate=1e-1,\n",
        "    power_t=0.1,\n",
        "    num_epochs=100\n",
        ")"
      ]
    },
    {
      "cell_type": "code",
      "execution_count": null,
      "metadata": {
        "id": "Bq5Zoy6YohM3"
      },
      "outputs": [],
      "source": [
        "# Set tracking URI\n",
        "MODEL_REGISTRY = Path(\"experiments\")\n",
        "Path(MODEL_REGISTRY).mkdir(exist_ok=True) # create experiments dir\n",
        "mlflow.set_tracking_uri(\"file://\" + str(MODEL_REGISTRY.absolute()))"
      ]
    },
    {
      "cell_type": "code",
      "execution_count": null,
      "metadata": {
        "id": "9DR1CvJeo48U"
      },
      "outputs": [],
      "source": [
        "!ls"
      ]
    },
    {
      "cell_type": "markdown",
      "metadata": {
        "id": "W1QaosxBz8Ty"
      },
      "source": [
        "> When we're collaborating with other team members, this model registry will live on the cloud. Members from our team can connect to it (with authentication) to save and load trained models. If you don't want to set up and maintain a model registry, this is where platforms like [Comet ML](https://www.comet.ml/site/), [Weights and Biases](https://www.wandb.com/) and others offload a lot of technical setup."
      ]
    },
    {
      "cell_type": "markdown",
      "metadata": {
        "id": "JGvUEKbl9buj"
      },
      "source": [
        "### Training"
      ]
    },
    {
      "cell_type": "markdown",
      "metadata": {
        "id": "8Mk5Dlcj_aJd"
      },
      "source": [
        "And to make things simple, we'll encapsulate all the components for training into one function which returns all the artifacts we want to be able to track from our experiment.\n",
        "\n",
        "> Ignore the `trial` argument for now (default is `None`) as it will be used during the [hyperparameter optimization](https://madewithml.com/courses/mlops/optimization/) lesson for pruning unpromising trials."
      ]
    },
    {
      "cell_type": "code",
      "execution_count": null,
      "metadata": {
        "id": "OWUtQYLIR9Nn"
      },
      "outputs": [],
      "source": [
        "def train(args, df, trial=None):\n",
        "    \"\"\"Train model on data.\"\"\"\n",
        "\n",
        "    # Setup\n",
        "    set_seeds()\n",
        "    df = pd.read_csv(\"labeled_projects.csv\")\n",
        "    df = df.sample(frac=1).reset_index(drop=True)\n",
        "    df = preprocess(df, lower=True, stem=False, min_freq=min_freq)\n",
        "    label_encoder = LabelEncoder().fit(df.tag)\n",
        "    X_train, X_val, X_test, y_train, y_val, y_test = \\\n",
        "        get_data_splits(X=df.text.to_numpy(), y=label_encoder.encode(df.tag))\n",
        "\n",
        "    # Tf-idf\n",
        "    vectorizer = TfidfVectorizer(analyzer=args.analyzer, ngram_range=(2,args.ngram_max_range))  # char n-grams\n",
        "    X_train = vectorizer.fit_transform(X_train)\n",
        "    X_val = vectorizer.transform(X_val)\n",
        "    X_test = vectorizer.transform(X_test)\n",
        "\n",
        "    # Oversample\n",
        "    oversample = RandomOverSampler(sampling_strategy=\"all\")\n",
        "    X_over, y_over = oversample.fit_resample(X_train, y_train)\n",
        "\n",
        "    # Model\n",
        "    model = SGDClassifier(\n",
        "        loss=\"log\", penalty=\"l2\", alpha=args.alpha, max_iter=1,\n",
        "        learning_rate=\"constant\", eta0=args.learning_rate, power_t=args.power_t, \n",
        "        warm_start=True)\n",
        "\n",
        "    # Training\n",
        "    for epoch in range(args.num_epochs):\n",
        "        model.fit(X_over, y_over)\n",
        "        train_loss = log_loss(y_train, model.predict_proba(X_train))\n",
        "        val_loss = log_loss(y_val, model.predict_proba(X_val))\n",
        "        if not epoch%10:\n",
        "            print(\n",
        "                f\"Epoch: {epoch:02d} | \"\n",
        "                f\"train_loss: {train_loss:.5f}, \"\n",
        "                f\"val_loss: {val_loss:.5f}\"\n",
        "            )\n",
        "\n",
        "        # Log\n",
        "        if not trial:\n",
        "            mlflow.log_metrics({\"train_loss\": train_loss, \"val_loss\": val_loss}, step=epoch)\n",
        "\n",
        "        # Pruning (for optimization in next section)\n",
        "        if trial:\n",
        "            trial.report(val_loss, epoch)\n",
        "            if trial.should_prune():\n",
        "                raise optuna.TrialPruned()\n",
        "\n",
        "    # Threshold\n",
        "    y_pred = model.predict(X_val)\n",
        "    y_prob = model.predict_proba(X_val)\n",
        "    args.threshold = np.quantile(\n",
        "        [y_prob[i][j] for i, j in enumerate(y_pred)], q=0.25)  # Q1\n",
        "\n",
        "    # Evaluation\n",
        "    other_index = label_encoder.class_to_index[\"other\"]\n",
        "    y_prob = model.predict_proba(X_test)\n",
        "    y_pred = custom_predict(y_prob=y_prob, threshold=args.threshold, index=other_index)\n",
        "    metrics = precision_recall_fscore_support(y_test, y_pred, average=\"weighted\")\n",
        "    performance = {\"precision\": metrics[0], \"recall\": metrics[1], \"f1\": metrics[2]}\n",
        "    print (json.dumps(performance, indent=2))\n",
        "\n",
        "    return {\n",
        "        \"args\": args,\n",
        "        \"label_encoder\": label_encoder,\n",
        "        \"vectorizer\": vectorizer,\n",
        "        \"model\": model,\n",
        "        \"performance\": performance\n",
        "    }"
      ]
    },
    {
      "cell_type": "markdown",
      "metadata": {
        "id": "oyqrdKxZ9gFi"
      },
      "source": [
        "### Tracking"
      ]
    },
    {
      "cell_type": "markdown",
      "metadata": {
        "id": "7EyOAaaTLlil"
      },
      "source": [
        "With MLFlow we need to first initialize an experiment and then you can do runs under that experiment."
      ]
    },
    {
      "cell_type": "code",
      "execution_count": null,
      "metadata": {
        "id": "Z5qLhfSJxSkp"
      },
      "outputs": [],
      "source": [
        "import joblib\n",
        "import tempfile"
      ]
    },
    {
      "cell_type": "code",
      "execution_count": null,
      "metadata": {
        "id": "TJHQ_SwwLjRY"
      },
      "outputs": [],
      "source": [
        "# Set experiment\n",
        "mlflow.set_experiment(experiment_name=\"baselines\")"
      ]
    },
    {
      "cell_type": "code",
      "execution_count": null,
      "metadata": {
        "id": "FCuqxD1V2dce"
      },
      "outputs": [],
      "source": [
        "def save_dict(d, filepath):\n",
        "    \"\"\"Save dict to a json file.\"\"\"\n",
        "    with open(filepath, \"w\") as fp:\n",
        "        json.dump(d, indent=2, sort_keys=False, fp=fp)"
      ]
    },
    {
      "cell_type": "code",
      "execution_count": null,
      "metadata": {
        "id": "5rWwqZPWo7Oo"
      },
      "outputs": [],
      "source": [
        "# Tracking\n",
        "with mlflow.start_run(run_name=\"sgd\"):\n",
        "\n",
        "    # Train & evaluate\n",
        "    artifacts = train(args=args, df=df)\n",
        "\n",
        "    # Log key metrics\n",
        "    mlflow.log_metrics({\"precision\": artifacts[\"performance\"][\"precision\"]})\n",
        "    mlflow.log_metrics({\"recall\": artifacts[\"performance\"][\"recall\"]})\n",
        "    mlflow.log_metrics({\"f1\": artifacts[\"performance\"][\"f1\"]})\n",
        "\n",
        "    # Log artifacts\n",
        "    with tempfile.TemporaryDirectory() as dp:\n",
        "        artifacts[\"label_encoder\"].save(Path(dp, \"label_encoder.json\"))\n",
        "        joblib.dump(artifacts[\"vectorizer\"], Path(dp, \"vectorizer.pkl\"))\n",
        "        joblib.dump(artifacts[\"model\"], Path(dp, \"model.pkl\"))\n",
        "        save_dict(artifacts[\"performance\"], Path(dp, \"performance.json\"))\n",
        "        mlflow.log_artifacts(dp)\n",
        "\n",
        "    # Log parameters\n",
        "    mlflow.log_params(vars(artifacts[\"args\"]))"
      ]
    },
    {
      "cell_type": "markdown",
      "metadata": {
        "id": "lqWgLPYgCBhi"
      },
      "source": [
        "### Viewing"
      ]
    },
    {
      "cell_type": "code",
      "execution_count": null,
      "metadata": {
        "id": "rRY1BKS1ehBr"
      },
      "outputs": [],
      "source": [
        "!npm install -g localtunnel"
      ]
    },
    {
      "cell_type": "markdown",
      "metadata": {
        "id": "J9JkJ_7MCC4U"
      },
      "source": [
        "Let's view what we've tracked from our experiment. MLFlow serves a dashboard for us to view and explore our experiments on a localhost port. If you're running this on your local computer, you can simply run the MLFlow server:\n",
        "\n",
        "```bash\n",
        "mlflow server -h 0.0.0.0 -p 8000 --backend-store-uri $PWD/experiments/\n",
        "```\n",
        "\n",
        "and open [http://localhost:8000/](http://localhost:8000/) to view the dashboard. But if you're on Google colab, we're going to use [localtunnel](https://github.com/localtunnel/localtunnel) to create a connection between this notebook and a public URL.\n",
        "\n",
        "> If localtunnel is not installed, you may need to run `!npm install -g localtunnel` in a cell first."
      ]
    },
    {
      "cell_type": "code",
      "execution_count": null,
      "metadata": {
        "id": "dTikPTaI_xJF"
      },
      "outputs": [],
      "source": [
        "#Uncomment the code below to generate a public URL\n",
        "get_ipython().system_raw(\"mlflow server -h 0.0.0.0 -p 8000 --backend-store-uri $PWD/experiments/ &\")\n",
        "!npx localtunnel --port 8000"
      ]
    },
    {
      "cell_type": "markdown",
      "metadata": {
        "id": "rpxzufB1C2hc"
      },
      "source": [
        "> 🛑 stop the code cell above by clicking on the ⏸&nbsp; pause icon (top left of the code cell) to continue."
      ]
    },
    {
      "cell_type": "markdown",
      "metadata": {
        "id": "tfUQpOIDej0z"
      },
      "source": [
        "MLFlow creates a main dashboard with all your experiments and their respective runs. We can sort runs by clicking on the column headers.\n",
        "\n",
        "<img src=\"https://madewithml.com/static/images/mlops/experiment_tracking/dashboard.png\" width=\"1000\" alt=\"experiments\">"
      ]
    },
    {
      "cell_type": "markdown",
      "metadata": {
        "id": "bHhjsDJyeeGN"
      },
      "source": [
        "We can click on any of our experiments on the main dashboard to further explore it (click on the timestamp link for each run). Then click on metrics on the left side to view them in a plot:\n",
        "\n",
        "<img src=\"https://madewithml.com/static/images/mlops/experiment_tracking/plots.png\" width=\"1000\" alt=\"experiment metrics\">"
      ]
    },
    {
      "cell_type": "markdown",
      "metadata": {
        "id": "2RVeCRid9hWs"
      },
      "source": [
        "### Loading"
      ]
    },
    {
      "cell_type": "markdown",
      "metadata": {
        "id": "vEbgvyFQfW_e"
      },
      "source": [
        "We need to be able to load our saved experiment artifacts for inference, retraining, etc."
      ]
    },
    {
      "cell_type": "code",
      "execution_count": null,
      "metadata": {
        "id": "wUdmwNiVy6Dy"
      },
      "outputs": [],
      "source": [
        "def load_dict(filepath):\n",
        "    \"\"\"Load a dict from a json file.\"\"\"\n",
        "    with open(filepath, \"r\") as fp:\n",
        "        d = json.load(fp)\n",
        "    return d"
      ]
    },
    {
      "cell_type": "code",
      "execution_count": null,
      "metadata": {
        "id": "wP_FfHn07943"
      },
      "outputs": [],
      "source": [
        "# Load all runs from experiment\n",
        "experiment_id = mlflow.get_experiment_by_name(\"baselines\").experiment_id\n",
        "all_runs = mlflow.search_runs(experiment_ids=experiment_id, order_by=[\"metrics.val_loss ASC\"])\n",
        "print (all_runs)"
      ]
    },
    {
      "cell_type": "code",
      "execution_count": null,
      "metadata": {
        "id": "PHbhpuFq9QPA"
      },
      "outputs": [],
      "source": [
        "# Best run\n",
        "best_run_id = all_runs.iloc[0].run_id\n",
        "best_run = mlflow.get_run(run_id=best_run_id)\n",
        "client = mlflow.tracking.MlflowClient()\n",
        "with tempfile.TemporaryDirectory() as dp:\n",
        "    client.download_artifacts(run_id=best_run_id, path=\"\", dst_path=dp)\n",
        "    vectorizer = joblib.load(Path(dp, \"vectorizer.pkl\"))\n",
        "    label_encoder = LabelEncoder.load(fp=Path(dp, \"label_encoder.json\"))\n",
        "    model = joblib.load(Path(dp, \"model.pkl\"))\n",
        "    performance = load_dict(filepath=Path(dp, \"performance.json\"))"
      ]
    },
    {
      "cell_type": "code",
      "execution_count": null,
      "metadata": {
        "id": "uUAGjr5w8oxM"
      },
      "outputs": [],
      "source": [
        "print (json.dumps(performance, indent=2))"
      ]
    },
    {
      "cell_type": "code",
      "execution_count": null,
      "metadata": {
        "id": "NiQr5E6L9XrM"
      },
      "outputs": [],
      "source": [
        "# Inference\n",
        "text = \"Transfer learning with transformers for text classification.\"\n",
        "predict_tag(texts=[text])"
      ]
    },
    {
      "cell_type": "markdown",
      "metadata": {
        "id": "_CzPlupuYPWT"
      },
      "source": [
        "## Optimization"
      ]
    },
    {
      "cell_type": "markdown",
      "metadata": {
        "id": "CHM69_fPYXy_"
      },
      "source": [
        "Optimization is the process of fine-tuning the hyperparameters in our experiment to optimize towards a particular objective. It can be a computationally involved process depending on the number of parameters, search space and model architectures. Hyperparameters don't just include the model's parameters but they also include parameters (choices) from preprocessing, splitting, etc. When we look at all the different parameters that can be tuned, it quickly becomes a very large search space. However, just because something is a hyperparameter doesn't mean we need to tune it.\n",
        "\n",
        "- It's absolutely alright to fix some hyperparameters (ex. `lower=True` during preprocessing) and remove them from the current tuning subset. Just be sure to note which parameters you are fixing and your reasoning for doing so.\n",
        "- You can initially just tune a small, yet influential, subset of hyperparameters that you believe will yield best results.\n",
        "\n",
        "There are many options for hyperparameter tuning ([Optuna](https://github.com/optuna/optuna), [Ray tune](https://github.com/ray-project/ray/tree/master/python/ray/tune), [Hyperopt](https://github.com/hyperopt/hyperopt), etc.) but we'll be using Optuna for it's simplicity and efficiency. "
      ]
    },
    {
      "cell_type": "code",
      "execution_count": null,
      "metadata": {
        "id": "SFFkEgjSYR9v"
      },
      "outputs": [],
      "source": [
        "!pip install optuna==2.10.0 numpyencoder==0.3.0 -q"
      ]
    },
    {
      "cell_type": "code",
      "execution_count": null,
      "metadata": {
        "id": "VLI2DvYihgH9"
      },
      "outputs": [],
      "source": [
        "import optuna"
      ]
    },
    {
      "cell_type": "markdown",
      "metadata": {
        "id": "1oxHC5gUZw6v"
      },
      "source": [
        "There are many factors to consider when performing hyperparameter optimization and luckily Optuna allows us to [implement](https://optuna.readthedocs.io/en/stable/reference/) them with ease. We'll be conducting a small study where we'll tune a set of arguments (we'll do a much more thorough [study](https://optuna.readthedocs.io/en/stable/reference/study.html) of the parameter space when we move our code to Python scripts). Here's the process for the study:\n",
        "\n",
        "1. Define an objective (metric) and identifying the [direction](https://optuna.readthedocs.io/en/stable/reference/generated/optuna.study.StudyDirection.html#optuna.study.StudyDirection) to optimize.\n",
        "2. `[OPTIONAL]` Choose a [sampler](https://optuna.readthedocs.io/en/stable/reference/samplers.html) for determining parameters for subsequent trials. (default is a tree based sampler).\n",
        "3. `[OPTIONAL]` Choose a [pruner](https://optuna.readthedocs.io/en/stable/reference/pruners.html) to end unpromising trials early. \n",
        "4. Define the parameters to tune in each [trial](https://optuna.readthedocs.io/en/stable/reference/trial.html) and the [distribution](https://optuna.readthedocs.io/en/stable/reference/generated/optuna.trial.Trial.html#optuna-trial-trial) of values to sample. "
      ]
    },
    {
      "cell_type": "markdown",
      "metadata": {
        "id": "XglooerqQP95"
      },
      "source": [
        "We're going to use the same training function as before since we've added the functionality to prune a specific run if the `trial` argument is not `None`.\n",
        "```python\n",
        "# Pruning (inside train() function)\n",
        "trial.report(val_loss, epoch)\n",
        "if trial.should_prune():\n",
        "    raise optuna.TrialPruned()\n",
        "```"
      ]
    },
    {
      "cell_type": "markdown",
      "metadata": {
        "id": "ncGdA34Ahod9"
      },
      "source": [
        "### Objective"
      ]
    },
    {
      "cell_type": "markdown",
      "metadata": {
        "id": "NzekaGZyeHXb"
      },
      "source": [
        "We need to define an objective function that will consume a trial and a set of arguments and produce the metric to optimize on (`f1` in our case)."
      ]
    },
    {
      "cell_type": "code",
      "execution_count": null,
      "metadata": {
        "id": "Jg33IjzSd27e"
      },
      "outputs": [],
      "source": [
        "def objective(args, trial):\n",
        "    \"\"\"Objective function for optimization trials.\"\"\"\n",
        "    # Parameters to tune\n",
        "    args.analyzer = trial.suggest_categorical(\"analyzer\", [\"word\", \"char\", \"char_wb\"])\n",
        "    args.ngram_max_range = trial.suggest_int(\"ngram_max_range\", 3, 10)\n",
        "    args.learning_rate = trial.suggest_loguniform(\"learning_rate\", 1e-2, 1e0)\n",
        "    args.power_t = trial.suggest_uniform(\"power_t\", 0.1, 0.5)\n",
        "\n",
        "    # Train & evaluate\n",
        "    artifacts = train(args=args, df=df, trial=trial)\n",
        "\n",
        "    # Set additional attributes\n",
        "    performance = artifacts[\"performance\"]\n",
        "    print(json.dumps(performance, indent=2))\n",
        "    trial.set_user_attr(\"precision\", performance[\"precision\"])\n",
        "    trial.set_user_attr(\"recall\", performance[\"recall\"])\n",
        "    trial.set_user_attr(\"f1\", performance[\"f1\"])\n",
        "\n",
        "    return performance[\"f1\"]"
      ]
    },
    {
      "cell_type": "markdown",
      "metadata": {
        "id": "K42Yf3OEhp_V"
      },
      "source": [
        "### Study"
      ]
    },
    {
      "cell_type": "markdown",
      "metadata": {
        "id": "epa_kTIl9H7b"
      },
      "source": [
        "We're ready to kick off our study with our [MLFlowCallback](https://optuna.readthedocs.io/en/stable/reference/generated/optuna.integration.MLflowCallback.html) so we can track all of the different trials."
      ]
    },
    {
      "cell_type": "code",
      "execution_count": null,
      "metadata": {
        "id": "WC58iWVjjPN8"
      },
      "outputs": [],
      "source": [
        "from numpyencoder import NumpyEncoder\n",
        "from optuna.integration.mlflow import MLflowCallback"
      ]
    },
    {
      "cell_type": "code",
      "execution_count": null,
      "metadata": {
        "id": "ZbPWc_c8hsA6"
      },
      "outputs": [],
      "source": [
        "NUM_TRIALS = 20  # small sample for now"
      ]
    },
    {
      "cell_type": "code",
      "execution_count": null,
      "metadata": {
        "id": "RQByQ8pihjIR"
      },
      "outputs": [],
      "source": [
        "# Optimize\n",
        "pruner = optuna.pruners.MedianPruner(n_startup_trials=5, n_warmup_steps=5)\n",
        "study = optuna.create_study(study_name=\"optimization\", direction=\"maximize\", pruner=pruner)\n",
        "mlflow_callback = MLflowCallback(\n",
        "    tracking_uri=mlflow.get_tracking_uri(), metric_name=\"f1\")\n",
        "study.optimize(lambda trial: objective(args, trial),\n",
        "            n_trials=NUM_TRIALS,\n",
        "            callbacks=[mlflow_callback])"
      ]
    },
    {
      "cell_type": "code",
      "execution_count": null,
      "metadata": {
        "id": "8SuGsKwJE0mf"
      },
      "outputs": [],
      "source": [
        "# Uncomment the code below to generate a public URL\n",
        "get_ipython().system_raw(\"mlflow server -h 0.0.0.0 -p 8000 --backend-store-uri $PWD/experiments/ &\")\n",
        "!npx localtunnel --port 8000"
      ]
    },
    {
      "cell_type": "markdown",
      "metadata": {
        "id": "lxebuePcDG8o"
      },
      "source": [
        "> 🛑 stop the code cell above by clicking on the ⏸&nbsp; pause icon (top left of the code cell) to continue."
      ]
    },
    {
      "cell_type": "markdown",
      "metadata": {
        "id": "NojJ-Z1X6IEQ"
      },
      "source": [
        "1. Click on the \"optimization\" experiment on the left side under **Experiments**.\n",
        "2. Select runs to compare by clicking on the toggle box to the left of each run or by clicking on the toggle box in the header to select all runs in this experiment.\n",
        "3. Click on the **Compare** button.\n",
        "\n",
        "<img src=\"https://madewithml.com/static/images/mlops/hyperparameter_optimization/compare.png\" width=\"1000\" alt=\"compare\">\n",
        "\n",
        "4. In the comparison page, we can then view the results through various lens (contours, parallel coordinates, etc.)\n",
        "\n",
        "<img src=\"https://madewithml.com/static/images/mlops/hyperparameter_optimization/contour.png\" width=\"1000\" alt=\"contour plots\">\n",
        "<img src=\"https://madewithml.com/static/images/mlops/hyperparameter_optimization/parallel_coordinates.png\" width=\"1000\" alt=\"parallel coordinates\">"
      ]
    },
    {
      "cell_type": "code",
      "execution_count": null,
      "metadata": {
        "id": "9HtwFRzEikt7"
      },
      "outputs": [],
      "source": [
        "# All trials\n",
        "trials_df = study.trials_dataframe()\n",
        "trials_df = trials_df.sort_values([\"user_attrs_f1\"], ascending=False)  # sort by metric\n",
        "trials_df.head()"
      ]
    },
    {
      "cell_type": "code",
      "execution_count": null,
      "metadata": {
        "id": "6mP99RFjiENR"
      },
      "outputs": [],
      "source": [
        "# Best trial\n",
        "print (f\"Best value (f1): {study.best_trial.value}\")\n",
        "print (f\"Best hyperparameters: {json.dumps(study.best_trial.params, indent=2)}\")"
      ]
    },
    {
      "cell_type": "code",
      "execution_count": null,
      "metadata": {
        "id": "JZIS8RtfiuDc"
      },
      "outputs": [],
      "source": [
        "# Save best parameter values\n",
        "args = {**args.__dict__, **study.best_trial.params}\n",
        "print (json.dumps(args, indent=2, cls=NumpyEncoder))"
      ]
    },
    {
      "cell_type": "markdown",
      "metadata": {
        "id": "KbxtdyENi78d"
      },
      "source": [
        "... and now we're finally ready to move from working in Jupyter notebooks to Python scripts. We'll be revisiting everything we did so far, but this time with proper software engineering principles such as object oriented programming (OOPs), styling, testing, etc. → [https://madewithml.com/#mlops](https://madewithml.com/#mlops)"
      ]
    },
    {
      "cell_type": "code",
      "execution_count": null,
      "metadata": {
        "id": "R33AneRvfZGI"
      },
      "outputs": [],
      "source": [
        "# Clean up\n",
        "!rm -rf experiments\n",
        "!rm labeled_projects.csv"
      ]
    }
  ],
  "metadata": {
    "colab": {
      "provenance": [],
      "toc_visible": true
    },
    "kernelspec": {
      "display_name": "Python 3.7.13 ('venv': venv)",
      "language": "python",
      "name": "python3"
    },
    "language_info": {
      "codemirror_mode": {
        "name": "ipython",
        "version": 3
      },
      "file_extension": ".py",
      "mimetype": "text/x-python",
      "name": "python",
      "nbconvert_exporter": "python",
      "pygments_lexer": "ipython3",
      "version": "3.7.13"
    },
    "toc-autonumbering": false,
    "toc-showcode": false,
    "toc-showmarkdowntxt": false,
    "toc-showtags": false,
    "vscode": {
      "interpreter": {
        "hash": "8071f8c6175eca3e18fb18842fbea041b655e67ca9cf317ca1066c8b060a000c"
      }
    },
    "widgets": {
      "application/vnd.jupyter.widget-state+json": {
        "0b2feb3c150e4bdaa136351703855a62": {
          "model_module": "@jupyter-widgets/controls",
          "model_module_version": "1.5.0",
          "model_name": "DescriptionStyleModel",
          "state": {
            "_model_module": "@jupyter-widgets/controls",
            "_model_module_version": "1.5.0",
            "_model_name": "DescriptionStyleModel",
            "_view_count": null,
            "_view_module": "@jupyter-widgets/base",
            "_view_module_version": "1.2.0",
            "_view_name": "StyleView",
            "description_width": ""
          }
        },
        "13e0b59f7ef046839d68258a823641ec": {
          "model_module": "@jupyter-widgets/controls",
          "model_module_version": "1.5.0",
          "model_name": "DescriptionStyleModel",
          "state": {
            "_model_module": "@jupyter-widgets/controls",
            "_model_module_version": "1.5.0",
            "_model_name": "DescriptionStyleModel",
            "_view_count": null,
            "_view_module": "@jupyter-widgets/base",
            "_view_module_version": "1.2.0",
            "_view_name": "StyleView",
            "description_width": ""
          }
        },
        "1501666eba1745df9f16d5b7b7ed1226": {
          "model_module": "@jupyter-widgets/controls",
          "model_module_version": "1.5.0",
          "model_name": "DescriptionStyleModel",
          "state": {
            "_model_module": "@jupyter-widgets/controls",
            "_model_module_version": "1.5.0",
            "_model_name": "DescriptionStyleModel",
            "_view_count": null,
            "_view_module": "@jupyter-widgets/base",
            "_view_module_version": "1.2.0",
            "_view_name": "StyleView",
            "description_width": ""
          }
        },
        "1a34e57506ae431f9986f338af817a2d": {
          "model_module": "@jupyter-widgets/controls",
          "model_module_version": "1.5.0",
          "model_name": "VBoxModel",
          "state": {
            "_dom_classes": [
              "widget-interact"
            ],
            "_model_module": "@jupyter-widgets/controls",
            "_model_module_version": "1.5.0",
            "_model_name": "VBoxModel",
            "_view_count": null,
            "_view_module": "@jupyter-widgets/controls",
            "_view_module_version": "1.5.0",
            "_view_name": "VBoxView",
            "box_style": "",
            "children": [
              "IPY_MODEL_8b72be8c844d4092be2c0128c8228ce4",
              "IPY_MODEL_30d2ae1770364eda88bb1e13d4475e84"
            ],
            "layout": "IPY_MODEL_5e823cb74d7d46e9a5728d696ff85a51"
          }
        },
        "1c749a336db24295a7bbe5d492a242d7": {
          "model_module": "@jupyter-widgets/base",
          "model_module_version": "1.2.0",
          "model_name": "LayoutModel",
          "state": {
            "_model_module": "@jupyter-widgets/base",
            "_model_module_version": "1.2.0",
            "_model_name": "LayoutModel",
            "_view_count": null,
            "_view_module": "@jupyter-widgets/base",
            "_view_module_version": "1.2.0",
            "_view_name": "LayoutView",
            "align_content": null,
            "align_items": null,
            "align_self": null,
            "border": null,
            "bottom": null,
            "display": null,
            "flex": null,
            "flex_flow": null,
            "grid_area": null,
            "grid_auto_columns": null,
            "grid_auto_flow": null,
            "grid_auto_rows": null,
            "grid_column": null,
            "grid_gap": null,
            "grid_row": null,
            "grid_template_areas": null,
            "grid_template_columns": null,
            "grid_template_rows": null,
            "height": null,
            "justify_content": null,
            "justify_items": null,
            "left": null,
            "margin": null,
            "max_height": null,
            "max_width": null,
            "min_height": null,
            "min_width": null,
            "object_fit": null,
            "object_position": null,
            "order": null,
            "overflow": null,
            "overflow_x": null,
            "overflow_y": null,
            "padding": null,
            "right": null,
            "top": null,
            "visibility": null,
            "width": null
          }
        },
        "1e56c875c07d49f09311f2a3a00b564c": {
          "model_module": "@jupyter-widgets/controls",
          "model_module_version": "1.5.0",
          "model_name": "HTMLModel",
          "state": {
            "_dom_classes": [],
            "_model_module": "@jupyter-widgets/controls",
            "_model_module_version": "1.5.0",
            "_model_name": "HTMLModel",
            "_view_count": null,
            "_view_module": "@jupyter-widgets/controls",
            "_view_module_version": "1.5.0",
            "_view_name": "HTMLView",
            "description": "",
            "description_tooltip": null,
            "layout": "IPY_MODEL_c6264d900ff5440cb80d0fb8316a64bd",
            "placeholder": "​",
            "style": "IPY_MODEL_1501666eba1745df9f16d5b7b7ed1226",
            "value": " 161M/268M [00:05&lt;00:04, 25.2MB/s]"
          }
        },
        "30d2ae1770364eda88bb1e13d4475e84": {
          "model_module": "@jupyter-widgets/output",
          "model_module_version": "1.0.0",
          "model_name": "OutputModel",
          "state": {
            "_dom_classes": [],
            "_model_module": "@jupyter-widgets/output",
            "_model_module_version": "1.0.0",
            "_model_name": "OutputModel",
            "_view_count": null,
            "_view_module": "@jupyter-widgets/output",
            "_view_module_version": "1.0.0",
            "_view_name": "OutputView",
            "layout": "IPY_MODEL_84adcbf0f8414b4ca2163a9422ce46e6",
            "msg_id": "",
            "outputs": [
              {
                "name": "stdout",
                "output_type": "stream",
                "text": [
                  "Most popular tags:\n",
                  " [('natural-language-processing', 388), ('computer-vision', 356), ('other', 87)]\n",
                  "\n",
                  "Tags that just made the cut:\n",
                  " [('computer-vision', 356), ('other', 87), ('mlops', 79)]\n",
                  "\n",
                  "Tags that just missed the cut:\n",
                  " [('graph-learning', 45)]\n"
                ]
              }
            ]
          }
        },
        "3d4c41f0a54346c9b042f7103d1f8968": {
          "model_module": "@jupyter-widgets/controls",
          "model_module_version": "1.5.0",
          "model_name": "FloatProgressModel",
          "state": {
            "_dom_classes": [],
            "_model_module": "@jupyter-widgets/controls",
            "_model_module_version": "1.5.0",
            "_model_name": "FloatProgressModel",
            "_view_count": null,
            "_view_module": "@jupyter-widgets/controls",
            "_view_module_version": "1.5.0",
            "_view_name": "ProgressView",
            "bar_style": "",
            "description": "",
            "description_tooltip": null,
            "layout": "IPY_MODEL_71040735fc6e42eaa432acf96028f32a",
            "max": 267967963,
            "min": 0,
            "orientation": "horizontal",
            "style": "IPY_MODEL_89157c9e1ce94435a2169316059bfe9b",
            "value": 161201152
          }
        },
        "4a74a206d68a42fcbbe2bcce1073f681": {
          "model_module": "@jupyter-widgets/base",
          "model_module_version": "1.2.0",
          "model_name": "LayoutModel",
          "state": {
            "_model_module": "@jupyter-widgets/base",
            "_model_module_version": "1.2.0",
            "_model_name": "LayoutModel",
            "_view_count": null,
            "_view_module": "@jupyter-widgets/base",
            "_view_module_version": "1.2.0",
            "_view_name": "LayoutView",
            "align_content": null,
            "align_items": null,
            "align_self": null,
            "border": null,
            "bottom": null,
            "display": null,
            "flex": null,
            "flex_flow": null,
            "grid_area": null,
            "grid_auto_columns": null,
            "grid_auto_flow": null,
            "grid_auto_rows": null,
            "grid_column": null,
            "grid_gap": null,
            "grid_row": null,
            "grid_template_areas": null,
            "grid_template_columns": null,
            "grid_template_rows": null,
            "height": null,
            "justify_content": null,
            "justify_items": null,
            "left": null,
            "margin": null,
            "max_height": null,
            "max_width": null,
            "min_height": null,
            "min_width": null,
            "object_fit": null,
            "object_position": null,
            "order": null,
            "overflow": null,
            "overflow_x": null,
            "overflow_y": null,
            "padding": null,
            "right": null,
            "top": null,
            "visibility": null,
            "width": null
          }
        },
        "54b170fed0dd4bc393ee551418318fc8": {
          "model_module": "@jupyter-widgets/controls",
          "model_module_version": "1.5.0",
          "model_name": "DescriptionStyleModel",
          "state": {
            "_model_module": "@jupyter-widgets/controls",
            "_model_module_version": "1.5.0",
            "_model_name": "DescriptionStyleModel",
            "_view_count": null,
            "_view_module": "@jupyter-widgets/base",
            "_view_module_version": "1.2.0",
            "_view_name": "StyleView",
            "description_width": ""
          }
        },
        "58186c64bb0d4ec694e48d23106854b5": {
          "model_module": "@jupyter-widgets/controls",
          "model_module_version": "1.5.0",
          "model_name": "FloatProgressModel",
          "state": {
            "_dom_classes": [],
            "_model_module": "@jupyter-widgets/controls",
            "_model_module_version": "1.5.0",
            "_model_name": "FloatProgressModel",
            "_view_count": null,
            "_view_module": "@jupyter-widgets/controls",
            "_view_module_version": "1.5.0",
            "_view_name": "ProgressView",
            "bar_style": "success",
            "description": "",
            "description_tooltip": null,
            "layout": "IPY_MODEL_c9598f8be72d4243af68b260de8da907",
            "max": 231508,
            "min": 0,
            "orientation": "horizontal",
            "style": "IPY_MODEL_7959d7e03522484e950bb60e5d544fbf",
            "value": 231508
          }
        },
        "5dcbe1e23b9f4d6cb1e714f44f0d7640": {
          "model_module": "@jupyter-widgets/base",
          "model_module_version": "1.2.0",
          "model_name": "LayoutModel",
          "state": {
            "_model_module": "@jupyter-widgets/base",
            "_model_module_version": "1.2.0",
            "_model_name": "LayoutModel",
            "_view_count": null,
            "_view_module": "@jupyter-widgets/base",
            "_view_module_version": "1.2.0",
            "_view_name": "LayoutView",
            "align_content": null,
            "align_items": null,
            "align_self": null,
            "border": null,
            "bottom": null,
            "display": null,
            "flex": null,
            "flex_flow": null,
            "grid_area": null,
            "grid_auto_columns": null,
            "grid_auto_flow": null,
            "grid_auto_rows": null,
            "grid_column": null,
            "grid_gap": null,
            "grid_row": null,
            "grid_template_areas": null,
            "grid_template_columns": null,
            "grid_template_rows": null,
            "height": null,
            "justify_content": null,
            "justify_items": null,
            "left": null,
            "margin": null,
            "max_height": null,
            "max_width": null,
            "min_height": null,
            "min_width": null,
            "object_fit": null,
            "object_position": null,
            "order": null,
            "overflow": null,
            "overflow_x": null,
            "overflow_y": null,
            "padding": null,
            "right": null,
            "top": null,
            "visibility": null,
            "width": null
          }
        },
        "5e823cb74d7d46e9a5728d696ff85a51": {
          "model_module": "@jupyter-widgets/base",
          "model_module_version": "1.2.0",
          "model_name": "LayoutModel",
          "state": {
            "_model_module": "@jupyter-widgets/base",
            "_model_module_version": "1.2.0",
            "_model_name": "LayoutModel",
            "_view_count": null,
            "_view_module": "@jupyter-widgets/base",
            "_view_module_version": "1.2.0",
            "_view_name": "LayoutView",
            "align_content": null,
            "align_items": null,
            "align_self": null,
            "border": null,
            "bottom": null,
            "display": null,
            "flex": null,
            "flex_flow": null,
            "grid_area": null,
            "grid_auto_columns": null,
            "grid_auto_flow": null,
            "grid_auto_rows": null,
            "grid_column": null,
            "grid_gap": null,
            "grid_row": null,
            "grid_template_areas": null,
            "grid_template_columns": null,
            "grid_template_rows": null,
            "height": null,
            "justify_content": null,
            "justify_items": null,
            "left": null,
            "margin": null,
            "max_height": null,
            "max_width": null,
            "min_height": null,
            "min_width": null,
            "object_fit": null,
            "object_position": null,
            "order": null,
            "overflow": null,
            "overflow_x": null,
            "overflow_y": null,
            "padding": null,
            "right": null,
            "top": null,
            "visibility": null,
            "width": null
          }
        },
        "5e98e2914138439b80a24f4d2c0734df": {
          "model_module": "@jupyter-widgets/output",
          "model_module_version": "1.0.0",
          "model_name": "OutputModel",
          "state": {
            "_dom_classes": [],
            "_model_module": "@jupyter-widgets/output",
            "_model_module_version": "1.0.0",
            "_model_name": "OutputModel",
            "_view_count": null,
            "_view_module": "@jupyter-widgets/output",
            "_view_module_version": "1.0.0",
            "_view_name": "OutputView",
            "layout": "IPY_MODEL_d33fe3196a72435fbb121e03e63f5667",
            "msg_id": "",
            "outputs": [
              {
                "data": {
                  "image/png": "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\n",
                  "text/plain": "<Figure size 1080x360 with 1 Axes>"
                },
                "metadata": {},
                "output_type": "display_data"
              }
            ]
          }
        },
        "62ed7214f05047ee9e2aba90e16e1a13": {
          "model_module": "@jupyter-widgets/controls",
          "model_module_version": "1.5.0",
          "model_name": "VBoxModel",
          "state": {
            "_dom_classes": [
              "widget-interact"
            ],
            "_model_module": "@jupyter-widgets/controls",
            "_model_module_version": "1.5.0",
            "_model_name": "VBoxModel",
            "_view_count": null,
            "_view_module": "@jupyter-widgets/controls",
            "_view_module_version": "1.5.0",
            "_view_name": "VBoxView",
            "box_style": "",
            "children": [
              "IPY_MODEL_c84285e8e2774c3e957bd33cf115025b",
              "IPY_MODEL_75eaedf6bb934f9bb18e557e81cea695",
              "IPY_MODEL_8ef31c66853e41c39838aa453bb10cf8"
            ],
            "layout": "IPY_MODEL_633fbc766cf848ff8e93300b0f1a104f"
          }
        },
        "633fbc766cf848ff8e93300b0f1a104f": {
          "model_module": "@jupyter-widgets/base",
          "model_module_version": "1.2.0",
          "model_name": "LayoutModel",
          "state": {
            "_model_module": "@jupyter-widgets/base",
            "_model_module_version": "1.2.0",
            "_model_name": "LayoutModel",
            "_view_count": null,
            "_view_module": "@jupyter-widgets/base",
            "_view_module_version": "1.2.0",
            "_view_name": "LayoutView",
            "align_content": null,
            "align_items": null,
            "align_self": null,
            "border": null,
            "bottom": null,
            "display": null,
            "flex": null,
            "flex_flow": null,
            "grid_area": null,
            "grid_auto_columns": null,
            "grid_auto_flow": null,
            "grid_auto_rows": null,
            "grid_column": null,
            "grid_gap": null,
            "grid_row": null,
            "grid_template_areas": null,
            "grid_template_columns": null,
            "grid_template_rows": null,
            "height": null,
            "justify_content": null,
            "justify_items": null,
            "left": null,
            "margin": null,
            "max_height": null,
            "max_width": null,
            "min_height": null,
            "min_width": null,
            "object_fit": null,
            "object_position": null,
            "order": null,
            "overflow": null,
            "overflow_x": null,
            "overflow_y": null,
            "padding": null,
            "right": null,
            "top": null,
            "visibility": null,
            "width": null
          }
        },
        "6861d605c5604a2694fd5169c3b5ed4b": {
          "model_module": "@jupyter-widgets/controls",
          "model_module_version": "1.5.0",
          "model_name": "HBoxModel",
          "state": {
            "_dom_classes": [],
            "_model_module": "@jupyter-widgets/controls",
            "_model_module_version": "1.5.0",
            "_model_name": "HBoxModel",
            "_view_count": null,
            "_view_module": "@jupyter-widgets/controls",
            "_view_module_version": "1.5.0",
            "_view_name": "HBoxView",
            "box_style": "",
            "children": [
              "IPY_MODEL_84713018f8e8465298e6d55702fe0dc9",
              "IPY_MODEL_58186c64bb0d4ec694e48d23106854b5",
              "IPY_MODEL_831700bedbfd4a90bd5f2347fdc9e374"
            ],
            "layout": "IPY_MODEL_6947e78299604e2c8bfaecccad50c243"
          }
        },
        "6947e78299604e2c8bfaecccad50c243": {
          "model_module": "@jupyter-widgets/base",
          "model_module_version": "1.2.0",
          "model_name": "LayoutModel",
          "state": {
            "_model_module": "@jupyter-widgets/base",
            "_model_module_version": "1.2.0",
            "_model_name": "LayoutModel",
            "_view_count": null,
            "_view_module": "@jupyter-widgets/base",
            "_view_module_version": "1.2.0",
            "_view_name": "LayoutView",
            "align_content": null,
            "align_items": null,
            "align_self": null,
            "border": null,
            "bottom": null,
            "display": null,
            "flex": null,
            "flex_flow": null,
            "grid_area": null,
            "grid_auto_columns": null,
            "grid_auto_flow": null,
            "grid_auto_rows": null,
            "grid_column": null,
            "grid_gap": null,
            "grid_row": null,
            "grid_template_areas": null,
            "grid_template_columns": null,
            "grid_template_rows": null,
            "height": null,
            "justify_content": null,
            "justify_items": null,
            "left": null,
            "margin": null,
            "max_height": null,
            "max_width": null,
            "min_height": null,
            "min_width": null,
            "object_fit": null,
            "object_position": null,
            "order": null,
            "overflow": null,
            "overflow_x": null,
            "overflow_y": null,
            "padding": null,
            "right": null,
            "top": null,
            "visibility": null,
            "width": null
          }
        },
        "6ba33d40830142bdaf2aa227b466d148": {
          "model_module": "@jupyter-widgets/base",
          "model_module_version": "1.2.0",
          "model_name": "LayoutModel",
          "state": {
            "_model_module": "@jupyter-widgets/base",
            "_model_module_version": "1.2.0",
            "_model_name": "LayoutModel",
            "_view_count": null,
            "_view_module": "@jupyter-widgets/base",
            "_view_module_version": "1.2.0",
            "_view_name": "LayoutView",
            "align_content": null,
            "align_items": null,
            "align_self": null,
            "border": null,
            "bottom": null,
            "display": null,
            "flex": null,
            "flex_flow": null,
            "grid_area": null,
            "grid_auto_columns": null,
            "grid_auto_flow": null,
            "grid_auto_rows": null,
            "grid_column": null,
            "grid_gap": null,
            "grid_row": null,
            "grid_template_areas": null,
            "grid_template_columns": null,
            "grid_template_rows": null,
            "height": null,
            "justify_content": null,
            "justify_items": null,
            "left": null,
            "margin": null,
            "max_height": null,
            "max_width": null,
            "min_height": null,
            "min_width": null,
            "object_fit": null,
            "object_position": null,
            "order": null,
            "overflow": null,
            "overflow_x": null,
            "overflow_y": null,
            "padding": null,
            "right": null,
            "top": null,
            "visibility": null,
            "width": null
          }
        },
        "6cf4bd04ab774d25af72238e0dc47557": {
          "model_module": "@jupyter-widgets/base",
          "model_module_version": "1.2.0",
          "model_name": "LayoutModel",
          "state": {
            "_model_module": "@jupyter-widgets/base",
            "_model_module_version": "1.2.0",
            "_model_name": "LayoutModel",
            "_view_count": null,
            "_view_module": "@jupyter-widgets/base",
            "_view_module_version": "1.2.0",
            "_view_name": "LayoutView",
            "align_content": null,
            "align_items": null,
            "align_self": null,
            "border": null,
            "bottom": null,
            "display": null,
            "flex": null,
            "flex_flow": null,
            "grid_area": null,
            "grid_auto_columns": null,
            "grid_auto_flow": null,
            "grid_auto_rows": null,
            "grid_column": null,
            "grid_gap": null,
            "grid_row": null,
            "grid_template_areas": null,
            "grid_template_columns": null,
            "grid_template_rows": null,
            "height": null,
            "justify_content": null,
            "justify_items": null,
            "left": null,
            "margin": null,
            "max_height": null,
            "max_width": null,
            "min_height": null,
            "min_width": null,
            "object_fit": null,
            "object_position": null,
            "order": null,
            "overflow": null,
            "overflow_x": null,
            "overflow_y": null,
            "padding": null,
            "right": null,
            "top": null,
            "visibility": null,
            "width": null
          }
        },
        "6e775cb0ca5a40c2b2c4f415ecf5c602": {
          "model_module": "@jupyter-widgets/base",
          "model_module_version": "1.2.0",
          "model_name": "LayoutModel",
          "state": {
            "_model_module": "@jupyter-widgets/base",
            "_model_module_version": "1.2.0",
            "_model_name": "LayoutModel",
            "_view_count": null,
            "_view_module": "@jupyter-widgets/base",
            "_view_module_version": "1.2.0",
            "_view_name": "LayoutView",
            "align_content": null,
            "align_items": null,
            "align_self": null,
            "border": null,
            "bottom": null,
            "display": null,
            "flex": null,
            "flex_flow": null,
            "grid_area": null,
            "grid_auto_columns": null,
            "grid_auto_flow": null,
            "grid_auto_rows": null,
            "grid_column": null,
            "grid_gap": null,
            "grid_row": null,
            "grid_template_areas": null,
            "grid_template_columns": null,
            "grid_template_rows": null,
            "height": null,
            "justify_content": null,
            "justify_items": null,
            "left": null,
            "margin": null,
            "max_height": null,
            "max_width": null,
            "min_height": null,
            "min_width": null,
            "object_fit": null,
            "object_position": null,
            "order": null,
            "overflow": null,
            "overflow_x": null,
            "overflow_y": null,
            "padding": null,
            "right": null,
            "top": null,
            "visibility": null,
            "width": null
          }
        },
        "7002f939130543bdb96d4a65da38ac1e": {
          "model_module": "@jupyter-widgets/controls",
          "model_module_version": "1.5.0",
          "model_name": "ProgressStyleModel",
          "state": {
            "_model_module": "@jupyter-widgets/controls",
            "_model_module_version": "1.5.0",
            "_model_name": "ProgressStyleModel",
            "_view_count": null,
            "_view_module": "@jupyter-widgets/base",
            "_view_module_version": "1.2.0",
            "_view_name": "StyleView",
            "bar_color": null,
            "description_width": ""
          }
        },
        "71040735fc6e42eaa432acf96028f32a": {
          "model_module": "@jupyter-widgets/base",
          "model_module_version": "1.2.0",
          "model_name": "LayoutModel",
          "state": {
            "_model_module": "@jupyter-widgets/base",
            "_model_module_version": "1.2.0",
            "_model_name": "LayoutModel",
            "_view_count": null,
            "_view_module": "@jupyter-widgets/base",
            "_view_module_version": "1.2.0",
            "_view_name": "LayoutView",
            "align_content": null,
            "align_items": null,
            "align_self": null,
            "border": null,
            "bottom": null,
            "display": null,
            "flex": null,
            "flex_flow": null,
            "grid_area": null,
            "grid_auto_columns": null,
            "grid_auto_flow": null,
            "grid_auto_rows": null,
            "grid_column": null,
            "grid_gap": null,
            "grid_row": null,
            "grid_template_areas": null,
            "grid_template_columns": null,
            "grid_template_rows": null,
            "height": null,
            "justify_content": null,
            "justify_items": null,
            "left": null,
            "margin": null,
            "max_height": null,
            "max_width": null,
            "min_height": null,
            "min_width": null,
            "object_fit": null,
            "object_position": null,
            "order": null,
            "overflow": null,
            "overflow_x": null,
            "overflow_y": null,
            "padding": null,
            "right": null,
            "top": null,
            "visibility": null,
            "width": null
          }
        },
        "71e2357777d84d31862b0a03dfee8ada": {
          "model_module": "@jupyter-widgets/controls",
          "model_module_version": "1.5.0",
          "model_name": "HBoxModel",
          "state": {
            "_dom_classes": [],
            "_model_module": "@jupyter-widgets/controls",
            "_model_module_version": "1.5.0",
            "_model_name": "HBoxModel",
            "_view_count": null,
            "_view_module": "@jupyter-widgets/controls",
            "_view_module_version": "1.5.0",
            "_view_name": "HBoxView",
            "box_style": "",
            "children": [
              "IPY_MODEL_aa909c62a9914429ab1a10f9556a8198",
              "IPY_MODEL_7b17e0af1ef2402ab3900ef37b23866d",
              "IPY_MODEL_bd7702588efa475f882d480ef54101ae"
            ],
            "layout": "IPY_MODEL_e2526ade160b49bea4624fe0466f0d76"
          }
        },
        "74a79db7c84943c18b8c92e933fd6144": {
          "model_module": "@jupyter-widgets/base",
          "model_module_version": "1.2.0",
          "model_name": "LayoutModel",
          "state": {
            "_model_module": "@jupyter-widgets/base",
            "_model_module_version": "1.2.0",
            "_model_name": "LayoutModel",
            "_view_count": null,
            "_view_module": "@jupyter-widgets/base",
            "_view_module_version": "1.2.0",
            "_view_name": "LayoutView",
            "align_content": null,
            "align_items": null,
            "align_self": null,
            "border": null,
            "bottom": null,
            "display": null,
            "flex": null,
            "flex_flow": null,
            "grid_area": null,
            "grid_auto_columns": null,
            "grid_auto_flow": null,
            "grid_auto_rows": null,
            "grid_column": null,
            "grid_gap": null,
            "grid_row": null,
            "grid_template_areas": null,
            "grid_template_columns": null,
            "grid_template_rows": null,
            "height": null,
            "justify_content": null,
            "justify_items": null,
            "left": null,
            "margin": null,
            "max_height": null,
            "max_width": null,
            "min_height": null,
            "min_width": null,
            "object_fit": null,
            "object_position": null,
            "order": null,
            "overflow": null,
            "overflow_x": null,
            "overflow_y": null,
            "padding": null,
            "right": null,
            "top": null,
            "visibility": null,
            "width": null
          }
        },
        "75eaedf6bb934f9bb18e557e81cea695": {
          "model_module": "@jupyter-widgets/controls",
          "model_module_version": "1.5.0",
          "model_name": "CheckboxModel",
          "state": {
            "_dom_classes": [],
            "_model_module": "@jupyter-widgets/controls",
            "_model_module_version": "1.5.0",
            "_model_name": "CheckboxModel",
            "_view_count": null,
            "_view_module": "@jupyter-widgets/controls",
            "_view_module_version": "1.5.0",
            "_view_name": "CheckboxView",
            "description": "stem",
            "description_tooltip": null,
            "disabled": false,
            "indent": true,
            "layout": "IPY_MODEL_6ba33d40830142bdaf2aa227b466d148",
            "style": "IPY_MODEL_de2d535b33914403a140b45a35e16785",
            "value": false
          }
        },
        "7959d7e03522484e950bb60e5d544fbf": {
          "model_module": "@jupyter-widgets/controls",
          "model_module_version": "1.5.0",
          "model_name": "ProgressStyleModel",
          "state": {
            "_model_module": "@jupyter-widgets/controls",
            "_model_module_version": "1.5.0",
            "_model_name": "ProgressStyleModel",
            "_view_count": null,
            "_view_module": "@jupyter-widgets/base",
            "_view_module_version": "1.2.0",
            "_view_name": "StyleView",
            "bar_color": null,
            "description_width": ""
          }
        },
        "7b17e0af1ef2402ab3900ef37b23866d": {
          "model_module": "@jupyter-widgets/controls",
          "model_module_version": "1.5.0",
          "model_name": "FloatProgressModel",
          "state": {
            "_dom_classes": [],
            "_model_module": "@jupyter-widgets/controls",
            "_model_module_version": "1.5.0",
            "_model_name": "FloatProgressModel",
            "_view_count": null,
            "_view_module": "@jupyter-widgets/controls",
            "_view_module_version": "1.5.0",
            "_view_name": "ProgressView",
            "bar_style": "success",
            "description": "",
            "description_tooltip": null,
            "layout": "IPY_MODEL_6cf4bd04ab774d25af72238e0dc47557",
            "max": 442,
            "min": 0,
            "orientation": "horizontal",
            "style": "IPY_MODEL_7002f939130543bdb96d4a65da38ac1e",
            "value": 442
          }
        },
        "7d4e0d3a50b24abda7de92db4bd66766": {
          "model_module": "@jupyter-widgets/controls",
          "model_module_version": "1.5.0",
          "model_name": "DescriptionStyleModel",
          "state": {
            "_model_module": "@jupyter-widgets/controls",
            "_model_module_version": "1.5.0",
            "_model_name": "DescriptionStyleModel",
            "_view_count": null,
            "_view_module": "@jupyter-widgets/base",
            "_view_module_version": "1.2.0",
            "_view_name": "StyleView",
            "description_width": ""
          }
        },
        "82324478663f4833822f33d542b74b84": {
          "model_module": "@jupyter-widgets/controls",
          "model_module_version": "1.5.0",
          "model_name": "VBoxModel",
          "state": {
            "_dom_classes": [
              "widget-interact"
            ],
            "_model_module": "@jupyter-widgets/controls",
            "_model_module_version": "1.5.0",
            "_model_name": "VBoxModel",
            "_view_count": null,
            "_view_module": "@jupyter-widgets/controls",
            "_view_module_version": "1.5.0",
            "_view_name": "VBoxView",
            "box_style": "",
            "children": [
              "IPY_MODEL_ecb505e482974449beb4119c351efc80",
              "IPY_MODEL_5e98e2914138439b80a24f4d2c0734df"
            ],
            "layout": "IPY_MODEL_ad6b2046a65a4273b30157fbbf25cee0"
          }
        },
        "831700bedbfd4a90bd5f2347fdc9e374": {
          "model_module": "@jupyter-widgets/controls",
          "model_module_version": "1.5.0",
          "model_name": "HTMLModel",
          "state": {
            "_dom_classes": [],
            "_model_module": "@jupyter-widgets/controls",
            "_model_module_version": "1.5.0",
            "_model_name": "HTMLModel",
            "_view_count": null,
            "_view_module": "@jupyter-widgets/controls",
            "_view_module_version": "1.5.0",
            "_view_name": "HTMLView",
            "description": "",
            "description_tooltip": null,
            "layout": "IPY_MODEL_1c749a336db24295a7bbe5d492a242d7",
            "placeholder": "​",
            "style": "IPY_MODEL_13e0b59f7ef046839d68258a823641ec",
            "value": " 232k/232k [00:00&lt;00:00, 432kB/s]"
          }
        },
        "84713018f8e8465298e6d55702fe0dc9": {
          "model_module": "@jupyter-widgets/controls",
          "model_module_version": "1.5.0",
          "model_name": "HTMLModel",
          "state": {
            "_dom_classes": [],
            "_model_module": "@jupyter-widgets/controls",
            "_model_module_version": "1.5.0",
            "_model_name": "HTMLModel",
            "_view_count": null,
            "_view_module": "@jupyter-widgets/controls",
            "_view_module_version": "1.5.0",
            "_view_name": "HTMLView",
            "description": "",
            "description_tooltip": null,
            "layout": "IPY_MODEL_c744ec5a1b934ecc90ae5c8ee96e5eae",
            "placeholder": "​",
            "style": "IPY_MODEL_d80a152b7e964720b495d1a7508a27c7",
            "value": "Downloading: 100%"
          }
        },
        "84adcbf0f8414b4ca2163a9422ce46e6": {
          "model_module": "@jupyter-widgets/base",
          "model_module_version": "1.2.0",
          "model_name": "LayoutModel",
          "state": {
            "_model_module": "@jupyter-widgets/base",
            "_model_module_version": "1.2.0",
            "_model_name": "LayoutModel",
            "_view_count": null,
            "_view_module": "@jupyter-widgets/base",
            "_view_module_version": "1.2.0",
            "_view_name": "LayoutView",
            "align_content": null,
            "align_items": null,
            "align_self": null,
            "border": null,
            "bottom": null,
            "display": null,
            "flex": null,
            "flex_flow": null,
            "grid_area": null,
            "grid_auto_columns": null,
            "grid_auto_flow": null,
            "grid_auto_rows": null,
            "grid_column": null,
            "grid_gap": null,
            "grid_row": null,
            "grid_template_areas": null,
            "grid_template_columns": null,
            "grid_template_rows": null,
            "height": null,
            "justify_content": null,
            "justify_items": null,
            "left": null,
            "margin": null,
            "max_height": null,
            "max_width": null,
            "min_height": null,
            "min_width": null,
            "object_fit": null,
            "object_position": null,
            "order": null,
            "overflow": null,
            "overflow_x": null,
            "overflow_y": null,
            "padding": null,
            "right": null,
            "top": null,
            "visibility": null,
            "width": null
          }
        },
        "89157c9e1ce94435a2169316059bfe9b": {
          "model_module": "@jupyter-widgets/controls",
          "model_module_version": "1.5.0",
          "model_name": "ProgressStyleModel",
          "state": {
            "_model_module": "@jupyter-widgets/controls",
            "_model_module_version": "1.5.0",
            "_model_name": "ProgressStyleModel",
            "_view_count": null,
            "_view_module": "@jupyter-widgets/base",
            "_view_module_version": "1.2.0",
            "_view_name": "StyleView",
            "bar_color": null,
            "description_width": ""
          }
        },
        "8b72be8c844d4092be2c0128c8228ce4": {
          "model_module": "@jupyter-widgets/controls",
          "model_module_version": "1.5.0",
          "model_name": "IntSliderModel",
          "state": {
            "_dom_classes": [],
            "_model_module": "@jupyter-widgets/controls",
            "_model_module_version": "1.5.0",
            "_model_name": "IntSliderModel",
            "_view_count": null,
            "_view_module": "@jupyter-widgets/controls",
            "_view_module_version": "1.5.0",
            "_view_name": "IntSliderView",
            "continuous_update": true,
            "description": "min_freq",
            "description_tooltip": null,
            "disabled": false,
            "layout": "IPY_MODEL_c9c03af783b44f76a4f18e245e61670b",
            "max": 388,
            "min": 0,
            "orientation": "horizontal",
            "readout": true,
            "readout_format": "d",
            "step": 1,
            "style": "IPY_MODEL_fb9a1f1477884b8dab5a335304bd7114",
            "value": 75
          }
        },
        "8ef31c66853e41c39838aa453bb10cf8": {
          "model_module": "@jupyter-widgets/output",
          "model_module_version": "1.0.0",
          "model_name": "OutputModel",
          "state": {
            "_dom_classes": [],
            "_model_module": "@jupyter-widgets/output",
            "_model_module_version": "1.0.0",
            "_model_name": "OutputModel",
            "_view_count": null,
            "_view_module": "@jupyter-widgets/output",
            "_view_module_version": "1.0.0",
            "_view_name": "OutputView",
            "layout": "IPY_MODEL_5dcbe1e23b9f4d6cb1e714f44f0d7640",
            "msg_id": "",
            "outputs": [
              {
                "name": "stdout",
                "output_type": "stream",
                "text": [
                  "conditional image generation using variational autoencoders gans\n"
                ]
              }
            ]
          }
        },
        "a979085883d94b29965eed642d6efea8": {
          "model_module": "@jupyter-widgets/base",
          "model_module_version": "1.2.0",
          "model_name": "LayoutModel",
          "state": {
            "_model_module": "@jupyter-widgets/base",
            "_model_module_version": "1.2.0",
            "_model_name": "LayoutModel",
            "_view_count": null,
            "_view_module": "@jupyter-widgets/base",
            "_view_module_version": "1.2.0",
            "_view_name": "LayoutView",
            "align_content": null,
            "align_items": null,
            "align_self": null,
            "border": null,
            "bottom": null,
            "display": null,
            "flex": null,
            "flex_flow": null,
            "grid_area": null,
            "grid_auto_columns": null,
            "grid_auto_flow": null,
            "grid_auto_rows": null,
            "grid_column": null,
            "grid_gap": null,
            "grid_row": null,
            "grid_template_areas": null,
            "grid_template_columns": null,
            "grid_template_rows": null,
            "height": null,
            "justify_content": null,
            "justify_items": null,
            "left": null,
            "margin": null,
            "max_height": null,
            "max_width": null,
            "min_height": null,
            "min_width": null,
            "object_fit": null,
            "object_position": null,
            "order": null,
            "overflow": null,
            "overflow_x": null,
            "overflow_y": null,
            "padding": null,
            "right": null,
            "top": null,
            "visibility": null,
            "width": null
          }
        },
        "aa909c62a9914429ab1a10f9556a8198": {
          "model_module": "@jupyter-widgets/controls",
          "model_module_version": "1.5.0",
          "model_name": "HTMLModel",
          "state": {
            "_dom_classes": [],
            "_model_module": "@jupyter-widgets/controls",
            "_model_module_version": "1.5.0",
            "_model_name": "HTMLModel",
            "_view_count": null,
            "_view_module": "@jupyter-widgets/controls",
            "_view_module_version": "1.5.0",
            "_view_name": "HTMLView",
            "description": "",
            "description_tooltip": null,
            "layout": "IPY_MODEL_b1cdc20cbf344642ae312165eeb02203",
            "placeholder": "​",
            "style": "IPY_MODEL_54b170fed0dd4bc393ee551418318fc8",
            "value": "Downloading: 100%"
          }
        },
        "ad6b2046a65a4273b30157fbbf25cee0": {
          "model_module": "@jupyter-widgets/base",
          "model_module_version": "1.2.0",
          "model_name": "LayoutModel",
          "state": {
            "_model_module": "@jupyter-widgets/base",
            "_model_module_version": "1.2.0",
            "_model_name": "LayoutModel",
            "_view_count": null,
            "_view_module": "@jupyter-widgets/base",
            "_view_module_version": "1.2.0",
            "_view_name": "LayoutView",
            "align_content": null,
            "align_items": null,
            "align_self": null,
            "border": null,
            "bottom": null,
            "display": null,
            "flex": null,
            "flex_flow": null,
            "grid_area": null,
            "grid_auto_columns": null,
            "grid_auto_flow": null,
            "grid_auto_rows": null,
            "grid_column": null,
            "grid_gap": null,
            "grid_row": null,
            "grid_template_areas": null,
            "grid_template_columns": null,
            "grid_template_rows": null,
            "height": null,
            "justify_content": null,
            "justify_items": null,
            "left": null,
            "margin": null,
            "max_height": null,
            "max_width": null,
            "min_height": null,
            "min_width": null,
            "object_fit": null,
            "object_position": null,
            "order": null,
            "overflow": null,
            "overflow_x": null,
            "overflow_y": null,
            "padding": null,
            "right": null,
            "top": null,
            "visibility": null,
            "width": null
          }
        },
        "b1cdc20cbf344642ae312165eeb02203": {
          "model_module": "@jupyter-widgets/base",
          "model_module_version": "1.2.0",
          "model_name": "LayoutModel",
          "state": {
            "_model_module": "@jupyter-widgets/base",
            "_model_module_version": "1.2.0",
            "_model_name": "LayoutModel",
            "_view_count": null,
            "_view_module": "@jupyter-widgets/base",
            "_view_module_version": "1.2.0",
            "_view_name": "LayoutView",
            "align_content": null,
            "align_items": null,
            "align_self": null,
            "border": null,
            "bottom": null,
            "display": null,
            "flex": null,
            "flex_flow": null,
            "grid_area": null,
            "grid_auto_columns": null,
            "grid_auto_flow": null,
            "grid_auto_rows": null,
            "grid_column": null,
            "grid_gap": null,
            "grid_row": null,
            "grid_template_areas": null,
            "grid_template_columns": null,
            "grid_template_rows": null,
            "height": null,
            "justify_content": null,
            "justify_items": null,
            "left": null,
            "margin": null,
            "max_height": null,
            "max_width": null,
            "min_height": null,
            "min_width": null,
            "object_fit": null,
            "object_position": null,
            "order": null,
            "overflow": null,
            "overflow_x": null,
            "overflow_y": null,
            "padding": null,
            "right": null,
            "top": null,
            "visibility": null,
            "width": null
          }
        },
        "b64e2fdb5fd64c7d848b7fc823e52c0c": {
          "model_module": "@jupyter-widgets/controls",
          "model_module_version": "1.5.0",
          "model_name": "HBoxModel",
          "state": {
            "_dom_classes": [],
            "_model_module": "@jupyter-widgets/controls",
            "_model_module_version": "1.5.0",
            "_model_name": "HBoxModel",
            "_view_count": null,
            "_view_module": "@jupyter-widgets/controls",
            "_view_module_version": "1.5.0",
            "_view_name": "HBoxView",
            "box_style": "",
            "children": [
              "IPY_MODEL_d15b5725838444de90f9ba181e2f0aaa",
              "IPY_MODEL_3d4c41f0a54346c9b042f7103d1f8968",
              "IPY_MODEL_1e56c875c07d49f09311f2a3a00b564c"
            ],
            "layout": "IPY_MODEL_a979085883d94b29965eed642d6efea8"
          }
        },
        "bb51a172c8e141eaac50da364dbeb23c": {
          "model_module": "@jupyter-widgets/controls",
          "model_module_version": "1.5.0",
          "model_name": "DescriptionStyleModel",
          "state": {
            "_model_module": "@jupyter-widgets/controls",
            "_model_module_version": "1.5.0",
            "_model_name": "DescriptionStyleModel",
            "_view_count": null,
            "_view_module": "@jupyter-widgets/base",
            "_view_module_version": "1.2.0",
            "_view_name": "StyleView",
            "description_width": ""
          }
        },
        "bd7702588efa475f882d480ef54101ae": {
          "model_module": "@jupyter-widgets/controls",
          "model_module_version": "1.5.0",
          "model_name": "HTMLModel",
          "state": {
            "_dom_classes": [],
            "_model_module": "@jupyter-widgets/controls",
            "_model_module_version": "1.5.0",
            "_model_name": "HTMLModel",
            "_view_count": null,
            "_view_module": "@jupyter-widgets/controls",
            "_view_module_version": "1.5.0",
            "_view_name": "HTMLView",
            "description": "",
            "description_tooltip": null,
            "layout": "IPY_MODEL_4a74a206d68a42fcbbe2bcce1073f681",
            "placeholder": "​",
            "style": "IPY_MODEL_0b2feb3c150e4bdaa136351703855a62",
            "value": " 442/442 [00:00&lt;00:00, 12.8kB/s]"
          }
        },
        "c6264d900ff5440cb80d0fb8316a64bd": {
          "model_module": "@jupyter-widgets/base",
          "model_module_version": "1.2.0",
          "model_name": "LayoutModel",
          "state": {
            "_model_module": "@jupyter-widgets/base",
            "_model_module_version": "1.2.0",
            "_model_name": "LayoutModel",
            "_view_count": null,
            "_view_module": "@jupyter-widgets/base",
            "_view_module_version": "1.2.0",
            "_view_name": "LayoutView",
            "align_content": null,
            "align_items": null,
            "align_self": null,
            "border": null,
            "bottom": null,
            "display": null,
            "flex": null,
            "flex_flow": null,
            "grid_area": null,
            "grid_auto_columns": null,
            "grid_auto_flow": null,
            "grid_auto_rows": null,
            "grid_column": null,
            "grid_gap": null,
            "grid_row": null,
            "grid_template_areas": null,
            "grid_template_columns": null,
            "grid_template_rows": null,
            "height": null,
            "justify_content": null,
            "justify_items": null,
            "left": null,
            "margin": null,
            "max_height": null,
            "max_width": null,
            "min_height": null,
            "min_width": null,
            "object_fit": null,
            "object_position": null,
            "order": null,
            "overflow": null,
            "overflow_x": null,
            "overflow_y": null,
            "padding": null,
            "right": null,
            "top": null,
            "visibility": null,
            "width": null
          }
        },
        "c744ec5a1b934ecc90ae5c8ee96e5eae": {
          "model_module": "@jupyter-widgets/base",
          "model_module_version": "1.2.0",
          "model_name": "LayoutModel",
          "state": {
            "_model_module": "@jupyter-widgets/base",
            "_model_module_version": "1.2.0",
            "_model_name": "LayoutModel",
            "_view_count": null,
            "_view_module": "@jupyter-widgets/base",
            "_view_module_version": "1.2.0",
            "_view_name": "LayoutView",
            "align_content": null,
            "align_items": null,
            "align_self": null,
            "border": null,
            "bottom": null,
            "display": null,
            "flex": null,
            "flex_flow": null,
            "grid_area": null,
            "grid_auto_columns": null,
            "grid_auto_flow": null,
            "grid_auto_rows": null,
            "grid_column": null,
            "grid_gap": null,
            "grid_row": null,
            "grid_template_areas": null,
            "grid_template_columns": null,
            "grid_template_rows": null,
            "height": null,
            "justify_content": null,
            "justify_items": null,
            "left": null,
            "margin": null,
            "max_height": null,
            "max_width": null,
            "min_height": null,
            "min_width": null,
            "object_fit": null,
            "object_position": null,
            "order": null,
            "overflow": null,
            "overflow_x": null,
            "overflow_y": null,
            "padding": null,
            "right": null,
            "top": null,
            "visibility": null,
            "width": null
          }
        },
        "c84285e8e2774c3e957bd33cf115025b": {
          "model_module": "@jupyter-widgets/controls",
          "model_module_version": "1.5.0",
          "model_name": "CheckboxModel",
          "state": {
            "_dom_classes": [],
            "_model_module": "@jupyter-widgets/controls",
            "_model_module_version": "1.5.0",
            "_model_name": "CheckboxModel",
            "_view_count": null,
            "_view_module": "@jupyter-widgets/controls",
            "_view_module_version": "1.5.0",
            "_view_name": "CheckboxView",
            "description": "lower",
            "description_tooltip": null,
            "disabled": false,
            "indent": true,
            "layout": "IPY_MODEL_74a79db7c84943c18b8c92e933fd6144",
            "style": "IPY_MODEL_7d4e0d3a50b24abda7de92db4bd66766",
            "value": true
          }
        },
        "c9598f8be72d4243af68b260de8da907": {
          "model_module": "@jupyter-widgets/base",
          "model_module_version": "1.2.0",
          "model_name": "LayoutModel",
          "state": {
            "_model_module": "@jupyter-widgets/base",
            "_model_module_version": "1.2.0",
            "_model_name": "LayoutModel",
            "_view_count": null,
            "_view_module": "@jupyter-widgets/base",
            "_view_module_version": "1.2.0",
            "_view_name": "LayoutView",
            "align_content": null,
            "align_items": null,
            "align_self": null,
            "border": null,
            "bottom": null,
            "display": null,
            "flex": null,
            "flex_flow": null,
            "grid_area": null,
            "grid_auto_columns": null,
            "grid_auto_flow": null,
            "grid_auto_rows": null,
            "grid_column": null,
            "grid_gap": null,
            "grid_row": null,
            "grid_template_areas": null,
            "grid_template_columns": null,
            "grid_template_rows": null,
            "height": null,
            "justify_content": null,
            "justify_items": null,
            "left": null,
            "margin": null,
            "max_height": null,
            "max_width": null,
            "min_height": null,
            "min_width": null,
            "object_fit": null,
            "object_position": null,
            "order": null,
            "overflow": null,
            "overflow_x": null,
            "overflow_y": null,
            "padding": null,
            "right": null,
            "top": null,
            "visibility": null,
            "width": null
          }
        },
        "c9c03af783b44f76a4f18e245e61670b": {
          "model_module": "@jupyter-widgets/base",
          "model_module_version": "1.2.0",
          "model_name": "LayoutModel",
          "state": {
            "_model_module": "@jupyter-widgets/base",
            "_model_module_version": "1.2.0",
            "_model_name": "LayoutModel",
            "_view_count": null,
            "_view_module": "@jupyter-widgets/base",
            "_view_module_version": "1.2.0",
            "_view_name": "LayoutView",
            "align_content": null,
            "align_items": null,
            "align_self": null,
            "border": null,
            "bottom": null,
            "display": null,
            "flex": null,
            "flex_flow": null,
            "grid_area": null,
            "grid_auto_columns": null,
            "grid_auto_flow": null,
            "grid_auto_rows": null,
            "grid_column": null,
            "grid_gap": null,
            "grid_row": null,
            "grid_template_areas": null,
            "grid_template_columns": null,
            "grid_template_rows": null,
            "height": null,
            "justify_content": null,
            "justify_items": null,
            "left": null,
            "margin": null,
            "max_height": null,
            "max_width": null,
            "min_height": null,
            "min_width": null,
            "object_fit": null,
            "object_position": null,
            "order": null,
            "overflow": null,
            "overflow_x": null,
            "overflow_y": null,
            "padding": null,
            "right": null,
            "top": null,
            "visibility": null,
            "width": null
          }
        },
        "d15b5725838444de90f9ba181e2f0aaa": {
          "model_module": "@jupyter-widgets/controls",
          "model_module_version": "1.5.0",
          "model_name": "HTMLModel",
          "state": {
            "_dom_classes": [],
            "_model_module": "@jupyter-widgets/controls",
            "_model_module_version": "1.5.0",
            "_model_name": "HTMLModel",
            "_view_count": null,
            "_view_module": "@jupyter-widgets/controls",
            "_view_module_version": "1.5.0",
            "_view_name": "HTMLView",
            "description": "",
            "description_tooltip": null,
            "layout": "IPY_MODEL_e9b27aea6aaa4e58b15950e30222ef59",
            "placeholder": "​",
            "style": "IPY_MODEL_bb51a172c8e141eaac50da364dbeb23c",
            "value": "Downloading:  60%"
          }
        },
        "d33fe3196a72435fbb121e03e63f5667": {
          "model_module": "@jupyter-widgets/base",
          "model_module_version": "1.2.0",
          "model_name": "LayoutModel",
          "state": {
            "_model_module": "@jupyter-widgets/base",
            "_model_module_version": "1.2.0",
            "_model_name": "LayoutModel",
            "_view_count": null,
            "_view_module": "@jupyter-widgets/base",
            "_view_module_version": "1.2.0",
            "_view_name": "LayoutView",
            "align_content": null,
            "align_items": null,
            "align_self": null,
            "border": null,
            "bottom": null,
            "display": null,
            "flex": null,
            "flex_flow": null,
            "grid_area": null,
            "grid_auto_columns": null,
            "grid_auto_flow": null,
            "grid_auto_rows": null,
            "grid_column": null,
            "grid_gap": null,
            "grid_row": null,
            "grid_template_areas": null,
            "grid_template_columns": null,
            "grid_template_rows": null,
            "height": null,
            "justify_content": null,
            "justify_items": null,
            "left": null,
            "margin": null,
            "max_height": null,
            "max_width": null,
            "min_height": null,
            "min_width": null,
            "object_fit": null,
            "object_position": null,
            "order": null,
            "overflow": null,
            "overflow_x": null,
            "overflow_y": null,
            "padding": null,
            "right": null,
            "top": null,
            "visibility": null,
            "width": null
          }
        },
        "d80a152b7e964720b495d1a7508a27c7": {
          "model_module": "@jupyter-widgets/controls",
          "model_module_version": "1.5.0",
          "model_name": "DescriptionStyleModel",
          "state": {
            "_model_module": "@jupyter-widgets/controls",
            "_model_module_version": "1.5.0",
            "_model_name": "DescriptionStyleModel",
            "_view_count": null,
            "_view_module": "@jupyter-widgets/base",
            "_view_module_version": "1.2.0",
            "_view_name": "StyleView",
            "description_width": ""
          }
        },
        "de2d535b33914403a140b45a35e16785": {
          "model_module": "@jupyter-widgets/controls",
          "model_module_version": "1.5.0",
          "model_name": "DescriptionStyleModel",
          "state": {
            "_model_module": "@jupyter-widgets/controls",
            "_model_module_version": "1.5.0",
            "_model_name": "DescriptionStyleModel",
            "_view_count": null,
            "_view_module": "@jupyter-widgets/base",
            "_view_module_version": "1.2.0",
            "_view_name": "StyleView",
            "description_width": ""
          }
        },
        "e2526ade160b49bea4624fe0466f0d76": {
          "model_module": "@jupyter-widgets/base",
          "model_module_version": "1.2.0",
          "model_name": "LayoutModel",
          "state": {
            "_model_module": "@jupyter-widgets/base",
            "_model_module_version": "1.2.0",
            "_model_name": "LayoutModel",
            "_view_count": null,
            "_view_module": "@jupyter-widgets/base",
            "_view_module_version": "1.2.0",
            "_view_name": "LayoutView",
            "align_content": null,
            "align_items": null,
            "align_self": null,
            "border": null,
            "bottom": null,
            "display": null,
            "flex": null,
            "flex_flow": null,
            "grid_area": null,
            "grid_auto_columns": null,
            "grid_auto_flow": null,
            "grid_auto_rows": null,
            "grid_column": null,
            "grid_gap": null,
            "grid_row": null,
            "grid_template_areas": null,
            "grid_template_columns": null,
            "grid_template_rows": null,
            "height": null,
            "justify_content": null,
            "justify_items": null,
            "left": null,
            "margin": null,
            "max_height": null,
            "max_width": null,
            "min_height": null,
            "min_width": null,
            "object_fit": null,
            "object_position": null,
            "order": null,
            "overflow": null,
            "overflow_x": null,
            "overflow_y": null,
            "padding": null,
            "right": null,
            "top": null,
            "visibility": null,
            "width": null
          }
        },
        "e9b27aea6aaa4e58b15950e30222ef59": {
          "model_module": "@jupyter-widgets/base",
          "model_module_version": "1.2.0",
          "model_name": "LayoutModel",
          "state": {
            "_model_module": "@jupyter-widgets/base",
            "_model_module_version": "1.2.0",
            "_model_name": "LayoutModel",
            "_view_count": null,
            "_view_module": "@jupyter-widgets/base",
            "_view_module_version": "1.2.0",
            "_view_name": "LayoutView",
            "align_content": null,
            "align_items": null,
            "align_self": null,
            "border": null,
            "bottom": null,
            "display": null,
            "flex": null,
            "flex_flow": null,
            "grid_area": null,
            "grid_auto_columns": null,
            "grid_auto_flow": null,
            "grid_auto_rows": null,
            "grid_column": null,
            "grid_gap": null,
            "grid_row": null,
            "grid_template_areas": null,
            "grid_template_columns": null,
            "grid_template_rows": null,
            "height": null,
            "justify_content": null,
            "justify_items": null,
            "left": null,
            "margin": null,
            "max_height": null,
            "max_width": null,
            "min_height": null,
            "min_width": null,
            "object_fit": null,
            "object_position": null,
            "order": null,
            "overflow": null,
            "overflow_x": null,
            "overflow_y": null,
            "padding": null,
            "right": null,
            "top": null,
            "visibility": null,
            "width": null
          }
        },
        "ecb505e482974449beb4119c351efc80": {
          "model_module": "@jupyter-widgets/controls",
          "model_module_version": "1.5.0",
          "model_name": "DropdownModel",
          "state": {
            "_dom_classes": [],
            "_model_module": "@jupyter-widgets/controls",
            "_model_module_version": "1.5.0",
            "_model_name": "DropdownModel",
            "_options_labels": [
              "computer-vision",
              "graph-learning",
              "reinforcement-learning",
              "natural-language-processing",
              "mlops",
              "time-series"
            ],
            "_view_count": null,
            "_view_module": "@jupyter-widgets/controls",
            "_view_module_version": "1.5.0",
            "_view_name": "DropdownView",
            "description": "tag",
            "description_tooltip": null,
            "disabled": false,
            "index": 3,
            "layout": "IPY_MODEL_6e775cb0ca5a40c2b2c4f415ecf5c602",
            "style": "IPY_MODEL_f455b05dd6db43198d6b4ebfd1d6a5be"
          }
        },
        "f455b05dd6db43198d6b4ebfd1d6a5be": {
          "model_module": "@jupyter-widgets/controls",
          "model_module_version": "1.5.0",
          "model_name": "DescriptionStyleModel",
          "state": {
            "_model_module": "@jupyter-widgets/controls",
            "_model_module_version": "1.5.0",
            "_model_name": "DescriptionStyleModel",
            "_view_count": null,
            "_view_module": "@jupyter-widgets/base",
            "_view_module_version": "1.2.0",
            "_view_name": "StyleView",
            "description_width": ""
          }
        },
        "fb9a1f1477884b8dab5a335304bd7114": {
          "model_module": "@jupyter-widgets/controls",
          "model_module_version": "1.5.0",
          "model_name": "SliderStyleModel",
          "state": {
            "_model_module": "@jupyter-widgets/controls",
            "_model_module_version": "1.5.0",
            "_model_name": "SliderStyleModel",
            "_view_count": null,
            "_view_module": "@jupyter-widgets/base",
            "_view_module_version": "1.2.0",
            "_view_name": "StyleView",
            "description_width": "",
            "handle_color": null
          }
        }
      }
    }
  },
  "nbformat": 4,
  "nbformat_minor": 0
}
